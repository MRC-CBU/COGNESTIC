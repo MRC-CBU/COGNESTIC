{
 "cells": [
  {
   "cell_type": "markdown",
   "metadata": {},
   "source": [
    "# Getting started with Diffusion MRI data analysis in dipy\n",
    "\n",
    "In this first tutorial, we will familiarise ourselves with diffusion data. If you are comfortable with working with diffusion data, feel free to run through this section quickly or skip over to Tutorial 2.\n",
    "\n",
    "First, we will set up the paths required to load the data and inspect the contents of the dwi folder for one dataset (sub-01). After running the code in the shell below, you should see a set of files that are obtained from a typical diffusion MRI acquisition. This includes a nii.gz dwi data file, as well as .bval and .bvec files that contain the information on the diffusion-sensitising magnetic field gradients."
   ]
  },
  {
   "cell_type": "code",
   "execution_count": null,
   "metadata": {},
   "outputs": [],
   "source": [
    "import os\n",
    "scripts_dir = os.getcwd()\n",
    "bids_dir = \"../data/bids\"\n",
    "out_dir = \"../data/derivatives\"\n",
    "\n",
    "sub='01'\n",
    "\n",
    "#define path to dwi data\n",
    "dwi_path = f\"{bids_dir}/sub-{sub}/dwi\"\n",
    "\n",
    "#list files in dwi directory\n",
    "for item in os.listdir(dwi_path):\n",
    "    print(item)\n",
    "\n",
    "\n"
   ]
  },
  {
   "cell_type": "markdown",
   "metadata": {},
   "source": [
    "The bval file contains a scalar value for each applied gradient, corresponding to the respective b-value. bvec contains a 3x1 vector for each gradient, indicating the gradient direction. The entries in bval and bvec are as many as the number of volumes in the .nii file. So the ith volume in the data corresponds to a measurement obtained after applying a diffusion-sensitising gradient with a b-value given by the ith entry in bval and a gradient direction given by the ith vector in bvec. "
   ]
  },
  {
   "cell_type": "markdown",
   "metadata": {},
   "source": [
    "## Loading the data\n",
    "\n",
    "There are two sets of data in this folder, one labelled AP and another one PA. For now we will focus on the AP data, but the differences between the two sets of data will be discussed in Tutorial 2. "
   ]
  },
  {
   "cell_type": "code",
   "execution_count": null,
   "metadata": {},
   "outputs": [],
   "source": [
    "#import the relevant modules\n",
    "import numpy as np\n",
    "import dipy\n",
    "from dipy.io.gradients import read_bvals_bvecs\n",
    "from dipy.io.image import load_nifti, save_nifti\n"
   ]
  },
  {
   "cell_type": "code",
   "execution_count": null,
   "metadata": {},
   "outputs": [],
   "source": [
    "#find the relevant files and save file names into specific variables\n",
    "\n",
    "for item in os.listdir(dwi_path):\n",
    "    if item.endswith('AP_dwi.nii'):\n",
    "        dwi_ap_file = item\n",
    "    if item.endswith('AP_dwi.bvec'):\n",
    "        dwi_ap_bvec = item\n",
    "    if item.endswith('AP_dwi.bval'):\n",
    "        dwi_ap_bval = item\n",
    "    if item.endswith('PA_dwi.nii'):\n",
    "        dwi_pa_file = item\n",
    "\n",
    "\n",
    "#load the dwi raw data for phase encoding direction AP\n",
    "dwi_ap_data, dwi_ap_affine = load_nifti(f\"{dwi_path}/{dwi_ap_file}\")\n",
    "\n",
    "#load bvals and bevecs for phase encoding direction AP\n",
    "bvals, bvecs = read_bvals_bvecs(f\"{dwi_path}/{dwi_ap_bval}\", f\"{dwi_path}/{dwi_ap_bvec}\")\n",
    "\n"
   ]
  },
  {
   "cell_type": "markdown",
   "metadata": {},
   "source": [
    "Having loaded the AP_dwi data, and the corresponding bval and bvec files, we can now inspect the shape of each variable to check there are no inconsisencies. The fourth dimension of the data (number of dwi volumes) should match the first dimension for the variables bvals and bvecs. "
   ]
  },
  {
   "cell_type": "code",
   "execution_count": null,
   "metadata": {},
   "outputs": [],
   "source": [
    "#print shape of variable dwi_ap_data, bvals and bvecs\n",
    "print(f\"The shape of the data is: {dwi_ap_data.shape}\")\n",
    "print(f\"The shape of the bvals is: {bvals.shape}\")\n",
    "print(f\"The shape of the bvecs is: {bvecs.shape}\")"
   ]
  },
  {
   "cell_type": "markdown",
   "metadata": {},
   "source": [
    "We can also inspect the contents of the bvals file:"
   ]
  },
  {
   "cell_type": "code",
   "execution_count": null,
   "metadata": {},
   "outputs": [],
   "source": [
    "#inspect contents of bval file\n",
    "print(bvals)\n",
    "\n",
    "#list the unique bvals\n",
    "print(f\"There are {len(np.unique(bvals))} unique b-values: {np.unique(bvals)}\")"
   ]
  },
  {
   "cell_type": "markdown",
   "metadata": {},
   "source": [
    "Next, we can plot specific slices from the DWI data using matplotlib. "
   ]
  },
  {
   "cell_type": "code",
   "execution_count": null,
   "metadata": {},
   "outputs": [],
   "source": [
    "import matplotlib.pyplot as plt\n",
    "from scipy.ndimage import rotate\n",
    "\n",
    "#select the middle slice \n",
    "mid_slice = dwi_ap_data.shape[2] // 2\n",
    "\n",
    "#plot the middle slice from a b=0 volume\n",
    "vol_idx = 0\n",
    "\n",
    "plt.imshow(dwi_ap_data[:,:,mid_slice,vol_idx].T, cmap='gray', origin='lower')\n"
   ]
  },
  {
   "cell_type": "code",
   "execution_count": null,
   "metadata": {},
   "outputs": [],
   "source": [
    "#plot the middle slice from a b=2000 volume\n",
    "slice_idx = 30\n",
    "vol_idx = 33\n",
    "\n",
    "plt.imshow(dwi_ap_data[:,:,slice_idx,vol_idx].T, cmap='gray', origin='lower')"
   ]
  },
  {
   "cell_type": "markdown",
   "metadata": {},
   "source": [
    "For data analysis in dipy we also need to create the gradient table object, which combines the information from the bvals and bvecs file. "
   ]
  },
  {
   "cell_type": "code",
   "execution_count": null,
   "metadata": {},
   "outputs": [],
   "source": [
    "#create the gradient table object\n",
    "\n",
    "from dipy.core.gradients import gradient_table\n",
    "\n",
    "gtab = gradient_table(bvals, bvecs)"
   ]
  },
  {
   "cell_type": "markdown",
   "metadata": {},
   "source": [
    "The gtab object can be useful to quickly inspect information about the data. For example, the attribute \"b0s_mask\" returns a bolean array showing which volumes corresponde to b=0 acquisitions:"
   ]
  },
  {
   "cell_type": "code",
   "execution_count": null,
   "metadata": {},
   "outputs": [],
   "source": [
    "print(gtab.b0s_mask)"
   ]
  },
  {
   "cell_type": "markdown",
   "metadata": {},
   "source": [
    "## EPI distortions and phase-encode direction\n",
    "\n",
    "Earlier we noted that there were two sets of diffusion MRI data, one labelled AP and another one labelled PA. Each set corresponds to a different phase-encode direction: the AP dataset was collected in the anterior to posterior direction, while the PA data was collected with the reversed phase-encode direction. In order to better understand the effect of phase-encode direction on the data, we will plot the same slice for the AP and PA datasets side by side, for a volume without diffusion weighting (b=0 s/mm2). "
   ]
  },
  {
   "cell_type": "code",
   "execution_count": null,
   "metadata": {},
   "outputs": [],
   "source": [
    "#load the dwi raw data for phase encoding direction PA\n",
    "dwi_pa_data, dwi_pa_affine = load_nifti(f\"{dwi_path}/{dwi_pa_file}\")\n",
    "\n",
    "#plot slice 25 of the dwi data for phase encoding direction AP and PA\n",
    "slice_idx = 25\n",
    "\n",
    "#set up the subplots\n",
    "fig, axes = plt.subplots(nrows=1, ncols=2, figsize=(10, 10))\n",
    "\n",
    "axes[0].imshow(dwi_ap_data[:,:,slice_idx, 0].T, cmap='gray', origin='lower')\n",
    "axes[0].set_title(f\"AP dwi data, b-value = 0 s/mm2\")\n",
    "\n",
    "axes[1].imshow(dwi_pa_data[:,:,slice_idx].T, cmap='gray', origin='lower')\n",
    "axes[1].set_title(f\"PA dwi data, b-value = 0 s/mm2\")"
   ]
  },
  {
   "cell_type": "markdown",
   "metadata": {},
   "source": [
    "Notice that as you go to more inferior slices (e.g. slice number 25), the frontal part of the brain starts to appear distorted (e.g. \"squashed\" or \"elongated\"). These distortions are always present in EPI images and are caused by differences in the magnetic susceptibilities of the areas being imaged. Regions that are squashed in the AP data appear elongated in the PA data and vice versa. In Tutorial 2 we will correct these distortions by combining the two b=0 images, as part of the pre-processing pipeline. "
   ]
  },
  {
   "cell_type": "markdown",
   "metadata": {},
   "source": [
    "# Exercises \n",
    "\n",
    "1. Calculate and plot the mean of all b=0 volumes (Hint: use the np.mean() method.) \n",
    "\n",
    "2. Plot the middle slice for a volume corresponding to each of the three b-values: 0, 1000 and 2000 s/mm2. (Hint: use the plt.subplot() method to create subplots.) "
   ]
  }
 ],
 "metadata": {
  "kernelspec": {
   "display_name": "Python 3 (ipykernel)",
   "language": "python",
   "name": "python3"
  },
  "language_info": {
   "codemirror_mode": {
    "name": "ipython",
    "version": 3
   },
   "file_extension": ".py",
   "mimetype": "text/x-python",
   "name": "python",
   "nbconvert_exporter": "python",
   "pygments_lexer": "ipython3",
   "version": "3.11.10"
  }
 },
 "nbformat": 4,
 "nbformat_minor": 4
}
