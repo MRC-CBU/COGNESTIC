{
 "cells": [
  {
   "cell_type": "markdown",
   "id": "c20e8c3f",
   "metadata": {},
   "source": [
    "# Anatomical ROI analysis in FreeSurfer\n",
    "\n",
    "This document includes text and images from the FreeSurfer tutorials. The full official FreeSurfer tutorials are available here:\n",
    "\n",
    "https://surfer.nmr.mgh.harvard.edu/fswiki/Tutorials\n",
    "\n",
    "## Introduction\n",
    "\n",
    "This tutorial gives a brief introduction to anatomical ROI analysis, including understanding FreeSurfer label files, extracting ROI measures from label files, and creating individual and group statistics files for further analyses. \n",
    "\n",
    "Before we get started, we will import some general libraries and set up important paths:\n"
   ]
  },
  {
   "cell_type": "code",
   "execution_count": null,
   "id": "1d46d049",
   "metadata": {},
   "outputs": [],
   "source": [
    "#import necessary libraries\n",
    "\n",
    "import os\n",
    "import subprocess\n",
    "from pathlib import Path\n",
    "from IPython.display import display, HTML\n",
    "import shutil\n",
    "import pandas as pd\n",
    "\n",
    "# Set up paths\n",
    "TUTORIAL_DATA = \"/home/cognestic/COGNESTIC/04_Structural_MRI/CorticalThickness/tutorial_data_20190918_1558\"\n",
    "SUBJECTS_DIR = f\"{TUTORIAL_DATA}/buckner_data/tutorial_subjs\"\n",
    "\n",
    "# Set environment variables for subprocess commands\n",
    "os.environ[\"TUTORIAL_DATA\"] = str(TUTORIAL_DATA)\n",
    "os.environ[\"SUBJECTS_DIR\"] = str(SUBJECTS_DIR)\n"
   ]
  },
  {
   "cell_type": "markdown",
   "id": "4f38fb39",
   "metadata": {},
   "source": [
    "## Set up a terminal window\n",
    "\n",
    "Open a terminal windown and set up the SUBJECTS_DIR environment variable by using the following command:\n",
    "\n",
    "**export SUBJECTS_DIR=/home/cognestic/COGNESTIC/04_Structural_MRI/CorticalThickness/tutorial_data_20190918_1558/buckner_data/tutorial_subjs**\n",
    "\n",
    "And now change directory to the COGNESTIC tutotial data folder:\n",
    "\n",
    "**cd $SUBJECTS_DIR**"
   ]
  },
  {
   "cell_type": "markdown",
   "id": "8ba803a8",
   "metadata": {},
   "source": [
    "## Relationship between segmentation, parcellation and LookUp Table (LUT)\n",
    "\n",
    "In this exercise, you will examine a segmentation, parcellation, and color lookup table to understand how they are related. Move to the terminal window which you set up aboce, and open a test subject (004) in Freeview using the following command and select 'coronal' view at the top menu bar:\n",
    "\n",
    "**freeview -v 004/mri/orig.mgz 004/mri/aparc+aseg.mgz:colormap=lut:opacity=0.4 -f 004/surf/lh.white:annot=aparc.annot**\n",
    "\n",
    "The above command opens the orig and aparc+aseg segmentation volume (aparc+aseg.mgz) as well as the cortical surface parcellation (aparc.annot) on the white surface in the left hemisphere. Note that the default parcellation uses the Desikan/Killiany atlas. There is also the option to use the Destrieux atlas parcellation, where the surface is parcellated into more anatomical regions than the Desikan/Killiany atlas. You should see something similar to the snapshot below:\n",
    "\n",
    "![Example segmentation in coronal view](Freeview_seg_coronal.png)\n",
    "\n",
    "\n",
    "Note: The aparc+aseg.mgz file shows the parcellated cortical ribbon at the same time as the segmented subcortical structures. The colormap=lut tells Freeview to display the aparc+aseg.mgz file with colors according to the look up table (LUT). The aparc+aseg.mgz uses the Desikan-Killiany atlas. To see the Destrieux atlas, you would load fsaverage/mri/aparc.a2009s+aseg.mgz \n",
    "\n",
    "Now lets display the contents of the LUT: "
   ]
  },
  {
   "cell_type": "code",
   "execution_count": null,
   "id": "d58f1246",
   "metadata": {},
   "outputs": [],
   "source": [
    "# Get path to the LUT file\n",
    "freesurfer_home = os.environ.get(\"FREESURFER_HOME\")\n",
    "if freesurfer_home:\n",
    "    color_lut_path = Path(freesurfer_home) / \"FreeSurferColorLUT.txt\"\n",
    "    if color_lut_path.exists():\n",
    "        with open(color_lut_path) as f:\n",
    "            content = f.read()\n",
    "        \n",
    "        # Display in a scrollable HTML box\n",
    "        display(HTML(f\"\"\"\n",
    "        <div style=\"border:1px solid #ccc; padding:10px; height:300px; overflow:auto; white-space:pre-wrap; font-family:monospace\">\n",
    "            {content}\n",
    "        </div>\n",
    "        \"\"\"))\n",
    "    else:\n",
    "        print(\"Warning: FreeSurferColorLUT.txt not found.\")\n",
    "else:\n",
    "    print(\"Warning: FREESURFER_HOME environment variable not set.\")"
   ]
  },
  {
   "cell_type": "markdown",
   "id": "1412449a",
   "metadata": {},
   "source": [
    "### Exercise 1: Navigating between freeview and the LUT\n",
    "\n",
    "1.\tChoose the coronal view and click on a cortical structure in the brain. \n",
    "2.\tSee the structure name next to 'aparc+aseg' in the Cursor section below the main viewing window. For example, it may say ctx-lh-precentral. Notice which hemisphere is specified. \n",
    "3.\tLook at the number listed immediately after the 'aparc+aseg'. For example, it may say 1024. \n",
    "4.\tFind that value in the LUT, which you have opened using the command mentioned above. \n",
    "5.\tVerify that it is the same structure you chose in freeview. \n",
    "6.\tDo the same with a subcortical structure of your choice. \n",
    "\n",
    "You can close freeview once you are done. \n",
    "\n"
   ]
  },
  {
   "cell_type": "markdown",
   "id": "d1905edd",
   "metadata": {},
   "source": [
    "## Individual Stats files\n",
    "\n",
    "During the FreeSurfer processing stream, via the recon-all script, some statistical output files are generated. They are kept in each subjects' stats/ subdirectory and are generated for the subcortical segmentation (aseg) and the cortical parcellation (aparc). These tables include information on each labeled region for the individual subject. \n",
    "\n",
    "You can view these output files via the terminal or a text editor. \n",
    "\n",
    "### aseg.stats\n",
    "\n",
    "The statistical output from the subcortical segmentation, called aseg.stats, is a regular text file and will contain the volumes of specific structures. For example, you can obtain information such as the volume of left hippocampus and its mean intensity from this file. \n"
   ]
  },
  {
   "cell_type": "code",
   "execution_count": null,
   "id": "6ed30dc3",
   "metadata": {},
   "outputs": [],
   "source": [
    "# Look through the aseg.stats file for subject 004\n",
    "subject_id = \"004\"\n",
    "aseg_stats_path = Path(SUBJECTS_DIR) / subject_id / \"stats\" / \"aseg.stats\"\n",
    "\n",
    "# Display full contents in a scrollable box\n",
    "if aseg_stats_path.exists():\n",
    "    with open(aseg_stats_path) as f:\n",
    "        content = f.read()\n",
    "\n",
    "    display(HTML(f\"\"\"\n",
    "    <div style=\"border:1px solid #ccc; padding:10px; height:400px; overflow:auto; white-space:pre-wrap; font-family:monospace\">\n",
    "        {content}\n",
    "    </div>\n",
    "    \"\"\"))\n",
    "else:\n",
    "    print(f\"Warning: aseg.stats not found for subject {subject_id}.\")"
   ]
  },
  {
   "cell_type": "markdown",
   "id": "313a4e60",
   "metadata": {},
   "source": [
    "At the head of the text file there will be information about the command that was run, the version used, the user who ran it and a time stamp. Following this there is information about the volume of the entire brain. \n",
    "\n",
    "The next section of this file defines the column headers, field name, and units for the rest of the table. We can expect to see the Segmentation Id, Number of Voxels, Volume, Structure Name, Intensity normMean, Intensity normStdDev, Intensity normMin, Intensity normMax, and Intensity normRange for each entry in the table. \n",
    "\n",
    "The \"norm\" stats are extracted for each segmented structure from $SUBJECTS_DIR/004/mri/norm.mgz.\n",
    "\n",
    "The remainder of the table shows this information for all the structures that are labeled in the aseg. If you open the aseg.stats file with a text editor, you may find the various headings don't line up perfectly. This is because the text file is formatted for spreadsheet programs. \n",
    "\n",
    "### aparc.stats\n",
    "\n",
    "The statistical output from the cortical parcellation, called lh.aparc.stats and rh.aparc.stats, is a regular text file and will contain the thickness of specific structures. For example, you can obtain information such as, how big is left superior temporal gyrus and its average thickness from this file. \n",
    "\n"
   ]
  },
  {
   "cell_type": "code",
   "execution_count": null,
   "id": "ba4fed81",
   "metadata": {},
   "outputs": [],
   "source": [
    "# Look through the lh.aparc.stats file for subject 004\n",
    "subject_id = \"004\"\n",
    "lh_aparc_stats_path = Path(SUBJECTS_DIR) / subject_id / \"stats\" / \"lh.aparc.stats\"\n",
    "\n",
    "# Display full contents in a scrollable box\n",
    "if lh_aparc_stats_path.exists():\n",
    "    with open(lh_aparc_stats_path) as f:\n",
    "        content = f.read()\n",
    "\n",
    "    display(HTML(f\"\"\"\n",
    "    <div style=\"border:1px solid #ccc; padding:10px; height:400px; overflow:auto; white-space:pre-wrap; font-family:monospace\">\n",
    "        {content}\n",
    "    </div>\n",
    "    \"\"\"))\n",
    "else:\n",
    "    print(f\"Warning: lh.aparc.stats not found for subject {subject_id}.\")"
   ]
  },
  {
   "cell_type": "markdown",
   "id": "47800ec5",
   "metadata": {},
   "source": [
    "This file takes the same format as the aseg.stats. The measures at the top show the number of vertices in the cortex (NumVert) and the surface area of the cortex (SurfArea). This part of the file also tells us that the lh.aparc.annot is being used as the annotation file (AnnotationFile ../label/lh.aparc.annot).\n",
    "\n",
    "The next section of this file defines the column headers, field name, and units for the rest of the table. We can expect to see the Structure Name, Number of Vertices, Surface Area, Gray Matter Volume, Average Thickness, Thickness StDev, Integrated Rectified Mean Curvature, Integrated Rectified Gaussian Curvature, Folding Index and Intrinsic Curvature Index for each entry in the table.\n",
    "\n",
    "The remainder of the table shows this information for all the structures that are labeled in the aparc. \n",
    "\n",
    "## Group stats files\n",
    "\n",
    "This section will run you through using the stats directory of the subjects to perform group stats of certain structures that may be of interest to your study. The following commands will help you combine the data of the subjects you are analyzing into one table that will be easily read into a spreadsheet program. We have considered 6 subjects as examples (004, 021, 040, 067, 080, 092) in the following sections. \n",
    "\n",
    "### Table of segmentation volumes\n",
    "\n",
    "This section explains how to create a table of segmentation volumes using the 6 subjects mentioned above. \n",
    "\n"
   ]
  },
  {
   "cell_type": "code",
   "execution_count": null,
   "id": "fd4b1c2f",
   "metadata": {},
   "outputs": [],
   "source": [
    "# Generate aseg volume table\n",
    "sub_ids = [\"004\", \"021\", \"040\", \"067\", \"080\", \"092\"]\n",
    "seg_nos = [\"11\", \"17\", \"18\"]\n",
    "aseg_table = \"aseg.vol.table\"\n",
    "\n",
    "# Build the command\n",
    "aseg_cmd = [\n",
    "    \"asegstats2table\",\n",
    "    \"--subjects\", *sub_ids,\n",
    "    \"--segno\", *seg_nos,\n",
    "    \"--tablefile\", aseg_table\n",
    "]\n",
    "\n",
    "# Run the command\n",
    "subprocess.run(aseg_cmd, check=True)\n",
    "print(f\"\\nCreated aseg volume table (segno 11, 17, 18): {aseg_table}\")"
   ]
  },
  {
   "cell_type": "markdown",
   "id": "bd69eab7",
   "metadata": {},
   "source": [
    "The input for the --segno flag correspond to the segmentation label of left caudate, left hippocampus, and left amygdala, respectively. (You can create a table with all of the labels, not just these three, by omitting the --segno part.) \n",
    "\n",
    "Use the link below if you would like to view the list of labels and their corresponding Look Up Table ID numbers again:\n",
    "\n",
    "https://surfer.nmr.mgh.harvard.edu/fswiki/FsTutorial/AnatomicalROI/FreeSurferColorLUT\n",
    "\n",
    "The file aseg.vol.table is your output - a text file consisting of the subjects mentioned in the command above and the values for the structures requested along with the measures in the header. The information in this text file is formatted so it can be easily imported into a spreadsheet program (often used as input for many statistical analysis programs). \n",
    "\n",
    "Next we can have a look at the contents of this file:\n"
   ]
  },
  {
   "cell_type": "code",
   "execution_count": null,
   "id": "03852b16",
   "metadata": {},
   "outputs": [],
   "source": [
    "# Read and display aseg.vol.table\n",
    "aseg_df = pd.read_csv(aseg_table, sep='\\t')  # assumes tab-separated file\n",
    "aseg_df.head(6)  # displays the first six rows (all subject in this case since only 6 selected)"
   ]
  },
  {
   "cell_type": "markdown",
   "id": "108ea993",
   "metadata": {},
   "source": [
    "In the table, the first cell is volume indicating that the measure is a volume in mm3 for all of the cells to the right. The subject IDs can be found below volume (seen as 4, 21, 40, 67, 80, 92). You'll notice that in the examples we've considered here for asegstats2table, each subject is a 3 digit number (004, 021 etc).\n",
    "\n",
    "### Table of white matter parcellation volumes\n",
    "\n",
    "The purpose of this section is to show how you can change which segmentation atlas you get stats from (and thus which structures): \n"
   ]
  },
  {
   "cell_type": "code",
   "execution_count": null,
   "id": "360ccde9",
   "metadata": {},
   "outputs": [],
   "source": [
    "# Generate white matter parcellation volume table\n",
    "\n",
    "# Define subjects and segmentation IDs for wmparc\n",
    "seg_ids = [\"3007\", \"3021\", \"3022\", \"4022\"]\n",
    "wmparc_table = \"wmparc.vol.table\"\n",
    "\n",
    "# Build the command\n",
    "wmparc_cmd = [\n",
    "    \"asegstats2table\",\n",
    "    \"--subjects\", *sub_ids,\n",
    "    \"--segno\", *seg_ids,\n",
    "    \"--stats\", \"wmparc.stats\",\n",
    "    \"--tablefile\", wmparc_table\n",
    "]\n",
    "\n",
    "# Run the command\n",
    "subprocess.run(wmparc_cmd, check=True)\n",
    "print(f\"\\nCreated white matter parcellation volume table: {wmparc_table}\")"
   ]
  },
  {
   "cell_type": "markdown",
   "id": "2917bef2",
   "metadata": {},
   "source": [
    "### Table of the mean thickness of each cortical parcellation in the Desikan/Killiany atlas\n",
    "\n",
    "This section demonstrates how to create a table of the mean thickness of each cortical parcellation in the DDesikan/Killiany atlas:\n"
   ]
  },
  {
   "cell_type": "code",
   "execution_count": null,
   "id": "0f802e57",
   "metadata": {},
   "outputs": [],
   "source": [
    "# Generate left hemisphere cortical thickness table\n",
    "aparc_table = \"lh.aparc.thickness.table\"\n",
    "\n",
    "# Build the command\n",
    "aparc_cmd = [\n",
    "    \"aparcstats2table\",\n",
    "    \"--hemi\", \"lh\",\n",
    "    \"--subjects\", *sub_ids,\n",
    "    \"--parc\", \"aparc\",\n",
    "    \"--meas\", \"thickness\",\n",
    "    \"--tablefile\", aparc_table\n",
    "]\n",
    "\n",
    "# Run the command\n",
    "subprocess.run(aparc_cmd, check=True)\n",
    "print(f\"\\nCreated left hemisphere cortical thickness table: {aparc_table}\")"
   ]
  },
  {
   "cell_type": "markdown",
   "id": "c0e05b72",
   "metadata": {},
   "source": [
    "### Exercise 2: Inspect the contents of the lh.aparc.thickness.table file\n",
    "\n",
    "1. Open a new cell below and write some code to display the contents of the cortical thinkness summary table you created above.  "
   ]
  }
 ],
 "metadata": {
  "kernelspec": {
   "display_name": "Python (mri)",
   "language": "python",
   "name": "mri"
  },
  "language_info": {
   "codemirror_mode": {
    "name": "ipython",
    "version": 3
   },
   "file_extension": ".py",
   "mimetype": "text/x-python",
   "name": "python",
   "nbconvert_exporter": "python",
   "pygments_lexer": "ipython3",
   "version": "3.11.10"
  }
 },
 "nbformat": 4,
 "nbformat_minor": 5
}
