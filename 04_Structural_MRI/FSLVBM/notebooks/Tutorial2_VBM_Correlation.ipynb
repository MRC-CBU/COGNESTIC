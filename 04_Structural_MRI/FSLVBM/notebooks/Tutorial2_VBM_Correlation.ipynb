{
 "cells": [
  {
   "cell_type": "markdown",
   "metadata": {},
   "source": [
    "# FSL-VBM for Analysis of Correlation between GM density and Age\n",
    "\n",
    "For this analysis we will use the datset data_Age. All of the steps from Tutorial 1 will be repeated for this dataset, but we will need a new design matrix and contrasts file. \n",
    "\n",
    "## Create the design matrix and contrasts files\n",
    "\n",
    "For this analysis we will include one covariate of interest (Age) and one nuisance variable (sex), and therefore the design_ttest2 script will no longer be useful to create the design.mat and design.con files. Instead we will create these files by hand. Detailed instructions on how to do this can be found here:\n",
    "\n",
    "https://fsl.fmrib.ox.ac.uk/fsl/fslwiki/GLM/CreatingDesignMatricesByHand\n",
    "\n",
    "There are three steps involved:\n",
    "\n",
    "1.\tEnter the data for your design matrix, contrasts, or F-tests, using your data-editing tool of choice (e.g. Microsoft Excel, Google docs, Notepad). \n",
    "\n",
    "2.\tSave your data as a plain text file, with columns separated by spaces or tabs - in Excel, saving your file as Text (Tab delimited) should do the trick. \n",
    "\n",
    "3.\tUse the Text2Vest tool, to convert the data into the format used by FSL.\n",
    "\n",
    "Steps 1 and 2 have already been performed for you, and you can find the text files together with the data you downloaded: design_Age.txt and contrasts_Age.txt. Thereefore all we have to do is set up and run the Text2Vest commands: \n"
   ]
  },
  {
   "cell_type": "code",
   "execution_count": null,
   "metadata": {},
   "outputs": [],
   "source": [
    "#import general modules\n",
    "import os\n",
    "import subprocess\n",
    "\n",
    "#set up paths\n",
    "notebook_dir = \"/home/cognestic/COGNESTIC/04_Structural_MRI/FSLVBM/notebooks\"\n",
    "data_dir = \"/home/cognestic/COGNESTIC/04_Structural_MRI/FSLVBM/data\"\n",
    "vbm_dir = f\"{data_dir}/data_Age/FSLVBM\"\n",
    "\n",
    "#set up the command to run Text2Vest to create the design matrix\n",
    "command = f\"Text2Vest {vbm_dir}/design_Age.txt {vbm_dir}/design.mat\"\n",
    "\n",
    "# Execute the command\n",
    "try:\n",
    "    result = subprocess.run(command, shell=True, check=True, text=True, stdout=subprocess.PIPE, stderr=subprocess.PIPE)\n",
    "    print(\"Design matrix created successfullly.\")\n",
    "except subprocess.CalledProcessError as e:\n",
    "    print(f\"An error occurred: {e}\")\n",
    "    print(\"Output:\\n\", e.stdout)\n",
    "    print(\"Errors:\\n\", e.stderr)\n",
    "\n",
    "\n",
    "#set up the command to run Text2Vest to create the contrasts file\n",
    "command = f\"Text2Vest {vbm_dir}/contrasts_Age.txt {vbm_dir}/design.con\"\n",
    "\n",
    "# Execute the command\n",
    "try:\n",
    "    result = subprocess.run(command, shell=True, check=True, text=True, stdout=subprocess.PIPE, stderr=subprocess.PIPE)\n",
    "    print(\"Contrasts file created successfullly.\")\n",
    "except subprocess.CalledProcessError as e:\n",
    "    print(f\"An error occurred: {e}\")\n",
    "    print(\"Output:\\n\", e.stdout)\n",
    "    print(\"Errors:\\n\", e.stderr)"
   ]
  },
  {
   "cell_type": "markdown",
   "metadata": {},
   "source": [
    "If you look at the design.mat file you can see we have three explanatory variables: one for the group (all 1s because this time the data is being analysed as a single group), one for demeaned age, and one for gender (also demeaned). \n"
   ]
  },
  {
   "cell_type": "code",
   "execution_count": null,
   "metadata": {},
   "outputs": [],
   "source": [
    "#Read the design matrix file\n",
    "\n",
    "with open(f\"{vbm_dir}/design.mat\", 'r') as file:\n",
    "    file_content = file.read()\n",
    "\n",
    "print(file_content)   "
   ]
  },
  {
   "cell_type": "markdown",
   "metadata": {},
   "source": [
    "And the contrast file looks like this:"
   ]
  },
  {
   "cell_type": "code",
   "execution_count": null,
   "metadata": {},
   "outputs": [],
   "source": [
    "#Read the design matrix file\n",
    "\n",
    "with open(f\"{vbm_dir}/design.con\", 'r') as file:\n",
    "    file_content = file.read()\n",
    "\n",
    "print(file_content)   "
   ]
  },
  {
   "cell_type": "markdown",
   "metadata": {},
   "source": [
    "Which means that after you run randomise this analysis will generate three satistical maps:\n",
    "\n",
    "* tstat1: group mean\n",
    " \n",
    "* tstat2: positive correlation with age\n",
    "\n",
    "* tstat3: negative correlation with age\n",
    "\n",
    "\n",
    "## Run FSL-VBM \n",
    "\n",
    "Now that we have the design matrix and contrasts files set up for our analysis, we can run the FSL-VBM steps described in Tutorial 1:"
   ]
  },
  {
   "cell_type": "code",
   "execution_count": null,
   "metadata": {},
   "outputs": [],
   "source": [
    "import glob\n",
    "\n",
    "#select files to be included in the template and create the template list file\n",
    "\n",
    "#list the T1 files in FSLVBM directory\n",
    "T1_files = glob.glob(f\"{vbm_dir}/*_MPRAGE.nii\")\n",
    "\n",
    "output_file = f\"{vbm_dir}/template_list\"\n",
    "\n",
    "with open(output_file, \"w\") as file:\n",
    "    for item in T1_files:\n",
    "        file.write(f\"{item[-20:]}\\n\")\n",
    "\n",
    "\n"
   ]
  },
  {
   "cell_type": "markdown",
   "metadata": {},
   "source": [
    "### Check the data"
   ]
  },
  {
   "cell_type": "code",
   "execution_count": null,
   "metadata": {},
   "outputs": [],
   "source": [
    "#change to vbm directory\n",
    "os.chdir(vbm_dir)\n",
    "\n",
    "#check if a slicesdir folder exists within the fslvbm directory, which would suggest that the slicesdir command has been run\n",
    "slicesdir_path = f\"{vbm_dir}/slicesdir\"\n",
    "\n",
    "#if slicesdir has not been run, run it to inspect the FA data\n",
    "if not os.path.exists(slicesdir_path):\n",
    "\n",
    "    #run slicesdir to inspect the T1 data\n",
    "\n",
    "    #set up the command\n",
    "    command = \"slicesdir *.nii\"\n",
    "\n",
    "    # Execute the command\n",
    "    try:\n",
    "        result = subprocess.run(command, shell=True, check=True, text=True, stdout=subprocess.PIPE, stderr=subprocess.PIPE)\n",
    "        html_file = [f for f in os.listdir(f\"{vbm_dir}/slicesdir\") if f.endswith('.html')]\n",
    "        print(f\"slicesdir completed successfully. To visualise the output, open the following link in your browser: file:///{vbm_dir}/slicesdir/{html_file[0]}\")\n",
    "    except subprocess.CalledProcessError as e:\n",
    "        print(f\"An error occurred: {e}\")\n",
    "        print(\"Output:\\n\", e.stdout)\n",
    "        print(\"Errors:\\n\", e.stderr)\n",
    "\n",
    "else:\n",
    "    html_file = [f for f in os.listdir(f\"{vbm_dir}/slicesdir\") if f.endswith('.html')]\n",
    "    print(f\"slicesdir completed successfully. To visualise the output, open the following link in your browser: file:///{vbm_dir}/slicesdir/{html_file[0]}\")\n",
    "\n"
   ]
  },
  {
   "cell_type": "markdown",
   "metadata": {},
   "source": [
    "### fslvbm_1_bet"
   ]
  },
  {
   "cell_type": "code",
   "execution_count": null,
   "metadata": {},
   "outputs": [],
   "source": [
    "#change to vbm directory\n",
    "os.chdir(vbm_dir)\n",
    "\n",
    "#check if a struct folder exists within the fslvbm directory, which would suggest that the fslvbm_1_bet command has been run\n",
    "struc_path = f\"{vbm_dir}/struc\"\n",
    "\n",
    "#if fslvbm_1_bet has not been run, run it now \n",
    "if not os.path.exists(struc_path):\n",
    "\n",
    "    #run fslvbm_1_bet\n",
    "\n",
    "    #set up the command\n",
    "    command = \"fslvbm_1_bet -N\"\n",
    "\n",
    "    # Execute the command\n",
    "    try:\n",
    "        result = subprocess.run(command, shell=True, check=True, text=True, stdout=subprocess.PIPE, stderr=subprocess.PIPE)\n",
    "        print('fslvbm_1_bet completed successfully.')\n",
    "    except subprocess.CalledProcessError as e:\n",
    "        print(f\"An error occurred: {e}\")\n",
    "        print(\"Output:\\n\", e.stdout)\n",
    "        print(\"Errors:\\n\", e.stderr)\n",
    "\n"
   ]
  },
  {
   "cell_type": "markdown",
   "metadata": {},
   "source": [
    "### tbss_2_template"
   ]
  },
  {
   "cell_type": "code",
   "execution_count": null,
   "metadata": {},
   "outputs": [],
   "source": [
    "#change to vbm directory\n",
    "os.chdir(vbm_dir)\n",
    "\n",
    "#check if the file template_GM.nii.gz exists within the fslvbm/struc directory, which would suggest that the fslvbm_2_template command has been run\n",
    "template_path = f\"{vbm_dir}/struc/template_GM.nii.gz\"\n",
    "\n",
    "#if tbss_2_template has not been run, run it now\n",
    "if not os.path.exists(template_path):\n",
    "\n",
    "    #run fslvbm_2_template\n",
    "\n",
    "    #set up the command\n",
    "    command = \"fslvbm_2_template -n\"\n",
    "\n",
    "    # Execute the command\n",
    "    try:\n",
    "        result = subprocess.run(command, shell=True, check=True, text=True, stdout=subprocess.PIPE, stderr=subprocess.PIPE)\n",
    "        print('fslvbm_2_template completed successfully.')\n",
    "    except subprocess.CalledProcessError as e:\n",
    "        print(f\"An error occurred: {e}\")\n",
    "        print(\"Output:\\n\", e.stdout)\n",
    "        print(\"Errors:\\n\", e.stderr)\n",
    "\n"
   ]
  },
  {
   "cell_type": "markdown",
   "metadata": {},
   "source": [
    "### tbss_3_proc"
   ]
  },
  {
   "cell_type": "code",
   "execution_count": null,
   "metadata": {},
   "outputs": [],
   "source": [
    "#change to vbm directory\n",
    "os.chdir(vbm_dir)\n",
    "\n",
    "#check if the directory stats exists within the fslvbm directory, which would suggest that the fslvbm_3_proc command has been run\n",
    "stats_path = f\"{vbm_dir}/stats\"\n",
    "\n",
    "#if tbss_3_proc has not been run, run it now\n",
    "if not os.path.exists(stats_path):\n",
    "\n",
    "    #run fslvbm_3_proc\n",
    "\n",
    "    #set up the command\n",
    "    command = \"fslvbm_3_proc\"\n",
    "\n",
    "    # Execute the command\n",
    "    try:\n",
    "        result = subprocess.run(command, shell=True, check=True, text=True, stdout=subprocess.PIPE, stderr=subprocess.PIPE)\n",
    "        print('fslvbm_3_proc completed successfully.')\n",
    "    except subprocess.CalledProcessError as e:\n",
    "        print(f\"An error occurred: {e}\")\n",
    "        print(\"Output:\\n\", e.stdout)\n",
    "        print(\"Errors:\\n\", e.stderr)\n",
    "\n"
   ]
  },
  {
   "cell_type": "markdown",
   "metadata": {},
   "source": [
    "### Statistical inference using randomise"
   ]
  },
  {
   "cell_type": "code",
   "execution_count": null,
   "metadata": {},
   "outputs": [],
   "source": [
    "#change into the stats directory\n",
    "os.chdir(f\"{vbm_dir}/stats\")\n",
    "\n",
    "#check if the fslvbm_tfce_corrp_tstat1.nii.gz file exists within the fslvbm/stats directory, which would suggest that the randomise step has been run \n",
    "corrp_file_path = f\"{vbm_dir}/stats/fslvbm_age_tfce_corrp_tstat1.nii.gz\"\n",
    "\n",
    "#if the skeletonised data does not exist, run randomise\n",
    "if not os.path.exists(corrp_file_path):\n",
    "\n",
    "    #set up the command to run randomise with 500 permutations\n",
    "    command = (\n",
    "        f'randomise -i GM_mod_merg_s3 '\n",
    "        f'-o fslvbm_age '\n",
    "        f'-m GM_mask '\n",
    "        f'-d design.mat '\n",
    "        f'-t design.con '\n",
    "        f'-n 500 '\n",
    "        f'-T'  \n",
    "    )\n",
    "\n",
    "    # Execute the command\n",
    "    try:\n",
    "        result = subprocess.run(command, shell=True, check=True, text=True, stdout=subprocess.PIPE, stderr=subprocess.PIPE)\n",
    "        print('randomise completed successfully.')\n",
    "    except subprocess.CalledProcessError as e:\n",
    "        print(f\"An error occurred: {e}\")\n",
    "        print(\"Output:\\n\", e.stdout)\n",
    "        print(\"Errors:\\n\", e.stderr)"
   ]
  },
  {
   "cell_type": "markdown",
   "metadata": {},
   "source": [
    "## Visualise the results\n",
    "\n",
    "When ranomise has finished you can look at the results. First, we will look at the brain regions showing a positive correlation with age:"
   ]
  },
  {
   "cell_type": "code",
   "execution_count": null,
   "metadata": {},
   "outputs": [],
   "source": [
    "import numpy as np\n",
    "from nilearn import image, plotting\n",
    "import matplotlib.pyplot as plt\n",
    "\n",
    "#path to FSLDIR\n",
    "fsldir_path = os.environ.get('FSLDIR')\n",
    "\n",
    "# Load the images\n",
    "background_img = image.load_img(f\"{fsldir_path}/data/standard/MNI152_T1_1mm.nii.gz\")\n",
    "overlay_img = image.load_img(f\"{vbm_dir}/stats/fslvbm_age_tfce_corrp_tstat2.nii.gz\")\n",
    "\n",
    "#theshold the significance map to show only values between 0.95 and 1 to keep only significant voxels\n",
    "data = overlay_img.get_fdata()\n",
    "thresholded_data = np.where((data >= 0.95) & (data <= 1), data, 0)\n",
    "\n",
    "# Create a new Nilearn image object with the thresholded data\n",
    "thresholded_img = image.new_img_like(overlay_img, thresholded_data)\n",
    "\n",
    "# Plotting the background image with the overlay\n",
    "display = plotting.plot_anat(background_img, display_mode='ortho')\n",
    "display.add_overlay(thresholded_img, cmap=plt.cm.hot, transparency=0.7)  # Using 'hot' colormap\n",
    "\n",
    "# Show the plot\n",
    "plt.show()"
   ]
  },
  {
   "cell_type": "markdown",
   "metadata": {},
   "source": [
    "And the regions showing negative correlations with age are shown below:"
   ]
  },
  {
   "cell_type": "code",
   "execution_count": null,
   "metadata": {},
   "outputs": [],
   "source": [
    "# Load the images\n",
    "overlay_img = image.load_img(f\"{vbm_dir}/stats/fslvbm_age_tfce_corrp_tstat3.nii.gz\")\n",
    "\n",
    "#theshold the significance map to show only values between 0.95 and 1 to keep only significant voxels\n",
    "data = overlay_img.get_fdata()\n",
    "thresholded_data = np.where((data >= 0.95) & (data <= 1), data, 0)\n",
    "\n",
    "# Create a new Nilearn image object with the thresholded data\n",
    "thresholded_img = image.new_img_like(overlay_img, thresholded_data)\n",
    "\n",
    "# Plotting the background image with the overlay\n",
    "display = plotting.plot_anat(background_img, display_mode='ortho')\n",
    "display.add_overlay(thresholded_img, cmap=plt.cm.winter_r, transparency=0.7)  # Using 'winter' colormap\n",
    "\n",
    "# Show the plot\n",
    "plt.show()"
   ]
  }
 ],
 "metadata": {
  "kernelspec": {
   "display_name": "Python 3 (ipykernel)",
   "language": "python",
   "name": "python3"
  },
  "language_info": {
   "codemirror_mode": {
    "name": "ipython",
    "version": 3
   },
   "file_extension": ".py",
   "mimetype": "text/x-python",
   "name": "python",
   "nbconvert_exporter": "python",
   "pygments_lexer": "ipython3",
   "version": "3.11.10"
  }
 },
 "nbformat": 4,
 "nbformat_minor": 4
}
