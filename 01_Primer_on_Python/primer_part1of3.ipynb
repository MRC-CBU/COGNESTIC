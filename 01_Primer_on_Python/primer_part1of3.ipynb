{
 "cells": [
  {
   "cell_type": "markdown",
   "id": "e7c56830-9a51-4c3a-93bf-52ad9eabd7e3",
   "metadata": {},
   "source": [
    "# Primer on Python - Part 1 of 3\n",
    "\n",
    "This Jupyter notebook is a primer on Python coding for data analysis, written for the Cognitive Neuroimaging Skills Training In Cambridge (COGNESTIC) summer school. The focus is on getting started with Python with minimal jargon, so we will use two common scenarios in cognitive neuroscience – working with fMRI events files and working with correlation matrices – as illustrative examples. Along the way, we will cover basic programming concepts such as variables, loops, conditional statements, functions, etc., and at the end of each part, we will put the different snippets together in the form of a complete script. We will use Python (3.11+) and popular libraries pandas, numpy, matplotlib and seaborn. "
   ]
  },
  {
   "cell_type": "markdown",
   "id": "2e5c8d36-7e15-4291-bcd7-f561be61e830",
   "metadata": {
    "slideshow": {
     "slide_type": ""
    },
    "tags": []
   },
   "source": [
    "In this first part, we will use the **pandas** library to:\n",
    "1. Get data from files\n",
    "2. Access and manipulate data\n",
    "3. Save outputs to files\n",
    "\n",
    "Pandas is a Python library used for working with data sets. It is conceptually similar to working with R dataframes."
   ]
  },
  {
   "cell_type": "markdown",
   "id": "3dacd34b-22bf-45da-82f5-f650f87cc129",
   "metadata": {
    "slideshow": {
     "slide_type": ""
    },
    "tags": []
   },
   "source": [
    "# 1. Read data from files"
   ]
  },
  {
   "cell_type": "markdown",
   "id": "1ad5462e-610a-441f-be06-2dce35a35567",
   "metadata": {
    "slideshow": {
     "slide_type": ""
    },
    "tags": []
   },
   "source": [
    "## At its simplest:"
   ]
  },
  {
   "cell_type": "code",
   "execution_count": 5,
   "id": "37348bba-e863-49f4-a2a1-a8109b653f54",
   "metadata": {},
   "outputs": [
    {
     "data": {
      "text/html": [
       "<div>\n",
       "<style scoped>\n",
       "    .dataframe tbody tr th:only-of-type {\n",
       "        vertical-align: middle;\n",
       "    }\n",
       "\n",
       "    .dataframe tbody tr th {\n",
       "        vertical-align: top;\n",
       "    }\n",
       "\n",
       "    .dataframe thead th {\n",
       "        text-align: right;\n",
       "    }\n",
       "</style>\n",
       "<table border=\"1\" class=\"dataframe\">\n",
       "  <thead>\n",
       "    <tr style=\"text-align: right;\">\n",
       "      <th></th>\n",
       "      <th>onset</th>\n",
       "      <th>duration</th>\n",
       "      <th>circle_duration</th>\n",
       "      <th>stim_type</th>\n",
       "      <th>trigger</th>\n",
       "      <th>button_pushed</th>\n",
       "      <th>response_time</th>\n",
       "      <th>stim_file</th>\n",
       "    </tr>\n",
       "  </thead>\n",
       "  <tbody>\n",
       "    <tr>\n",
       "      <th>0</th>\n",
       "      <td>0.000</td>\n",
       "      <td>0.983</td>\n",
       "      <td>0.492</td>\n",
       "      <td>SCRAMBLED</td>\n",
       "      <td>17</td>\n",
       "      <td>7</td>\n",
       "      <td>1.553</td>\n",
       "      <td>func/s008.bmp</td>\n",
       "    </tr>\n",
       "    <tr>\n",
       "      <th>1</th>\n",
       "      <td>3.240</td>\n",
       "      <td>0.971</td>\n",
       "      <td>0.488</td>\n",
       "      <td>SCRAMBLED</td>\n",
       "      <td>17</td>\n",
       "      <td>7</td>\n",
       "      <td>1.904</td>\n",
       "      <td>func/s004.bmp</td>\n",
       "    </tr>\n",
       "    <tr>\n",
       "      <th>2</th>\n",
       "      <td>6.498</td>\n",
       "      <td>0.832</td>\n",
       "      <td>0.409</td>\n",
       "      <td>SCRAMBLED</td>\n",
       "      <td>18</td>\n",
       "      <td>4</td>\n",
       "      <td>1.548</td>\n",
       "      <td>func/s004.bmp</td>\n",
       "    </tr>\n",
       "    <tr>\n",
       "      <th>3</th>\n",
       "      <td>9.538</td>\n",
       "      <td>0.898</td>\n",
       "      <td>0.441</td>\n",
       "      <td>FAMOUS</td>\n",
       "      <td>5</td>\n",
       "      <td>4</td>\n",
       "      <td>1.685</td>\n",
       "      <td>func/f002.bmp</td>\n",
       "    </tr>\n",
       "    <tr>\n",
       "      <th>4</th>\n",
       "      <td>12.644</td>\n",
       "      <td>0.993</td>\n",
       "      <td>0.445</td>\n",
       "      <td>FAMOUS</td>\n",
       "      <td>6</td>\n",
       "      <td>4</td>\n",
       "      <td>1.482</td>\n",
       "      <td>func/f002.bmp</td>\n",
       "    </tr>\n",
       "    <tr>\n",
       "      <th>...</th>\n",
       "      <td>...</td>\n",
       "      <td>...</td>\n",
       "      <td>...</td>\n",
       "      <td>...</td>\n",
       "      <td>...</td>\n",
       "      <td>...</td>\n",
       "      <td>...</td>\n",
       "      <td>...</td>\n",
       "    </tr>\n",
       "    <tr>\n",
       "      <th>95</th>\n",
       "      <td>384.952</td>\n",
       "      <td>0.825</td>\n",
       "      <td>0.475</td>\n",
       "      <td>SCRAMBLED</td>\n",
       "      <td>19</td>\n",
       "      <td>7</td>\n",
       "      <td>1.136</td>\n",
       "      <td>func/s013.bmp</td>\n",
       "    </tr>\n",
       "    <tr>\n",
       "      <th>96</th>\n",
       "      <td>388.008</td>\n",
       "      <td>0.931</td>\n",
       "      <td>0.464</td>\n",
       "      <td>UNFAMILIAR</td>\n",
       "      <td>13</td>\n",
       "      <td>7</td>\n",
       "      <td>1.230</td>\n",
       "      <td>func/u015.bmp</td>\n",
       "    </tr>\n",
       "    <tr>\n",
       "      <th>97</th>\n",
       "      <td>391.266</td>\n",
       "      <td>0.977</td>\n",
       "      <td>0.552</td>\n",
       "      <td>UNFAMILIAR</td>\n",
       "      <td>13</td>\n",
       "      <td>7</td>\n",
       "      <td>0.907</td>\n",
       "      <td>func/u011.bmp</td>\n",
       "    </tr>\n",
       "    <tr>\n",
       "      <th>98</th>\n",
       "      <td>394.506</td>\n",
       "      <td>0.852</td>\n",
       "      <td>0.491</td>\n",
       "      <td>UNFAMILIAR</td>\n",
       "      <td>14</td>\n",
       "      <td>7</td>\n",
       "      <td>1.018</td>\n",
       "      <td>func/u011.bmp</td>\n",
       "    </tr>\n",
       "    <tr>\n",
       "      <th>99</th>\n",
       "      <td>397.128</td>\n",
       "      <td>0.012</td>\n",
       "      <td>0.000</td>\n",
       "      <td>NaN</td>\n",
       "      <td>999</td>\n",
       "      <td>0</td>\n",
       "      <td>0.000</td>\n",
       "      <td>func/Circle.bmp</td>\n",
       "    </tr>\n",
       "  </tbody>\n",
       "</table>\n",
       "<p>100 rows × 8 columns</p>\n",
       "</div>"
      ],
      "text/plain": [
       "      onset  duration  circle_duration   stim_type  trigger  button_pushed  \\\n",
       "0     0.000     0.983            0.492   SCRAMBLED       17              7   \n",
       "1     3.240     0.971            0.488   SCRAMBLED       17              7   \n",
       "2     6.498     0.832            0.409   SCRAMBLED       18              4   \n",
       "3     9.538     0.898            0.441      FAMOUS        5              4   \n",
       "4    12.644     0.993            0.445      FAMOUS        6              4   \n",
       "..      ...       ...              ...         ...      ...            ...   \n",
       "95  384.952     0.825            0.475   SCRAMBLED       19              7   \n",
       "96  388.008     0.931            0.464  UNFAMILIAR       13              7   \n",
       "97  391.266     0.977            0.552  UNFAMILIAR       13              7   \n",
       "98  394.506     0.852            0.491  UNFAMILIAR       14              7   \n",
       "99  397.128     0.012            0.000         NaN      999              0   \n",
       "\n",
       "    response_time        stim_file  \n",
       "0           1.553    func/s008.bmp  \n",
       "1           1.904    func/s004.bmp  \n",
       "2           1.548    func/s004.bmp  \n",
       "3           1.685    func/f002.bmp  \n",
       "4           1.482    func/f002.bmp  \n",
       "..            ...              ...  \n",
       "95          1.136    func/s013.bmp  \n",
       "96          1.230    func/u015.bmp  \n",
       "97          0.907    func/u011.bmp  \n",
       "98          1.018    func/u011.bmp  \n",
       "99          0.000  func/Circle.bmp  \n",
       "\n",
       "[100 rows x 8 columns]"
      ]
     },
     "execution_count": 5,
     "metadata": {},
     "output_type": "execute_result"
    }
   ],
   "source": [
    "import pandas\n",
    "\n",
    "pandas.read_csv('~/COGNESTIC/01_Primer_on_Python/data/sub-04/sub-04_ses-mri_task-facerecognition_run-01_events.tsv', sep='\\t')"
   ]
  },
  {
   "cell_type": "markdown",
   "id": "cea958f6-5d5b-4684-adfd-3c4581423d9b",
   "metadata": {},
   "source": [
    "## Variables in Python:"
   ]
  },
  {
   "cell_type": "markdown",
   "id": "dc1a3072-1944-4897-9f1d-46d50f97fb42",
   "metadata": {},
   "source": [
    "First, let's use variables to define the paths to the project folder, the input folder and the results folder. This makes it easy to reuse a script or to update it if you need to rename folders or move files around.\n",
    "\n",
    "Use a consistent naming style, the preferred format is primarily **lowercase_with_underscores**"
   ]
  },
  {
   "cell_type": "code",
   "execution_count": 8,
   "id": "7f884e28-63ad-479f-9710-346b9ad812fa",
   "metadata": {},
   "outputs": [
    {
     "name": "stdout",
     "output_type": "stream",
     "text": [
      "~/Desktop/Cognestic/data/ ~/Desktop/Cognestic/outputs/\n"
     ]
    }
   ],
   "source": [
    "project = '~/COGNESTIC/01_Primer_on_Python/'\n",
    "\n",
    "inpath = project + 'data/'\n",
    "respath = project + 'outputs/'\n",
    "\n",
    "print(inpath, respath)"
   ]
  },
  {
   "cell_type": "code",
   "execution_count": 9,
   "id": "1d4311c3-b3e3-4533-9c61-ff5abfc2a2d4",
   "metadata": {},
   "outputs": [
    {
     "data": {
      "text/plain": [
       "pandas.core.frame.DataFrame"
      ]
     },
     "execution_count": 9,
     "metadata": {},
     "output_type": "execute_result"
    }
   ],
   "source": [
    "# The code to read a file, now with variables:\n",
    "\n",
    "import pandas as pd\n",
    "\n",
    "filename = 'sub-04/sub-04_ses-mri_task-facerecognition_run-01_events.tsv'\n",
    "\n",
    "df = pd.read_csv(inpath + filename, sep='\\t')\n",
    "\n",
    "type(df)"
   ]
  },
  {
   "cell_type": "markdown",
   "id": "f18facc5-2d1a-4d8e-b114-2510d757daa2",
   "metadata": {},
   "source": [
    "## Looping:\n",
    "\n",
    "Our subject has multiple files, so let's read each one and combine them"
   ]
  },
  {
   "cell_type": "code",
   "execution_count": 11,
   "id": "49a926c0-e7f1-4705-afd6-f507828341a7",
   "metadata": {},
   "outputs": [
    {
     "name": "stdout",
     "output_type": "stream",
     "text": [
      "0\n",
      "1\n",
      "2\n",
      "3\n",
      "4\n",
      "5\n",
      "6\n",
      "7\n",
      "8\n"
     ]
    }
   ],
   "source": [
    "# Structure of a loop\n",
    "\n",
    "for i in range(9):\n",
    "    print(i)    "
   ]
  },
  {
   "cell_type": "code",
   "execution_count": 12,
   "id": "7cae6517-7e4c-4110-89ff-b0b3ab960b20",
   "metadata": {},
   "outputs": [
    {
     "name": "stdout",
     "output_type": "stream",
     "text": [
      "sub-04_ses-mri_task-facerecognition_run-01_events.tsv\n",
      "sub-04_ses-mri_task-facerecognition_run-02_events.tsv\n",
      "sub-04_ses-mri_task-facerecognition_run-03_events.tsv\n",
      "sub-04_ses-mri_task-facerecognition_run-04_events.tsv\n",
      "sub-04_ses-mri_task-facerecognition_run-05_events.tsv\n",
      "sub-04_ses-mri_task-facerecognition_run-06_events.tsv\n",
      "sub-04_ses-mri_task-facerecognition_run-07_events.tsv\n",
      "sub-04_ses-mri_task-facerecognition_run-08_events.tsv\n",
      "sub-04_ses-mri_task-facerecognition_run-09_events.tsv\n"
     ]
    }
   ],
   "source": [
    "# Print all subject file names\n",
    "\n",
    "for i in range(1, 10):\n",
    "    print('sub-04_ses-mri_task-facerecognition_run-0' + str(i) + '_events.tsv')"
   ]
  },
  {
   "cell_type": "code",
   "execution_count": 13,
   "id": "d6886730-cfd6-4388-a5ab-25db2761bc6b",
   "metadata": {},
   "outputs": [
    {
     "name": "stdout",
     "output_type": "stream",
     "text": [
      "sub-04_ses-mri_task-facerecognition_run-01_events.tsv\n",
      "sub-04_ses-mri_task-facerecognition_run-03_events.tsv\n",
      "sub-04_ses-mri_task-facerecognition_run-04_events.tsv\n",
      "sub-04_ses-mri_task-facerecognition_run-05_events.tsv\n",
      "sub-04_ses-mri_task-facerecognition_run-06_events.tsv\n",
      "sub-04_ses-mri_task-facerecognition_run-07_events.tsv\n",
      "sub-04_ses-mri_task-facerecognition_run-08_events.tsv\n",
      "sub-04_ses-mri_task-facerecognition_run-09_events.tsv\n"
     ]
    }
   ],
   "source": [
    "# Skip some files in loop: for instance if you know sub-04 is missing the 2nd run\n",
    "\n",
    "for i in range(1, 10):\n",
    "    if i == 2:\n",
    "        continue\n",
    "    else:\n",
    "        print('sub-04_ses-mri_task-facerecognition_run-0' + str(i) + '_events.tsv')"
   ]
  },
  {
   "cell_type": "code",
   "execution_count": 14,
   "id": "4fb92a77-3804-46a5-b5b2-f9c291d65f46",
   "metadata": {},
   "outputs": [
    {
     "name": "stdout",
     "output_type": "stream",
     "text": [
      "      onset  duration  circle_duration   stim_type  trigger  button_pushed  \\\n",
      "0     0.000     0.983            0.492   SCRAMBLED       17            7.0   \n",
      "1     3.240     0.971            0.488   SCRAMBLED       17            7.0   \n",
      "2     6.498     0.832            0.409   SCRAMBLED       18            4.0   \n",
      "3     9.538     0.898            0.441      FAMOUS        5            4.0   \n",
      "4    12.644     0.993            0.445      FAMOUS        6            4.0   \n",
      "..      ...       ...              ...         ...      ...            ...   \n",
      "93  379.122     0.859            0.421  UNFAMILIAR       13            4.0   \n",
      "94  382.229     0.895            0.468  UNFAMILIAR       14            4.0   \n",
      "95  385.353     0.982            0.455      FAMOUS        5            4.0   \n",
      "96  388.644     0.999            0.551      FAMOUS        7            7.0   \n",
      "97  391.450     0.012            0.000         NaN      999            0.0   \n",
      "\n",
      "    response_time        stim_file  \n",
      "0           1.553    func/s008.bmp  \n",
      "1           1.904    func/s004.bmp  \n",
      "2           1.548    func/s004.bmp  \n",
      "3           1.685    func/f002.bmp  \n",
      "4           1.482    func/f002.bmp  \n",
      "..            ...              ...  \n",
      "93          0.915    func/u135.bmp  \n",
      "94          0.864    func/u135.bmp  \n",
      "95          0.935    func/f142.bmp  \n",
      "96          1.304    func/f139.bmp  \n",
      "97          0.000  func/Circle.bmp  \n",
      "\n",
      "[896 rows x 8 columns]\n"
     ]
    }
   ],
   "source": [
    "# To combine data from all the files, we will:\n",
    "# 1. Create an empty dataframe for all the data for our subject (\"sub_data\")\n",
    "# 2. Loop over each individual file and add its data to sub_data\n",
    "    \n",
    "sub_data = pd.DataFrame()\n",
    "\n",
    "for i in range(9):\n",
    "    run_file = 'sub-04/sub-04_ses-mri_task-facerecognition_run-0' + str(i+1) +'_events.tsv'\n",
    "    run_data = pd.read_csv(inpath + run_file, sep='\\t')\n",
    "    sub_data = pd.concat([sub_data, run_data])\n",
    "\n",
    "print(sub_data)"
   ]
  },
  {
   "cell_type": "code",
   "execution_count": 15,
   "id": "5adb91dc-69d2-4ebd-ab6b-55178dd9b6aa",
   "metadata": {},
   "outputs": [
    {
     "name": "stdout",
     "output_type": "stream",
     "text": [
      "sub-01\n",
      "sub-02\n",
      "sub-03\n",
      "sub-04\n",
      "sub-05\n",
      "sub-06\n",
      "sub-07\n",
      "sub-08\n",
      "sub-09\n",
      "sub-10\n",
      "sub-11\n",
      "sub-12\n",
      "sub-13\n",
      "sub-14\n",
      "sub-15\n",
      "sub-16\n"
     ]
    }
   ],
   "source": [
    "# Zero-padding: useful for some naming conventions\n",
    "\n",
    "for i in range(1, 17):\n",
    "    x = str(i)\n",
    "    x = x.zfill(2)\n",
    "    print('sub-' + x)"
   ]
  },
  {
   "cell_type": "markdown",
   "id": "fad9da0c-fa22-408b-b160-f1405d9e9542",
   "metadata": {},
   "source": [
    "# 2. Access and manipulate dataframes"
   ]
  },
  {
   "cell_type": "markdown",
   "id": "0fc096b9-6890-4bf9-84d8-664b5189814b",
   "metadata": {},
   "source": [
    "## Examining the data:\n",
    "\n",
    "First, we will examine the dataframe and see what we have imported"
   ]
  },
  {
   "cell_type": "code",
   "execution_count": 18,
   "id": "658a3b8b-986f-43f1-ba12-adca388aa5aa",
   "metadata": {},
   "outputs": [
    {
     "data": {
      "text/html": [
       "<div>\n",
       "<style scoped>\n",
       "    .dataframe tbody tr th:only-of-type {\n",
       "        vertical-align: middle;\n",
       "    }\n",
       "\n",
       "    .dataframe tbody tr th {\n",
       "        vertical-align: top;\n",
       "    }\n",
       "\n",
       "    .dataframe thead th {\n",
       "        text-align: right;\n",
       "    }\n",
       "</style>\n",
       "<table border=\"1\" class=\"dataframe\">\n",
       "  <thead>\n",
       "    <tr style=\"text-align: right;\">\n",
       "      <th></th>\n",
       "      <th>onset</th>\n",
       "      <th>duration</th>\n",
       "      <th>circle_duration</th>\n",
       "      <th>stim_type</th>\n",
       "      <th>trigger</th>\n",
       "      <th>button_pushed</th>\n",
       "      <th>response_time</th>\n",
       "      <th>stim_file</th>\n",
       "    </tr>\n",
       "  </thead>\n",
       "  <tbody>\n",
       "    <tr>\n",
       "      <th>0</th>\n",
       "      <td>0.000</td>\n",
       "      <td>0.983</td>\n",
       "      <td>0.492</td>\n",
       "      <td>SCRAMBLED</td>\n",
       "      <td>17</td>\n",
       "      <td>7</td>\n",
       "      <td>1.553</td>\n",
       "      <td>func/s008.bmp</td>\n",
       "    </tr>\n",
       "    <tr>\n",
       "      <th>1</th>\n",
       "      <td>3.240</td>\n",
       "      <td>0.971</td>\n",
       "      <td>0.488</td>\n",
       "      <td>SCRAMBLED</td>\n",
       "      <td>17</td>\n",
       "      <td>7</td>\n",
       "      <td>1.904</td>\n",
       "      <td>func/s004.bmp</td>\n",
       "    </tr>\n",
       "    <tr>\n",
       "      <th>2</th>\n",
       "      <td>6.498</td>\n",
       "      <td>0.832</td>\n",
       "      <td>0.409</td>\n",
       "      <td>SCRAMBLED</td>\n",
       "      <td>18</td>\n",
       "      <td>4</td>\n",
       "      <td>1.548</td>\n",
       "      <td>func/s004.bmp</td>\n",
       "    </tr>\n",
       "    <tr>\n",
       "      <th>3</th>\n",
       "      <td>9.538</td>\n",
       "      <td>0.898</td>\n",
       "      <td>0.441</td>\n",
       "      <td>FAMOUS</td>\n",
       "      <td>5</td>\n",
       "      <td>4</td>\n",
       "      <td>1.685</td>\n",
       "      <td>func/f002.bmp</td>\n",
       "    </tr>\n",
       "  </tbody>\n",
       "</table>\n",
       "</div>"
      ],
      "text/plain": [
       "   onset  duration  circle_duration  stim_type  trigger  button_pushed  \\\n",
       "0  0.000     0.983            0.492  SCRAMBLED       17              7   \n",
       "1  3.240     0.971            0.488  SCRAMBLED       17              7   \n",
       "2  6.498     0.832            0.409  SCRAMBLED       18              4   \n",
       "3  9.538     0.898            0.441     FAMOUS        5              4   \n",
       "\n",
       "   response_time      stim_file  \n",
       "0          1.553  func/s008.bmp  \n",
       "1          1.904  func/s004.bmp  \n",
       "2          1.548  func/s004.bmp  \n",
       "3          1.685  func/f002.bmp  "
      ]
     },
     "execution_count": 18,
     "metadata": {},
     "output_type": "execute_result"
    }
   ],
   "source": [
    "# Print the first n rows of the dataframe (5 rows if you do not specify n)\n",
    "\n",
    "df.head(n=4)"
   ]
  },
  {
   "cell_type": "code",
   "execution_count": 19,
   "id": "8ef4b61d-58ab-4ac8-bd9c-0f730083b2df",
   "metadata": {},
   "outputs": [
    {
     "data": {
      "text/html": [
       "<div>\n",
       "<style scoped>\n",
       "    .dataframe tbody tr th:only-of-type {\n",
       "        vertical-align: middle;\n",
       "    }\n",
       "\n",
       "    .dataframe tbody tr th {\n",
       "        vertical-align: top;\n",
       "    }\n",
       "\n",
       "    .dataframe thead th {\n",
       "        text-align: right;\n",
       "    }\n",
       "</style>\n",
       "<table border=\"1\" class=\"dataframe\">\n",
       "  <thead>\n",
       "    <tr style=\"text-align: right;\">\n",
       "      <th></th>\n",
       "      <th>onset</th>\n",
       "      <th>duration</th>\n",
       "      <th>circle_duration</th>\n",
       "      <th>stim_type</th>\n",
       "      <th>trigger</th>\n",
       "      <th>button_pushed</th>\n",
       "      <th>response_time</th>\n",
       "      <th>stim_file</th>\n",
       "    </tr>\n",
       "  </thead>\n",
       "  <tbody>\n",
       "    <tr>\n",
       "      <th>96</th>\n",
       "      <td>388.008</td>\n",
       "      <td>0.931</td>\n",
       "      <td>0.464</td>\n",
       "      <td>UNFAMILIAR</td>\n",
       "      <td>13</td>\n",
       "      <td>7</td>\n",
       "      <td>1.230</td>\n",
       "      <td>func/u015.bmp</td>\n",
       "    </tr>\n",
       "    <tr>\n",
       "      <th>97</th>\n",
       "      <td>391.266</td>\n",
       "      <td>0.977</td>\n",
       "      <td>0.552</td>\n",
       "      <td>UNFAMILIAR</td>\n",
       "      <td>13</td>\n",
       "      <td>7</td>\n",
       "      <td>0.907</td>\n",
       "      <td>func/u011.bmp</td>\n",
       "    </tr>\n",
       "    <tr>\n",
       "      <th>98</th>\n",
       "      <td>394.506</td>\n",
       "      <td>0.852</td>\n",
       "      <td>0.491</td>\n",
       "      <td>UNFAMILIAR</td>\n",
       "      <td>14</td>\n",
       "      <td>7</td>\n",
       "      <td>1.018</td>\n",
       "      <td>func/u011.bmp</td>\n",
       "    </tr>\n",
       "    <tr>\n",
       "      <th>99</th>\n",
       "      <td>397.128</td>\n",
       "      <td>0.012</td>\n",
       "      <td>0.000</td>\n",
       "      <td>NaN</td>\n",
       "      <td>999</td>\n",
       "      <td>0</td>\n",
       "      <td>0.000</td>\n",
       "      <td>func/Circle.bmp</td>\n",
       "    </tr>\n",
       "  </tbody>\n",
       "</table>\n",
       "</div>"
      ],
      "text/plain": [
       "      onset  duration  circle_duration   stim_type  trigger  button_pushed  \\\n",
       "96  388.008     0.931            0.464  UNFAMILIAR       13              7   \n",
       "97  391.266     0.977            0.552  UNFAMILIAR       13              7   \n",
       "98  394.506     0.852            0.491  UNFAMILIAR       14              7   \n",
       "99  397.128     0.012            0.000         NaN      999              0   \n",
       "\n",
       "    response_time        stim_file  \n",
       "96          1.230    func/u015.bmp  \n",
       "97          0.907    func/u011.bmp  \n",
       "98          1.018    func/u011.bmp  \n",
       "99          0.000  func/Circle.bmp  "
      ]
     },
     "execution_count": 19,
     "metadata": {},
     "output_type": "execute_result"
    }
   ],
   "source": [
    "# Similarly, you can print the final rows (5 rows if you do not specify n)\n",
    "\n",
    "df.tail(n=4)"
   ]
  },
  {
   "cell_type": "code",
   "execution_count": 20,
   "id": "3b1cd3a2-9df9-42be-b28d-f2318853c015",
   "metadata": {},
   "outputs": [
    {
     "data": {
      "text/plain": [
       "(100, 8)"
      ]
     },
     "execution_count": 20,
     "metadata": {},
     "output_type": "execute_result"
    }
   ],
   "source": [
    "# How many rows and columns?\n",
    "\n",
    "df.shape"
   ]
  },
  {
   "cell_type": "code",
   "execution_count": 21,
   "id": "2814b924-bdbe-46b1-924e-aa462b1ea547",
   "metadata": {},
   "outputs": [
    {
     "data": {
      "text/plain": [
       "Index(['onset', 'duration', 'circle_duration', 'stim_type', 'trigger',\n",
       "       'button_pushed', 'response_time', 'stim_file'],\n",
       "      dtype='object')"
      ]
     },
     "execution_count": 21,
     "metadata": {},
     "output_type": "execute_result"
    }
   ],
   "source": [
    "# What are the column names?\n",
    "\n",
    "df.columns"
   ]
  },
  {
   "cell_type": "code",
   "execution_count": 22,
   "id": "dbf36e5f-aa89-450a-bc19-7fae5fc895af",
   "metadata": {},
   "outputs": [
    {
     "data": {
      "text/plain": [
       "onset              float64\n",
       "duration           float64\n",
       "circle_duration    float64\n",
       "stim_type           object\n",
       "trigger              int64\n",
       "button_pushed        int64\n",
       "response_time      float64\n",
       "stim_file           object\n",
       "dtype: object"
      ]
     },
     "execution_count": 22,
     "metadata": {},
     "output_type": "execute_result"
    }
   ],
   "source": [
    "# What types of data?\n",
    "\n",
    "df.dtypes"
   ]
  },
  {
   "cell_type": "code",
   "execution_count": 23,
   "id": "5dc1acf9-ad5c-47ca-9d03-43c35e4e7e27",
   "metadata": {},
   "outputs": [
    {
     "name": "stdout",
     "output_type": "stream",
     "text": [
      "<class 'pandas.core.frame.DataFrame'>\n",
      "RangeIndex: 100 entries, 0 to 99\n",
      "Data columns (total 8 columns):\n",
      " #   Column           Non-Null Count  Dtype  \n",
      "---  ------           --------------  -----  \n",
      " 0   onset            100 non-null    float64\n",
      " 1   duration         100 non-null    float64\n",
      " 2   circle_duration  100 non-null    float64\n",
      " 3   stim_type        94 non-null     object \n",
      " 4   trigger          100 non-null    int64  \n",
      " 5   button_pushed    100 non-null    int64  \n",
      " 6   response_time    100 non-null    float64\n",
      " 7   stim_file        100 non-null    object \n",
      "dtypes: float64(4), int64(2), object(2)\n",
      "memory usage: 6.4+ KB\n"
     ]
    }
   ],
   "source": [
    "# Use a function to look at these together in a single command\n",
    "\n",
    "df.info()"
   ]
  },
  {
   "cell_type": "markdown",
   "id": "08216fde-5b52-4a07-ab7d-71b96e00c8c8",
   "metadata": {},
   "source": [
    "## Accessing dataframe:"
   ]
  },
  {
   "cell_type": "code",
   "execution_count": 25,
   "id": "e42fd022-7386-41ee-bdbe-a1340e39da45",
   "metadata": {},
   "outputs": [
    {
     "data": {
      "text/plain": [
       "0      SCRAMBLED\n",
       "1      SCRAMBLED\n",
       "2      SCRAMBLED\n",
       "3         FAMOUS\n",
       "4         FAMOUS\n",
       "         ...    \n",
       "95     SCRAMBLED\n",
       "96    UNFAMILIAR\n",
       "97    UNFAMILIAR\n",
       "98    UNFAMILIAR\n",
       "99           NaN\n",
       "Name: stim_type, Length: 100, dtype: object"
      ]
     },
     "execution_count": 25,
     "metadata": {},
     "output_type": "execute_result"
    }
   ],
   "source": [
    "# Get a specific column\n",
    "\n",
    "df['stim_type']"
   ]
  },
  {
   "cell_type": "code",
   "execution_count": 26,
   "id": "14945a4d-ee9e-42b0-9c8f-9d6718fec90b",
   "metadata": {},
   "outputs": [
    {
     "data": {
      "text/html": [
       "<div>\n",
       "<style scoped>\n",
       "    .dataframe tbody tr th:only-of-type {\n",
       "        vertical-align: middle;\n",
       "    }\n",
       "\n",
       "    .dataframe tbody tr th {\n",
       "        vertical-align: top;\n",
       "    }\n",
       "\n",
       "    .dataframe thead th {\n",
       "        text-align: right;\n",
       "    }\n",
       "</style>\n",
       "<table border=\"1\" class=\"dataframe\">\n",
       "  <thead>\n",
       "    <tr style=\"text-align: right;\">\n",
       "      <th></th>\n",
       "      <th>stim_type</th>\n",
       "      <th>trigger</th>\n",
       "    </tr>\n",
       "  </thead>\n",
       "  <tbody>\n",
       "    <tr>\n",
       "      <th>0</th>\n",
       "      <td>SCRAMBLED</td>\n",
       "      <td>17</td>\n",
       "    </tr>\n",
       "    <tr>\n",
       "      <th>1</th>\n",
       "      <td>SCRAMBLED</td>\n",
       "      <td>17</td>\n",
       "    </tr>\n",
       "    <tr>\n",
       "      <th>2</th>\n",
       "      <td>SCRAMBLED</td>\n",
       "      <td>18</td>\n",
       "    </tr>\n",
       "    <tr>\n",
       "      <th>3</th>\n",
       "      <td>FAMOUS</td>\n",
       "      <td>5</td>\n",
       "    </tr>\n",
       "    <tr>\n",
       "      <th>4</th>\n",
       "      <td>FAMOUS</td>\n",
       "      <td>6</td>\n",
       "    </tr>\n",
       "    <tr>\n",
       "      <th>...</th>\n",
       "      <td>...</td>\n",
       "      <td>...</td>\n",
       "    </tr>\n",
       "    <tr>\n",
       "      <th>95</th>\n",
       "      <td>SCRAMBLED</td>\n",
       "      <td>19</td>\n",
       "    </tr>\n",
       "    <tr>\n",
       "      <th>96</th>\n",
       "      <td>UNFAMILIAR</td>\n",
       "      <td>13</td>\n",
       "    </tr>\n",
       "    <tr>\n",
       "      <th>97</th>\n",
       "      <td>UNFAMILIAR</td>\n",
       "      <td>13</td>\n",
       "    </tr>\n",
       "    <tr>\n",
       "      <th>98</th>\n",
       "      <td>UNFAMILIAR</td>\n",
       "      <td>14</td>\n",
       "    </tr>\n",
       "    <tr>\n",
       "      <th>99</th>\n",
       "      <td>NaN</td>\n",
       "      <td>999</td>\n",
       "    </tr>\n",
       "  </tbody>\n",
       "</table>\n",
       "<p>100 rows × 2 columns</p>\n",
       "</div>"
      ],
      "text/plain": [
       "     stim_type  trigger\n",
       "0    SCRAMBLED       17\n",
       "1    SCRAMBLED       17\n",
       "2    SCRAMBLED       18\n",
       "3       FAMOUS        5\n",
       "4       FAMOUS        6\n",
       "..         ...      ...\n",
       "95   SCRAMBLED       19\n",
       "96  UNFAMILIAR       13\n",
       "97  UNFAMILIAR       13\n",
       "98  UNFAMILIAR       14\n",
       "99         NaN      999\n",
       "\n",
       "[100 rows x 2 columns]"
      ]
     },
     "execution_count": 26,
     "metadata": {},
     "output_type": "execute_result"
    }
   ],
   "source": [
    "# Two columns\n",
    "\n",
    "df[['stim_type', 'trigger']]"
   ]
  },
  {
   "cell_type": "code",
   "execution_count": 27,
   "id": "3ab624ae-9726-4cd9-b238-0c71c9596abb",
   "metadata": {},
   "outputs": [
    {
     "data": {
      "text/plain": [
       "onset                      6.498\n",
       "duration                   0.832\n",
       "circle_duration            0.409\n",
       "stim_type              SCRAMBLED\n",
       "trigger                       18\n",
       "button_pushed                  4\n",
       "response_time              1.548\n",
       "stim_file          func/s004.bmp\n",
       "Name: 2, dtype: object"
      ]
     },
     "execution_count": 27,
     "metadata": {},
     "output_type": "execute_result"
    }
   ],
   "source": [
    "# Get a specific row\n",
    "\n",
    "df.loc[2, :]"
   ]
  },
  {
   "cell_type": "code",
   "execution_count": 28,
   "id": "2ca8c677-b3e8-49d7-b6ee-582d5175d7e5",
   "metadata": {},
   "outputs": [
    {
     "data": {
      "text/html": [
       "<div>\n",
       "<style scoped>\n",
       "    .dataframe tbody tr th:only-of-type {\n",
       "        vertical-align: middle;\n",
       "    }\n",
       "\n",
       "    .dataframe tbody tr th {\n",
       "        vertical-align: top;\n",
       "    }\n",
       "\n",
       "    .dataframe thead th {\n",
       "        text-align: right;\n",
       "    }\n",
       "</style>\n",
       "<table border=\"1\" class=\"dataframe\">\n",
       "  <thead>\n",
       "    <tr style=\"text-align: right;\">\n",
       "      <th></th>\n",
       "      <th>onset</th>\n",
       "      <th>duration</th>\n",
       "      <th>circle_duration</th>\n",
       "      <th>stim_type</th>\n",
       "      <th>trigger</th>\n",
       "      <th>button_pushed</th>\n",
       "      <th>response_time</th>\n",
       "      <th>stim_file</th>\n",
       "    </tr>\n",
       "  </thead>\n",
       "  <tbody>\n",
       "    <tr>\n",
       "      <th>2</th>\n",
       "      <td>6.498</td>\n",
       "      <td>0.832</td>\n",
       "      <td>0.409</td>\n",
       "      <td>SCRAMBLED</td>\n",
       "      <td>18</td>\n",
       "      <td>4</td>\n",
       "      <td>1.548</td>\n",
       "      <td>func/s004.bmp</td>\n",
       "    </tr>\n",
       "    <tr>\n",
       "      <th>3</th>\n",
       "      <td>9.538</td>\n",
       "      <td>0.898</td>\n",
       "      <td>0.441</td>\n",
       "      <td>FAMOUS</td>\n",
       "      <td>5</td>\n",
       "      <td>4</td>\n",
       "      <td>1.685</td>\n",
       "      <td>func/f002.bmp</td>\n",
       "    </tr>\n",
       "    <tr>\n",
       "      <th>4</th>\n",
       "      <td>12.644</td>\n",
       "      <td>0.993</td>\n",
       "      <td>0.445</td>\n",
       "      <td>FAMOUS</td>\n",
       "      <td>6</td>\n",
       "      <td>4</td>\n",
       "      <td>1.482</td>\n",
       "      <td>func/f002.bmp</td>\n",
       "    </tr>\n",
       "  </tbody>\n",
       "</table>\n",
       "</div>"
      ],
      "text/plain": [
       "    onset  duration  circle_duration  stim_type  trigger  button_pushed  \\\n",
       "2   6.498     0.832            0.409  SCRAMBLED       18              4   \n",
       "3   9.538     0.898            0.441     FAMOUS        5              4   \n",
       "4  12.644     0.993            0.445     FAMOUS        6              4   \n",
       "\n",
       "   response_time      stim_file  \n",
       "2          1.548  func/s004.bmp  \n",
       "3          1.685  func/f002.bmp  \n",
       "4          1.482  func/f002.bmp  "
      ]
     },
     "execution_count": 28,
     "metadata": {},
     "output_type": "execute_result"
    }
   ],
   "source": [
    "# Multiple rows\n",
    "\n",
    "df.loc[2:4, :]"
   ]
  },
  {
   "cell_type": "code",
   "execution_count": 29,
   "id": "4ae2893e-7349-4a4c-8140-d1cd9ac09a29",
   "metadata": {},
   "outputs": [
    {
     "data": {
      "text/plain": [
       "'FAMOUS'"
      ]
     },
     "execution_count": 29,
     "metadata": {},
     "output_type": "execute_result"
    }
   ],
   "source": [
    "# A specific cell by row and column names\n",
    "\n",
    "df.loc[3, 'stim_type']"
   ]
  },
  {
   "cell_type": "code",
   "execution_count": 30,
   "id": "4400fa70-8f20-4a34-b03e-f5985c2680dd",
   "metadata": {},
   "outputs": [
    {
     "data": {
      "text/plain": [
       "'FAMOUS'"
      ]
     },
     "execution_count": 30,
     "metadata": {},
     "output_type": "execute_result"
    }
   ],
   "source": [
    "# Using only the cell indices\n",
    "\n",
    "df.iloc[3, 3]"
   ]
  },
  {
   "cell_type": "markdown",
   "id": "b62a9ba5-32a5-47b4-a312-bc2dddfeb1cd",
   "metadata": {},
   "source": [
    "## Cleaning data:\n",
    "\n",
    "We saw previously that there were some NaN values in the stim_type column, let's remove these"
   ]
  },
  {
   "cell_type": "code",
   "execution_count": 32,
   "id": "be9d0d42-1fc9-45d0-8c74-396dcb9cadf0",
   "metadata": {},
   "outputs": [
    {
     "data": {
      "text/html": [
       "<div>\n",
       "<style scoped>\n",
       "    .dataframe tbody tr th:only-of-type {\n",
       "        vertical-align: middle;\n",
       "    }\n",
       "\n",
       "    .dataframe tbody tr th {\n",
       "        vertical-align: top;\n",
       "    }\n",
       "\n",
       "    .dataframe thead th {\n",
       "        text-align: right;\n",
       "    }\n",
       "</style>\n",
       "<table border=\"1\" class=\"dataframe\">\n",
       "  <thead>\n",
       "    <tr style=\"text-align: right;\">\n",
       "      <th></th>\n",
       "      <th>onset</th>\n",
       "      <th>duration</th>\n",
       "      <th>circle_duration</th>\n",
       "      <th>stim_type</th>\n",
       "      <th>trigger</th>\n",
       "      <th>button_pushed</th>\n",
       "      <th>response_time</th>\n",
       "      <th>stim_file</th>\n",
       "    </tr>\n",
       "  </thead>\n",
       "  <tbody>\n",
       "    <tr>\n",
       "      <th>0</th>\n",
       "      <td>0.000</td>\n",
       "      <td>0.983</td>\n",
       "      <td>0.492</td>\n",
       "      <td>SCRAMBLED</td>\n",
       "      <td>17</td>\n",
       "      <td>7</td>\n",
       "      <td>1.553</td>\n",
       "      <td>func/s008.bmp</td>\n",
       "    </tr>\n",
       "    <tr>\n",
       "      <th>1</th>\n",
       "      <td>3.240</td>\n",
       "      <td>0.971</td>\n",
       "      <td>0.488</td>\n",
       "      <td>SCRAMBLED</td>\n",
       "      <td>17</td>\n",
       "      <td>7</td>\n",
       "      <td>1.904</td>\n",
       "      <td>func/s004.bmp</td>\n",
       "    </tr>\n",
       "    <tr>\n",
       "      <th>2</th>\n",
       "      <td>6.498</td>\n",
       "      <td>0.832</td>\n",
       "      <td>0.409</td>\n",
       "      <td>SCRAMBLED</td>\n",
       "      <td>18</td>\n",
       "      <td>4</td>\n",
       "      <td>1.548</td>\n",
       "      <td>func/s004.bmp</td>\n",
       "    </tr>\n",
       "    <tr>\n",
       "      <th>3</th>\n",
       "      <td>9.538</td>\n",
       "      <td>0.898</td>\n",
       "      <td>0.441</td>\n",
       "      <td>FAMOUS</td>\n",
       "      <td>5</td>\n",
       "      <td>4</td>\n",
       "      <td>1.685</td>\n",
       "      <td>func/f002.bmp</td>\n",
       "    </tr>\n",
       "    <tr>\n",
       "      <th>4</th>\n",
       "      <td>12.644</td>\n",
       "      <td>0.993</td>\n",
       "      <td>0.445</td>\n",
       "      <td>FAMOUS</td>\n",
       "      <td>6</td>\n",
       "      <td>4</td>\n",
       "      <td>1.482</td>\n",
       "      <td>func/f002.bmp</td>\n",
       "    </tr>\n",
       "    <tr>\n",
       "      <th>...</th>\n",
       "      <td>...</td>\n",
       "      <td>...</td>\n",
       "      <td>...</td>\n",
       "      <td>...</td>\n",
       "      <td>...</td>\n",
       "      <td>...</td>\n",
       "      <td>...</td>\n",
       "      <td>...</td>\n",
       "    </tr>\n",
       "    <tr>\n",
       "      <th>95</th>\n",
       "      <td>384.952</td>\n",
       "      <td>0.825</td>\n",
       "      <td>0.475</td>\n",
       "      <td>SCRAMBLED</td>\n",
       "      <td>19</td>\n",
       "      <td>7</td>\n",
       "      <td>1.136</td>\n",
       "      <td>func/s013.bmp</td>\n",
       "    </tr>\n",
       "    <tr>\n",
       "      <th>96</th>\n",
       "      <td>388.008</td>\n",
       "      <td>0.931</td>\n",
       "      <td>0.464</td>\n",
       "      <td>UNFAMILIAR</td>\n",
       "      <td>13</td>\n",
       "      <td>7</td>\n",
       "      <td>1.230</td>\n",
       "      <td>func/u015.bmp</td>\n",
       "    </tr>\n",
       "    <tr>\n",
       "      <th>97</th>\n",
       "      <td>391.266</td>\n",
       "      <td>0.977</td>\n",
       "      <td>0.552</td>\n",
       "      <td>UNFAMILIAR</td>\n",
       "      <td>13</td>\n",
       "      <td>7</td>\n",
       "      <td>0.907</td>\n",
       "      <td>func/u011.bmp</td>\n",
       "    </tr>\n",
       "    <tr>\n",
       "      <th>98</th>\n",
       "      <td>394.506</td>\n",
       "      <td>0.852</td>\n",
       "      <td>0.491</td>\n",
       "      <td>UNFAMILIAR</td>\n",
       "      <td>14</td>\n",
       "      <td>7</td>\n",
       "      <td>1.018</td>\n",
       "      <td>func/u011.bmp</td>\n",
       "    </tr>\n",
       "    <tr>\n",
       "      <th>99</th>\n",
       "      <td>397.128</td>\n",
       "      <td>0.012</td>\n",
       "      <td>0.000</td>\n",
       "      <td>NaN</td>\n",
       "      <td>999</td>\n",
       "      <td>0</td>\n",
       "      <td>0.000</td>\n",
       "      <td>func/Circle.bmp</td>\n",
       "    </tr>\n",
       "  </tbody>\n",
       "</table>\n",
       "<p>100 rows × 8 columns</p>\n",
       "</div>"
      ],
      "text/plain": [
       "      onset  duration  circle_duration   stim_type  trigger  button_pushed  \\\n",
       "0     0.000     0.983            0.492   SCRAMBLED       17              7   \n",
       "1     3.240     0.971            0.488   SCRAMBLED       17              7   \n",
       "2     6.498     0.832            0.409   SCRAMBLED       18              4   \n",
       "3     9.538     0.898            0.441      FAMOUS        5              4   \n",
       "4    12.644     0.993            0.445      FAMOUS        6              4   \n",
       "..      ...       ...              ...         ...      ...            ...   \n",
       "95  384.952     0.825            0.475   SCRAMBLED       19              7   \n",
       "96  388.008     0.931            0.464  UNFAMILIAR       13              7   \n",
       "97  391.266     0.977            0.552  UNFAMILIAR       13              7   \n",
       "98  394.506     0.852            0.491  UNFAMILIAR       14              7   \n",
       "99  397.128     0.012            0.000         NaN      999              0   \n",
       "\n",
       "    response_time        stim_file  \n",
       "0           1.553    func/s008.bmp  \n",
       "1           1.904    func/s004.bmp  \n",
       "2           1.548    func/s004.bmp  \n",
       "3           1.685    func/f002.bmp  \n",
       "4           1.482    func/f002.bmp  \n",
       "..            ...              ...  \n",
       "95          1.136    func/s013.bmp  \n",
       "96          1.230    func/u015.bmp  \n",
       "97          0.907    func/u011.bmp  \n",
       "98          1.018    func/u011.bmp  \n",
       "99          0.000  func/Circle.bmp  \n",
       "\n",
       "[100 rows x 8 columns]"
      ]
     },
     "execution_count": 32,
     "metadata": {},
     "output_type": "execute_result"
    }
   ],
   "source": [
    "# Function to drop all rows with any NaN values (somewhat reckless!)\n",
    "\n",
    "df.dropna()\n",
    "\n",
    "# Best to use this only if ALL values in a row are NaN\n",
    "\n",
    "df.dropna(how='all')"
   ]
  },
  {
   "cell_type": "code",
   "execution_count": 33,
   "id": "babfcb21-2fee-4eb3-a188-49bd46cedd1e",
   "metadata": {},
   "outputs": [
    {
     "data": {
      "text/html": [
       "<div>\n",
       "<style scoped>\n",
       "    .dataframe tbody tr th:only-of-type {\n",
       "        vertical-align: middle;\n",
       "    }\n",
       "\n",
       "    .dataframe tbody tr th {\n",
       "        vertical-align: top;\n",
       "    }\n",
       "\n",
       "    .dataframe thead th {\n",
       "        text-align: right;\n",
       "    }\n",
       "</style>\n",
       "<table border=\"1\" class=\"dataframe\">\n",
       "  <thead>\n",
       "    <tr style=\"text-align: right;\">\n",
       "      <th></th>\n",
       "      <th>onset</th>\n",
       "      <th>duration</th>\n",
       "      <th>circle_duration</th>\n",
       "      <th>stim_type</th>\n",
       "      <th>trigger</th>\n",
       "      <th>button_pushed</th>\n",
       "      <th>response_time</th>\n",
       "      <th>stim_file</th>\n",
       "    </tr>\n",
       "  </thead>\n",
       "  <tbody>\n",
       "    <tr>\n",
       "      <th>0</th>\n",
       "      <td>0.000</td>\n",
       "      <td>0.983</td>\n",
       "      <td>0.492</td>\n",
       "      <td>SCRAMBLED</td>\n",
       "      <td>17</td>\n",
       "      <td>7</td>\n",
       "      <td>1.553</td>\n",
       "      <td>func/s008.bmp</td>\n",
       "    </tr>\n",
       "    <tr>\n",
       "      <th>1</th>\n",
       "      <td>3.240</td>\n",
       "      <td>0.971</td>\n",
       "      <td>0.488</td>\n",
       "      <td>SCRAMBLED</td>\n",
       "      <td>17</td>\n",
       "      <td>7</td>\n",
       "      <td>1.904</td>\n",
       "      <td>func/s004.bmp</td>\n",
       "    </tr>\n",
       "    <tr>\n",
       "      <th>2</th>\n",
       "      <td>6.498</td>\n",
       "      <td>0.832</td>\n",
       "      <td>0.409</td>\n",
       "      <td>SCRAMBLED</td>\n",
       "      <td>18</td>\n",
       "      <td>4</td>\n",
       "      <td>1.548</td>\n",
       "      <td>func/s004.bmp</td>\n",
       "    </tr>\n",
       "    <tr>\n",
       "      <th>3</th>\n",
       "      <td>9.538</td>\n",
       "      <td>0.898</td>\n",
       "      <td>0.441</td>\n",
       "      <td>FAMOUS</td>\n",
       "      <td>5</td>\n",
       "      <td>4</td>\n",
       "      <td>1.685</td>\n",
       "      <td>func/f002.bmp</td>\n",
       "    </tr>\n",
       "    <tr>\n",
       "      <th>4</th>\n",
       "      <td>12.644</td>\n",
       "      <td>0.993</td>\n",
       "      <td>0.445</td>\n",
       "      <td>FAMOUS</td>\n",
       "      <td>6</td>\n",
       "      <td>4</td>\n",
       "      <td>1.482</td>\n",
       "      <td>func/f002.bmp</td>\n",
       "    </tr>\n",
       "    <tr>\n",
       "      <th>...</th>\n",
       "      <td>...</td>\n",
       "      <td>...</td>\n",
       "      <td>...</td>\n",
       "      <td>...</td>\n",
       "      <td>...</td>\n",
       "      <td>...</td>\n",
       "      <td>...</td>\n",
       "      <td>...</td>\n",
       "    </tr>\n",
       "    <tr>\n",
       "      <th>94</th>\n",
       "      <td>381.861</td>\n",
       "      <td>0.853</td>\n",
       "      <td>0.478</td>\n",
       "      <td>FAMOUS</td>\n",
       "      <td>6</td>\n",
       "      <td>4</td>\n",
       "      <td>0.600</td>\n",
       "      <td>func/f007.bmp</td>\n",
       "    </tr>\n",
       "    <tr>\n",
       "      <th>95</th>\n",
       "      <td>384.952</td>\n",
       "      <td>0.825</td>\n",
       "      <td>0.475</td>\n",
       "      <td>SCRAMBLED</td>\n",
       "      <td>19</td>\n",
       "      <td>7</td>\n",
       "      <td>1.136</td>\n",
       "      <td>func/s013.bmp</td>\n",
       "    </tr>\n",
       "    <tr>\n",
       "      <th>96</th>\n",
       "      <td>388.008</td>\n",
       "      <td>0.931</td>\n",
       "      <td>0.464</td>\n",
       "      <td>UNFAMILIAR</td>\n",
       "      <td>13</td>\n",
       "      <td>7</td>\n",
       "      <td>1.230</td>\n",
       "      <td>func/u015.bmp</td>\n",
       "    </tr>\n",
       "    <tr>\n",
       "      <th>97</th>\n",
       "      <td>391.266</td>\n",
       "      <td>0.977</td>\n",
       "      <td>0.552</td>\n",
       "      <td>UNFAMILIAR</td>\n",
       "      <td>13</td>\n",
       "      <td>7</td>\n",
       "      <td>0.907</td>\n",
       "      <td>func/u011.bmp</td>\n",
       "    </tr>\n",
       "    <tr>\n",
       "      <th>98</th>\n",
       "      <td>394.506</td>\n",
       "      <td>0.852</td>\n",
       "      <td>0.491</td>\n",
       "      <td>UNFAMILIAR</td>\n",
       "      <td>14</td>\n",
       "      <td>7</td>\n",
       "      <td>1.018</td>\n",
       "      <td>func/u011.bmp</td>\n",
       "    </tr>\n",
       "  </tbody>\n",
       "</table>\n",
       "<p>94 rows × 8 columns</p>\n",
       "</div>"
      ],
      "text/plain": [
       "      onset  duration  circle_duration   stim_type  trigger  button_pushed  \\\n",
       "0     0.000     0.983            0.492   SCRAMBLED       17              7   \n",
       "1     3.240     0.971            0.488   SCRAMBLED       17              7   \n",
       "2     6.498     0.832            0.409   SCRAMBLED       18              4   \n",
       "3     9.538     0.898            0.441      FAMOUS        5              4   \n",
       "4    12.644     0.993            0.445      FAMOUS        6              4   \n",
       "..      ...       ...              ...         ...      ...            ...   \n",
       "94  381.861     0.853            0.478      FAMOUS        6              4   \n",
       "95  384.952     0.825            0.475   SCRAMBLED       19              7   \n",
       "96  388.008     0.931            0.464  UNFAMILIAR       13              7   \n",
       "97  391.266     0.977            0.552  UNFAMILIAR       13              7   \n",
       "98  394.506     0.852            0.491  UNFAMILIAR       14              7   \n",
       "\n",
       "    response_time      stim_file  \n",
       "0           1.553  func/s008.bmp  \n",
       "1           1.904  func/s004.bmp  \n",
       "2           1.548  func/s004.bmp  \n",
       "3           1.685  func/f002.bmp  \n",
       "4           1.482  func/f002.bmp  \n",
       "..            ...            ...  \n",
       "94          0.600  func/f007.bmp  \n",
       "95          1.136  func/s013.bmp  \n",
       "96          1.230  func/u015.bmp  \n",
       "97          0.907  func/u011.bmp  \n",
       "98          1.018  func/u011.bmp  \n",
       "\n",
       "[94 rows x 8 columns]"
      ]
     },
     "execution_count": 33,
     "metadata": {},
     "output_type": "execute_result"
    }
   ],
   "source": [
    "# A more cautious approach, keep only non-NaNs in an important column like stim_type\n",
    "\n",
    "df[df['stim_type'].notna()]"
   ]
  },
  {
   "cell_type": "code",
   "execution_count": 34,
   "id": "9463898d-9cd0-4a7c-a220-7aa8c18e2e54",
   "metadata": {},
   "outputs": [
    {
     "data": {
      "text/html": [
       "<div>\n",
       "<style scoped>\n",
       "    .dataframe tbody tr th:only-of-type {\n",
       "        vertical-align: middle;\n",
       "    }\n",
       "\n",
       "    .dataframe tbody tr th {\n",
       "        vertical-align: top;\n",
       "    }\n",
       "\n",
       "    .dataframe thead th {\n",
       "        text-align: right;\n",
       "    }\n",
       "</style>\n",
       "<table border=\"1\" class=\"dataframe\">\n",
       "  <thead>\n",
       "    <tr style=\"text-align: right;\">\n",
       "      <th></th>\n",
       "      <th>onset</th>\n",
       "      <th>duration</th>\n",
       "      <th>circle_duration</th>\n",
       "      <th>stim_type</th>\n",
       "      <th>trigger</th>\n",
       "      <th>button_pushed</th>\n",
       "      <th>response_time</th>\n",
       "      <th>stim_file</th>\n",
       "    </tr>\n",
       "  </thead>\n",
       "  <tbody>\n",
       "    <tr>\n",
       "      <th>7</th>\n",
       "      <td>22.483</td>\n",
       "      <td>0.946</td>\n",
       "      <td>0.500</td>\n",
       "      <td>SCRAMBLED</td>\n",
       "      <td>18</td>\n",
       "      <td>7</td>\n",
       "      <td>0.955</td>\n",
       "      <td>func/s001.bmp</td>\n",
       "    </tr>\n",
       "    <tr>\n",
       "      <th>8</th>\n",
       "      <td>25.774</td>\n",
       "      <td>0.998</td>\n",
       "      <td>0.584</td>\n",
       "      <td>SCRAMBLED</td>\n",
       "      <td>17</td>\n",
       "      <td>7</td>\n",
       "      <td>0.826</td>\n",
       "      <td>func/s010.bmp</td>\n",
       "    </tr>\n",
       "    <tr>\n",
       "      <th>14</th>\n",
       "      <td>61.553</td>\n",
       "      <td>0.848</td>\n",
       "      <td>0.570</td>\n",
       "      <td>UNFAMILIAR</td>\n",
       "      <td>14</td>\n",
       "      <td>7</td>\n",
       "      <td>0.861</td>\n",
       "      <td>func/u010.bmp</td>\n",
       "    </tr>\n",
       "    <tr>\n",
       "      <th>15</th>\n",
       "      <td>64.609</td>\n",
       "      <td>0.844</td>\n",
       "      <td>0.445</td>\n",
       "      <td>FAMOUS</td>\n",
       "      <td>5</td>\n",
       "      <td>7</td>\n",
       "      <td>0.976</td>\n",
       "      <td>func/f012.bmp</td>\n",
       "    </tr>\n",
       "    <tr>\n",
       "      <th>18</th>\n",
       "      <td>73.947</td>\n",
       "      <td>0.810</td>\n",
       "      <td>0.463</td>\n",
       "      <td>FAMOUS</td>\n",
       "      <td>6</td>\n",
       "      <td>7</td>\n",
       "      <td>0.750</td>\n",
       "      <td>func/f003.bmp</td>\n",
       "    </tr>\n",
       "  </tbody>\n",
       "</table>\n",
       "</div>"
      ],
      "text/plain": [
       "     onset  duration  circle_duration   stim_type  trigger  button_pushed  \\\n",
       "7   22.483     0.946            0.500   SCRAMBLED       18              7   \n",
       "8   25.774     0.998            0.584   SCRAMBLED       17              7   \n",
       "14  61.553     0.848            0.570  UNFAMILIAR       14              7   \n",
       "15  64.609     0.844            0.445      FAMOUS        5              7   \n",
       "18  73.947     0.810            0.463      FAMOUS        6              7   \n",
       "\n",
       "    response_time      stim_file  \n",
       "7           0.955  func/s001.bmp  \n",
       "8           0.826  func/s010.bmp  \n",
       "14          0.861  func/u010.bmp  \n",
       "15          0.976  func/f012.bmp  \n",
       "18          0.750  func/f003.bmp  "
      ]
     },
     "execution_count": 34,
     "metadata": {},
     "output_type": "execute_result"
    }
   ],
   "source": [
    "# Remove rows with response times over 1 second\n",
    "\n",
    "new_df = df[df['response_time'] <= 1.0]\n",
    "\n",
    "new_df.head()"
   ]
  },
  {
   "cell_type": "markdown",
   "id": "b2352485-ab24-4fe8-9b19-9b5826c90a95",
   "metadata": {},
   "source": [
    "## Summarising data:"
   ]
  },
  {
   "cell_type": "code",
   "execution_count": 36,
   "id": "bca7f339-29d9-420a-9e95-c4c00a2cb801",
   "metadata": {},
   "outputs": [
    {
     "name": "stdout",
     "output_type": "stream",
     "text": [
      "1.99844 1.0070000000000001\n"
     ]
    }
   ],
   "source": [
    "# Get mean and median of response time\n",
    "\n",
    "x = df['response_time'].mean()\n",
    "y = df['response_time'].median()\n",
    "\n",
    "print(x,y)"
   ]
  },
  {
   "cell_type": "code",
   "execution_count": 37,
   "id": "8cc85121-2f0f-4568-8ca9-f14192ea3ac2",
   "metadata": {},
   "outputs": [
    {
     "data": {
      "text/plain": [
       "stim_type\n",
       "FAMOUS        32\n",
       "SCRAMBLED     31\n",
       "UNFAMILIAR    31\n",
       "Name: count, dtype: int64"
      ]
     },
     "execution_count": 37,
     "metadata": {},
     "output_type": "execute_result"
    }
   ],
   "source": [
    "# Tabulate the values in a specific column\n",
    "\n",
    "df['stim_type'].value_counts()"
   ]
  },
  {
   "cell_type": "code",
   "execution_count": 38,
   "id": "094c8868-a4c0-4241-8866-4ad05d0dc46f",
   "metadata": {},
   "outputs": [
    {
     "data": {
      "text/plain": [
       "stim_type\n",
       "FAMOUS        1.093094\n",
       "SCRAMBLED     1.072935\n",
       "UNFAMILIAR    1.019484\n",
       "Name: response_time, dtype: float64"
      ]
     },
     "execution_count": 38,
     "metadata": {},
     "output_type": "execute_result"
    }
   ],
   "source": [
    "# Get mean RT for each type of stimulus\n",
    "\n",
    "df.groupby('stim_type')['response_time'].mean()"
   ]
  },
  {
   "cell_type": "markdown",
   "id": "46e326c9-5728-4c53-9c3a-4bdfe34d89c8",
   "metadata": {},
   "source": [
    "### More about data types\n",
    "\n",
    "Let's save some of these summary measures and dataframe properties as variables\n",
    "\n",
    "To do that, we shall learn more about the data types used to store collections of data"
   ]
  },
  {
   "cell_type": "code",
   "execution_count": 40,
   "id": "290fb0f9-8e02-4ff3-8794-a5e65ca804a9",
   "metadata": {},
   "outputs": [
    {
     "name": "stdout",
     "output_type": "stream",
     "text": [
      "<class 'pandas.core.frame.DataFrame'>\n",
      "<class 'pandas.core.series.Series'>\n"
     ]
    }
   ],
   "source": [
    "# Pandas has two main data types: dataframes and series\n",
    "\n",
    "print(type(df))\n",
    "print(type(df['stim_type']))"
   ]
  },
  {
   "cell_type": "code",
   "execution_count": 41,
   "id": "d85e069a-f1a8-4f23-bf0e-8567d6930cf3",
   "metadata": {},
   "outputs": [],
   "source": [
    "# Python has 4 built-in data types for variable collections: list, tuple, set, dictionary"
   ]
  },
  {
   "cell_type": "markdown",
   "id": "f7cd8b1d-e9d0-4e79-81dc-a01ee4468b82",
   "metadata": {},
   "source": [
    "#### I. List\n",
    "\n",
    "List is an extremely versatile data type that you will see and use regularly"
   ]
  },
  {
   "cell_type": "code",
   "execution_count": 43,
   "id": "829f6a2b-55d0-4030-9a2b-4ec84dc0803d",
   "metadata": {},
   "outputs": [
    {
     "name": "stdout",
     "output_type": "stream",
     "text": [
      "<class 'list'> [1, 2, 3]\n",
      "<class 'list'> ['onset', 'duration', 'circle_duration', 'stim_type', 'trigger', 'button_pushed', 'response_time', 'stim_file']\n"
     ]
    }
   ],
   "source": [
    "# Lists are created using [] or the function list()\n",
    "\n",
    "x = [1, 2, 3]\n",
    "column_list = list(df.columns)\n",
    "\n",
    "print(type(x), x)\n",
    "print(type(column_list), column_list)"
   ]
  },
  {
   "cell_type": "code",
   "execution_count": 44,
   "id": "7675feaa-d7b0-4b0e-b241-3ef08f9f0068",
   "metadata": {},
   "outputs": [
    {
     "name": "stdout",
     "output_type": "stream",
     "text": [
      "[1, 2, 3, 'onset', 'duration', 'circle_duration', 'stim_type', 'trigger', 'button_pushed', 'response_time', 'stim_file', [0, 1, 2, 3, 0, 1, 2, 3]]\n"
     ]
    }
   ],
   "source": [
    "# You can easily combine lists of different variable types\n",
    "\n",
    "y = x + column_list + [list(range(4))*2]\n",
    "print(y)"
   ]
  },
  {
   "cell_type": "code",
   "execution_count": 45,
   "id": "34ef5eb7-ce1b-438d-b731-278f382270a6",
   "metadata": {},
   "outputs": [
    {
     "name": "stdout",
     "output_type": "stream",
     "text": [
      "['onset', 'duration', 'circle_duration', 'stim_type', 'trigger', 'button_pushed', 'response_time', 'stim_file', 'accuracy']\n",
      "['onset', 'group', 'duration', 'circle_duration', 'stim_type', 'trigger', 'button_pushed', 'response_time', 'stim_file', 'accuracy']\n"
     ]
    }
   ],
   "source": [
    "## You can add items\n",
    "\n",
    "# Add to end\n",
    "column_list.append('accuracy')\n",
    "print(column_list)\n",
    "\n",
    "# Add at specific index\n",
    "column_list.insert(1, 'group')\n",
    "print(column_list)"
   ]
  },
  {
   "cell_type": "code",
   "execution_count": 46,
   "id": "4d6408a9-382a-411a-abb5-9ed168e4cad3",
   "metadata": {},
   "outputs": [
    {
     "name": "stdout",
     "output_type": "stream",
     "text": [
      "['group', 'duration', 'circle_duration', 'stim_type', 'trigger', 'button_pushed', 'response_time', 'stim_file', 'accuracy']\n",
      "['group', 'duration', 'circle_duration', 'stim_type', 'trigger', 'button_pushed', 'response_time', 'stim_file', 'accuracy']\n"
     ]
    }
   ],
   "source": [
    "## You can remove items\n",
    "\n",
    "# Remove first occurrence\n",
    "column_list.remove('onset')\n",
    "print(column_list)\n",
    "\n",
    "# Remove from index\n",
    "y.pop(5)\n",
    "print(column_list)"
   ]
  },
  {
   "cell_type": "code",
   "execution_count": 47,
   "id": "6a80774b-151a-436d-993b-cec25b9f13ad",
   "metadata": {},
   "outputs": [
    {
     "name": "stdout",
     "output_type": "stream",
     "text": [
      "['subjects', 'duration', 'circle_duration', 'stim_type', 'trigger', 'button_pushed', 'response_time', 'stim_file', 'accuracy']\n"
     ]
    }
   ],
   "source": [
    "# Change 'subject' to 'subjects'\n",
    "\n",
    "column_list[0] = 'subjects'\n",
    "print(column_list)"
   ]
  },
  {
   "cell_type": "code",
   "execution_count": 48,
   "id": "8e3aa0e4-9391-4693-bd19-e4143763e306",
   "metadata": {},
   "outputs": [
    {
     "name": "stdout",
     "output_type": "stream",
     "text": [
      "subjects\n",
      "duration\n",
      "circle_duration\n",
      "stim_type\n",
      "trigger\n",
      "button_pushed\n",
      "response_time\n",
      "stim_file\n",
      "accuracy\n"
     ]
    }
   ],
   "source": [
    "# Loop through list and print each name\n",
    "\n",
    "for col in column_list:\n",
    "    print(col)"
   ]
  },
  {
   "cell_type": "code",
   "execution_count": 49,
   "id": "effef4e5-3892-45c8-b915-bf11f80f4a64",
   "metadata": {},
   "outputs": [
    {
     "name": "stdout",
     "output_type": "stream",
     "text": [
      "0 subjects\n",
      "1 duration\n",
      "2 circle_duration\n",
      "3 stim_type\n",
      "4 trigger\n",
      "5 button_pushed\n",
      "6 response_time\n",
      "7 stim_file\n",
      "8 accuracy\n"
     ]
    }
   ],
   "source": [
    "# Loop through list and print index and name\n",
    "\n",
    "for i, col in enumerate(column_list):\n",
    "    print(i, col)"
   ]
  },
  {
   "cell_type": "code",
   "execution_count": 50,
   "id": "e3649093-88d1-48db-9736-fde9396a5ddb",
   "metadata": {},
   "outputs": [
    {
     "name": "stdout",
     "output_type": "stream",
     "text": [
      "circle_duration\n",
      "stim_type\n",
      "button_pushed\n",
      "response_time\n",
      "stim_file\n"
     ]
    }
   ],
   "source": [
    "# Loop through list and print only column names containing underscores\n",
    "\n",
    "for col in column_list:\n",
    "    if ('_' in col):\n",
    "        print(col)"
   ]
  },
  {
   "cell_type": "code",
   "execution_count": 51,
   "id": "cf72155d-4c02-4f20-bdbe-85c38b8fde08",
   "metadata": {},
   "outputs": [
    {
     "data": {
      "text/plain": [
       "['circle_duration', 'stim_type', 'button_pushed', 'response_time', 'stim_file']"
      ]
     },
     "execution_count": 51,
     "metadata": {},
     "output_type": "execute_result"
    }
   ],
   "source": [
    "# This can be shortened to:\n",
    "\n",
    "[col for col in column_list if '_' in col]"
   ]
  },
  {
   "cell_type": "code",
   "execution_count": 52,
   "id": "3f739b3f-2fc3-4b5e-b104-dee74b6c0f61",
   "metadata": {},
   "outputs": [
    {
     "data": {
      "text/plain": [
       "['ci', 'st', 'bu', 're', 'st']"
      ]
     },
     "execution_count": 52,
     "metadata": {},
     "output_type": "execute_result"
    }
   ],
   "source": [
    "# Syntax: [expression for item in list if condition == True]\n",
    "\n",
    "# Print first two letters of column names containing underscore\n",
    "[col[:2] for col in column_list if '_' in col]"
   ]
  },
  {
   "cell_type": "code",
   "execution_count": 158,
   "id": "bc659d82-06c2-4c33-91a1-6c68585a861d",
   "metadata": {},
   "outputs": [
    {
     "data": {
      "text/plain": [
       "['sub', 'dur', 'cir', 'sti', 'tri', 'but', 'res', 'sti', 'acc', 'dum']"
      ]
     },
     "execution_count": 158,
     "metadata": {},
     "output_type": "execute_result"
    }
   ],
   "source": [
    "# Syntax: [expression for item in list if condition == True]\n",
    "\n",
    "# Print first 3 letters of column names longer than 3\n",
    "[col[:3] for col in column_list if len(col)>3]"
   ]
  },
  {
   "cell_type": "code",
   "execution_count": 55,
   "id": "5bc67195-774f-499c-8b6c-4b5239369e8b",
   "metadata": {},
   "outputs": [
    {
     "name": "stdout",
     "output_type": "stream",
     "text": [
      "['subjects', 'duration', 'circle_duration', 'stim_type', 'trigger', 'button_pushed', 'response_time', 'stim_file', 'accuracy']\n"
     ]
    }
   ],
   "source": [
    "# IMPORTANT: you cannot copy a list by assigning it to new variable even if it looks possible\n",
    "\n",
    "x = column_list\n",
    "print(x)"
   ]
  },
  {
   "cell_type": "code",
   "execution_count": 56,
   "id": "8c23942c-8b96-456c-a723-b2047aeefba6",
   "metadata": {},
   "outputs": [
    {
     "name": "stdout",
     "output_type": "stream",
     "text": [
      "['subjects', 'duration', 'circle_duration', 'stim_type', 'trigger', 'button_pushed', 'response_time', 'stim_file', 'accuracy', 'dummy_column']\n"
     ]
    }
   ],
   "source": [
    "# x is only a reference to the original list, and any changes to x WILL ALSO CHANGE the original list\n",
    "\n",
    "x.append('dummy_column')\n",
    "print(column_list)"
   ]
  },
  {
   "cell_type": "code",
   "execution_count": 57,
   "id": "991b6f66-182e-4081-822c-2190347eb046",
   "metadata": {},
   "outputs": [
    {
     "name": "stdout",
     "output_type": "stream",
     "text": [
      "['subjects', 'duration', 'circle_duration', 'stim_type', 'trigger', 'button_pushed', 'response_time', 'stim_file', 'accuracy', 'dummy_column', 'dummy2']\n",
      "['subjects', 'duration', 'circle_duration', 'stim_type', 'trigger', 'button_pushed', 'response_time', 'stim_file', 'accuracy', 'dummy_column']\n"
     ]
    }
   ],
   "source": [
    "# To create a copy of a list, use the copy method\n",
    "\n",
    "x = column_list.copy()\n",
    "\n",
    "x.append('dummy2')\n",
    "print(x)\n",
    "print(column_list)"
   ]
  },
  {
   "cell_type": "markdown",
   "id": "2b2ab6f6-e6f2-4159-9d44-1174ded99119",
   "metadata": {},
   "source": [
    "#### II. Tuple\n",
    "\n",
    "You won't use it much, but you will see this from time to time so it's useful to understand its properties"
   ]
  },
  {
   "cell_type": "code",
   "execution_count": 59,
   "id": "592af44e-44f2-4ede-8d4f-d921167836bd",
   "metadata": {},
   "outputs": [
    {
     "name": "stdout",
     "output_type": "stream",
     "text": [
      "(100, 8)\n",
      "<class 'tuple'>\n",
      "100\n"
     ]
    }
   ],
   "source": [
    "# Tuples are ordered and unchangeable\n",
    "\n",
    "x = df.shape\n",
    "\n",
    "print(x)\n",
    "print(type(x))\n",
    "print(x[0])"
   ]
  },
  {
   "cell_type": "code",
   "execution_count": 60,
   "id": "348f4e80-24e8-4cec-ad1f-5aa663a667d2",
   "metadata": {},
   "outputs": [],
   "source": [
    "# You cannot modify a tuple\n",
    "\n",
    "#x[0] = 5"
   ]
  },
  {
   "cell_type": "code",
   "execution_count": 61,
   "id": "5c8f8212-1c2e-4f8e-a159-22a6a68a61ec",
   "metadata": {},
   "outputs": [],
   "source": [
    "# You cannot add items to a tuple\n",
    "\n",
    "#x.append(5)"
   ]
  },
  {
   "cell_type": "markdown",
   "id": "17fc71e3-9e03-4986-b084-3491253e1522",
   "metadata": {},
   "source": [
    "#### III. Set\n",
    "\n",
    "Sets are unordered and cannot have duplicate elements\n",
    "\n",
    "You can perform set operations"
   ]
  },
  {
   "cell_type": "code",
   "execution_count": 63,
   "id": "f9c9fa21-b1e5-4a90-9836-6617e9549374",
   "metadata": {},
   "outputs": [
    {
     "name": "stdout",
     "output_type": "stream",
     "text": [
      "{'SCRAMBLED', 'FAMOUS', 'UNFAMILIAR', nan}\n"
     ]
    }
   ],
   "source": [
    "# Get unique values of a collection\n",
    "\n",
    "stim_list = set(df['stim_type'])\n",
    "\n",
    "print(stim_list)"
   ]
  },
  {
   "cell_type": "code",
   "execution_count": 64,
   "id": "693c12a3-d20e-4a8d-a53c-5b2c19c3fe2c",
   "metadata": {},
   "outputs": [
    {
     "name": "stdout",
     "output_type": "stream",
     "text": [
      "{'FAMOUS', 'UNFAMILIAR'}\n"
     ]
    }
   ],
   "source": [
    "# Create a new set of the desired stimulus types\n",
    "\n",
    "stim_keep = {'FAMOUS', 'UNFAMILIAR'}\n",
    "\n",
    "print(stim_keep)"
   ]
  },
  {
   "cell_type": "code",
   "execution_count": 65,
   "id": "09ee4e4d-8004-4e48-bf4d-2e87abf85266",
   "metadata": {},
   "outputs": [
    {
     "name": "stdout",
     "output_type": "stream",
     "text": [
      "{'FAMOUS', 'UNFAMILIAR'}\n",
      "{'SCRAMBLED', nan}\n"
     ]
    }
   ],
   "source": [
    "# Perform set operations, for example:\n",
    "\n",
    "print(stim_list & stim_keep) # Items present in both sets\n",
    "print(stim_list ^ stim_keep) # Items only present in one set"
   ]
  },
  {
   "cell_type": "markdown",
   "id": "b6530096-d287-4183-9a4f-46ad6ef3a3e2",
   "metadata": {},
   "source": [
    "#### IV. Dictionaries\n",
    "\n",
    "Store data in key:value pairs\n",
    "\n",
    "Popular way to store data"
   ]
  },
  {
   "cell_type": "code",
   "execution_count": 67,
   "id": "55ae9b4a-33a8-412d-8d30-9d90e4a5bdc2",
   "metadata": {},
   "outputs": [
    {
     "name": "stdout",
     "output_type": "stream",
     "text": [
      "<class 'dict'> {'subject': 'sub-04', 'mean': 1.99844}\n"
     ]
    }
   ],
   "source": [
    "# Save summary values of df\n",
    "\n",
    "df_summary = {\n",
    "    'subject' : 'sub-04',\n",
    "    'mean': df['response_time'].mean()\n",
    "}\n",
    "\n",
    "print(type(df_summary), df_summary)"
   ]
  },
  {
   "cell_type": "code",
   "execution_count": 68,
   "id": "17581b6f-c993-4b67-84b9-859e6871b64c",
   "metadata": {},
   "outputs": [
    {
     "name": "stdout",
     "output_type": "stream",
     "text": [
      "<class 'dict'> {'subject': 'sub-04', 'mean': 1.99844, 'median': 1.0070000000000001}\n"
     ]
    }
   ],
   "source": [
    "# Add entry to dictionary\n",
    "\n",
    "df_summary['median'] = df['response_time'].median()\n",
    "\n",
    "print(type(df_summary), df_summary)"
   ]
  },
  {
   "cell_type": "code",
   "execution_count": 69,
   "id": "0c34e60c-8394-4700-85c2-c3f825c221cf",
   "metadata": {},
   "outputs": [
    {
     "name": "stdout",
     "output_type": "stream",
     "text": [
      "subject\n",
      "mean\n",
      "median\n"
     ]
    }
   ],
   "source": [
    "## Loop through dictionary\n",
    "\n",
    "# Using the keys\n",
    "for key in df_summary.keys():\n",
    "    print(key)"
   ]
  },
  {
   "cell_type": "code",
   "execution_count": 70,
   "id": "c5830047-84fc-4bac-8e51-32c21aad07a0",
   "metadata": {},
   "outputs": [
    {
     "name": "stdout",
     "output_type": "stream",
     "text": [
      "sub-04\n",
      "1.99844\n",
      "1.0070000000000001\n"
     ]
    }
   ],
   "source": [
    "## Loop through dictionary\n",
    "\n",
    "# Using the values\n",
    "for value in df_summary.values():\n",
    "    print(value)"
   ]
  },
  {
   "cell_type": "code",
   "execution_count": 71,
   "id": "96a846ee-47ea-42cb-a1ec-010f9b0e037a",
   "metadata": {},
   "outputs": [],
   "source": [
    "# IMPORTANT: to make a distionary copy, you need to use the copy method, do not assign directly to new variable"
   ]
  },
  {
   "cell_type": "markdown",
   "id": "fe81a525-d1fa-484f-9d5c-4e4a0944c19d",
   "metadata": {},
   "source": [
    "## Editing dataframe:\n",
    "\n",
    "Sometimes, we want to add columns or update values"
   ]
  },
  {
   "cell_type": "code",
   "execution_count": 73,
   "id": "9c3d3063-a31d-4d08-9a67-679793d04892",
   "metadata": {},
   "outputs": [
    {
     "data": {
      "text/html": [
       "<div>\n",
       "<style scoped>\n",
       "    .dataframe tbody tr th:only-of-type {\n",
       "        vertical-align: middle;\n",
       "    }\n",
       "\n",
       "    .dataframe tbody tr th {\n",
       "        vertical-align: top;\n",
       "    }\n",
       "\n",
       "    .dataframe thead th {\n",
       "        text-align: right;\n",
       "    }\n",
       "</style>\n",
       "<table border=\"1\" class=\"dataframe\">\n",
       "  <thead>\n",
       "    <tr style=\"text-align: right;\">\n",
       "      <th></th>\n",
       "      <th>onset</th>\n",
       "      <th>duration</th>\n",
       "      <th>circle_duration</th>\n",
       "      <th>stim_type</th>\n",
       "      <th>trigger</th>\n",
       "      <th>button_pushed</th>\n",
       "      <th>response_time</th>\n",
       "      <th>stim_file</th>\n",
       "      <th>subject</th>\n",
       "      <th>run</th>\n",
       "    </tr>\n",
       "  </thead>\n",
       "  <tbody>\n",
       "    <tr>\n",
       "      <th>0</th>\n",
       "      <td>0.000</td>\n",
       "      <td>0.983</td>\n",
       "      <td>0.492</td>\n",
       "      <td>SCRAMBLED</td>\n",
       "      <td>17</td>\n",
       "      <td>7</td>\n",
       "      <td>1.553</td>\n",
       "      <td>func/s008.bmp</td>\n",
       "      <td>sub-04</td>\n",
       "      <td>1</td>\n",
       "    </tr>\n",
       "    <tr>\n",
       "      <th>1</th>\n",
       "      <td>3.240</td>\n",
       "      <td>0.971</td>\n",
       "      <td>0.488</td>\n",
       "      <td>SCRAMBLED</td>\n",
       "      <td>17</td>\n",
       "      <td>7</td>\n",
       "      <td>1.904</td>\n",
       "      <td>func/s004.bmp</td>\n",
       "      <td>sub-04</td>\n",
       "      <td>1</td>\n",
       "    </tr>\n",
       "    <tr>\n",
       "      <th>2</th>\n",
       "      <td>6.498</td>\n",
       "      <td>0.832</td>\n",
       "      <td>0.409</td>\n",
       "      <td>SCRAMBLED</td>\n",
       "      <td>18</td>\n",
       "      <td>4</td>\n",
       "      <td>1.548</td>\n",
       "      <td>func/s004.bmp</td>\n",
       "      <td>sub-04</td>\n",
       "      <td>1</td>\n",
       "    </tr>\n",
       "    <tr>\n",
       "      <th>3</th>\n",
       "      <td>9.538</td>\n",
       "      <td>0.898</td>\n",
       "      <td>0.441</td>\n",
       "      <td>FAMOUS</td>\n",
       "      <td>5</td>\n",
       "      <td>4</td>\n",
       "      <td>1.685</td>\n",
       "      <td>func/f002.bmp</td>\n",
       "      <td>sub-04</td>\n",
       "      <td>1</td>\n",
       "    </tr>\n",
       "    <tr>\n",
       "      <th>4</th>\n",
       "      <td>12.644</td>\n",
       "      <td>0.993</td>\n",
       "      <td>0.445</td>\n",
       "      <td>FAMOUS</td>\n",
       "      <td>6</td>\n",
       "      <td>4</td>\n",
       "      <td>1.482</td>\n",
       "      <td>func/f002.bmp</td>\n",
       "      <td>sub-04</td>\n",
       "      <td>1</td>\n",
       "    </tr>\n",
       "  </tbody>\n",
       "</table>\n",
       "</div>"
      ],
      "text/plain": [
       "    onset  duration  circle_duration  stim_type  trigger  button_pushed  \\\n",
       "0   0.000     0.983            0.492  SCRAMBLED       17              7   \n",
       "1   3.240     0.971            0.488  SCRAMBLED       17              7   \n",
       "2   6.498     0.832            0.409  SCRAMBLED       18              4   \n",
       "3   9.538     0.898            0.441     FAMOUS        5              4   \n",
       "4  12.644     0.993            0.445     FAMOUS        6              4   \n",
       "\n",
       "   response_time      stim_file subject  run  \n",
       "0          1.553  func/s008.bmp  sub-04    1  \n",
       "1          1.904  func/s004.bmp  sub-04    1  \n",
       "2          1.548  func/s004.bmp  sub-04    1  \n",
       "3          1.685  func/f002.bmp  sub-04    1  \n",
       "4          1.482  func/f002.bmp  sub-04    1  "
      ]
     },
     "execution_count": 73,
     "metadata": {},
     "output_type": "execute_result"
    }
   ],
   "source": [
    "## Adding columns\n",
    "\n",
    "# Let's add a subject column\n",
    "df['subject'] = 'sub-04'\n",
    "\n",
    "# Add a column with the run number\n",
    "df['run'] = 1\n",
    "\n",
    "df.head()"
   ]
  },
  {
   "cell_type": "code",
   "execution_count": 74,
   "id": "529f0759-bbbc-433d-b0c8-040a6cac437d",
   "metadata": {},
   "outputs": [
    {
     "data": {
      "text/html": [
       "<div>\n",
       "<style scoped>\n",
       "    .dataframe tbody tr th:only-of-type {\n",
       "        vertical-align: middle;\n",
       "    }\n",
       "\n",
       "    .dataframe tbody tr th {\n",
       "        vertical-align: top;\n",
       "    }\n",
       "\n",
       "    .dataframe thead th {\n",
       "        text-align: right;\n",
       "    }\n",
       "</style>\n",
       "<table border=\"1\" class=\"dataframe\">\n",
       "  <thead>\n",
       "    <tr style=\"text-align: right;\">\n",
       "      <th></th>\n",
       "      <th>subject</th>\n",
       "      <th>run</th>\n",
       "      <th>onset</th>\n",
       "      <th>duration</th>\n",
       "      <th>circle_duration</th>\n",
       "      <th>stim_type</th>\n",
       "      <th>trigger</th>\n",
       "      <th>button_pushed</th>\n",
       "      <th>response_time</th>\n",
       "      <th>stim_file</th>\n",
       "    </tr>\n",
       "  </thead>\n",
       "  <tbody>\n",
       "    <tr>\n",
       "      <th>0</th>\n",
       "      <td>sub-04</td>\n",
       "      <td>1</td>\n",
       "      <td>0.000</td>\n",
       "      <td>0.983</td>\n",
       "      <td>0.492</td>\n",
       "      <td>SCRAMBLED</td>\n",
       "      <td>17</td>\n",
       "      <td>7</td>\n",
       "      <td>1.553</td>\n",
       "      <td>func/s008.bmp</td>\n",
       "    </tr>\n",
       "    <tr>\n",
       "      <th>1</th>\n",
       "      <td>sub-04</td>\n",
       "      <td>1</td>\n",
       "      <td>3.240</td>\n",
       "      <td>0.971</td>\n",
       "      <td>0.488</td>\n",
       "      <td>SCRAMBLED</td>\n",
       "      <td>17</td>\n",
       "      <td>7</td>\n",
       "      <td>1.904</td>\n",
       "      <td>func/s004.bmp</td>\n",
       "    </tr>\n",
       "    <tr>\n",
       "      <th>2</th>\n",
       "      <td>sub-04</td>\n",
       "      <td>1</td>\n",
       "      <td>6.498</td>\n",
       "      <td>0.832</td>\n",
       "      <td>0.409</td>\n",
       "      <td>SCRAMBLED</td>\n",
       "      <td>18</td>\n",
       "      <td>4</td>\n",
       "      <td>1.548</td>\n",
       "      <td>func/s004.bmp</td>\n",
       "    </tr>\n",
       "    <tr>\n",
       "      <th>3</th>\n",
       "      <td>sub-04</td>\n",
       "      <td>1</td>\n",
       "      <td>9.538</td>\n",
       "      <td>0.898</td>\n",
       "      <td>0.441</td>\n",
       "      <td>FAMOUS</td>\n",
       "      <td>5</td>\n",
       "      <td>4</td>\n",
       "      <td>1.685</td>\n",
       "      <td>func/f002.bmp</td>\n",
       "    </tr>\n",
       "    <tr>\n",
       "      <th>4</th>\n",
       "      <td>sub-04</td>\n",
       "      <td>1</td>\n",
       "      <td>12.644</td>\n",
       "      <td>0.993</td>\n",
       "      <td>0.445</td>\n",
       "      <td>FAMOUS</td>\n",
       "      <td>6</td>\n",
       "      <td>4</td>\n",
       "      <td>1.482</td>\n",
       "      <td>func/f002.bmp</td>\n",
       "    </tr>\n",
       "  </tbody>\n",
       "</table>\n",
       "</div>"
      ],
      "text/plain": [
       "  subject  run   onset  duration  circle_duration  stim_type  trigger  \\\n",
       "0  sub-04    1   0.000     0.983            0.492  SCRAMBLED       17   \n",
       "1  sub-04    1   3.240     0.971            0.488  SCRAMBLED       17   \n",
       "2  sub-04    1   6.498     0.832            0.409  SCRAMBLED       18   \n",
       "3  sub-04    1   9.538     0.898            0.441     FAMOUS        5   \n",
       "4  sub-04    1  12.644     0.993            0.445     FAMOUS        6   \n",
       "\n",
       "   button_pushed  response_time      stim_file  \n",
       "0              7          1.553  func/s008.bmp  \n",
       "1              7          1.904  func/s004.bmp  \n",
       "2              4          1.548  func/s004.bmp  \n",
       "3              4          1.685  func/f002.bmp  \n",
       "4              4          1.482  func/f002.bmp  "
      ]
     },
     "execution_count": 74,
     "metadata": {},
     "output_type": "execute_result"
    }
   ],
   "source": [
    "## Rearranging columns\n",
    "\n",
    "# Let's re-arrange the columns into a more pleasing order\n",
    "df = df[['subject', 'run', 'onset', 'duration', 'circle_duration', 'stim_type', 'trigger', 'button_pushed', 'response_time', 'stim_file']]\n",
    "\n",
    "df.head()"
   ]
  },
  {
   "cell_type": "code",
   "execution_count": 75,
   "id": "b77344a4-3ec0-45a5-87f1-e8bc1880d675",
   "metadata": {},
   "outputs": [
    {
     "data": {
      "text/html": [
       "<div>\n",
       "<style scoped>\n",
       "    .dataframe tbody tr th:only-of-type {\n",
       "        vertical-align: middle;\n",
       "    }\n",
       "\n",
       "    .dataframe tbody tr th {\n",
       "        vertical-align: top;\n",
       "    }\n",
       "\n",
       "    .dataframe thead th {\n",
       "        text-align: right;\n",
       "    }\n",
       "</style>\n",
       "<table border=\"1\" class=\"dataframe\">\n",
       "  <thead>\n",
       "    <tr style=\"text-align: right;\">\n",
       "      <th></th>\n",
       "      <th>subject</th>\n",
       "      <th>run</th>\n",
       "      <th>stim_type</th>\n",
       "      <th>response_time</th>\n",
       "      <th>stim_file</th>\n",
       "    </tr>\n",
       "  </thead>\n",
       "  <tbody>\n",
       "    <tr>\n",
       "      <th>0</th>\n",
       "      <td>sub-04</td>\n",
       "      <td>1</td>\n",
       "      <td>SCRAMBLED</td>\n",
       "      <td>1.553</td>\n",
       "      <td>func/s008.bmp</td>\n",
       "    </tr>\n",
       "    <tr>\n",
       "      <th>1</th>\n",
       "      <td>sub-04</td>\n",
       "      <td>1</td>\n",
       "      <td>SCRAMBLED</td>\n",
       "      <td>1.904</td>\n",
       "      <td>func/s004.bmp</td>\n",
       "    </tr>\n",
       "    <tr>\n",
       "      <th>2</th>\n",
       "      <td>sub-04</td>\n",
       "      <td>1</td>\n",
       "      <td>SCRAMBLED</td>\n",
       "      <td>1.548</td>\n",
       "      <td>func/s004.bmp</td>\n",
       "    </tr>\n",
       "    <tr>\n",
       "      <th>3</th>\n",
       "      <td>sub-04</td>\n",
       "      <td>1</td>\n",
       "      <td>FAMOUS</td>\n",
       "      <td>1.685</td>\n",
       "      <td>func/f002.bmp</td>\n",
       "    </tr>\n",
       "    <tr>\n",
       "      <th>4</th>\n",
       "      <td>sub-04</td>\n",
       "      <td>1</td>\n",
       "      <td>FAMOUS</td>\n",
       "      <td>1.482</td>\n",
       "      <td>func/f002.bmp</td>\n",
       "    </tr>\n",
       "  </tbody>\n",
       "</table>\n",
       "</div>"
      ],
      "text/plain": [
       "  subject  run  stim_type  response_time      stim_file\n",
       "0  sub-04    1  SCRAMBLED          1.553  func/s008.bmp\n",
       "1  sub-04    1  SCRAMBLED          1.904  func/s004.bmp\n",
       "2  sub-04    1  SCRAMBLED          1.548  func/s004.bmp\n",
       "3  sub-04    1     FAMOUS          1.685  func/f002.bmp\n",
       "4  sub-04    1     FAMOUS          1.482  func/f002.bmp"
      ]
     },
     "execution_count": 75,
     "metadata": {},
     "output_type": "execute_result"
    }
   ],
   "source": [
    "# We can also drop some of the columns altogether\n",
    "\n",
    "new_df = df[['subject', 'run', 'stim_type', 'response_time', 'stim_file']]\n",
    "\n",
    "new_df.head()"
   ]
  },
  {
   "cell_type": "code",
   "execution_count": 76,
   "id": "2714c4c7-abed-433a-9e01-02d8c62b42a3",
   "metadata": {},
   "outputs": [
    {
     "data": {
      "text/html": [
       "<div>\n",
       "<style scoped>\n",
       "    .dataframe tbody tr th:only-of-type {\n",
       "        vertical-align: middle;\n",
       "    }\n",
       "\n",
       "    .dataframe tbody tr th {\n",
       "        vertical-align: top;\n",
       "    }\n",
       "\n",
       "    .dataframe thead th {\n",
       "        text-align: right;\n",
       "    }\n",
       "</style>\n",
       "<table border=\"1\" class=\"dataframe\">\n",
       "  <thead>\n",
       "    <tr style=\"text-align: right;\">\n",
       "      <th></th>\n",
       "      <th>subject</th>\n",
       "      <th>run</th>\n",
       "      <th>stim_type</th>\n",
       "      <th>response_time</th>\n",
       "      <th>stim_file</th>\n",
       "    </tr>\n",
       "  </thead>\n",
       "  <tbody>\n",
       "    <tr>\n",
       "      <th>0</th>\n",
       "      <td>sub-04</td>\n",
       "      <td>1</td>\n",
       "      <td>SCRAMBLED</td>\n",
       "      <td>1553.0</td>\n",
       "      <td>func/s008.bmp</td>\n",
       "    </tr>\n",
       "    <tr>\n",
       "      <th>1</th>\n",
       "      <td>sub-04</td>\n",
       "      <td>1</td>\n",
       "      <td>SCRAMBLED</td>\n",
       "      <td>1904.0</td>\n",
       "      <td>func/s004.bmp</td>\n",
       "    </tr>\n",
       "    <tr>\n",
       "      <th>2</th>\n",
       "      <td>sub-04</td>\n",
       "      <td>1</td>\n",
       "      <td>SCRAMBLED</td>\n",
       "      <td>1548.0</td>\n",
       "      <td>func/s004.bmp</td>\n",
       "    </tr>\n",
       "    <tr>\n",
       "      <th>3</th>\n",
       "      <td>sub-04</td>\n",
       "      <td>1</td>\n",
       "      <td>FAMOUS</td>\n",
       "      <td>1685.0</td>\n",
       "      <td>func/f002.bmp</td>\n",
       "    </tr>\n",
       "    <tr>\n",
       "      <th>4</th>\n",
       "      <td>sub-04</td>\n",
       "      <td>1</td>\n",
       "      <td>FAMOUS</td>\n",
       "      <td>1482.0</td>\n",
       "      <td>func/f002.bmp</td>\n",
       "    </tr>\n",
       "  </tbody>\n",
       "</table>\n",
       "</div>"
      ],
      "text/plain": [
       "  subject  run  stim_type  response_time      stim_file\n",
       "0  sub-04    1  SCRAMBLED         1553.0  func/s008.bmp\n",
       "1  sub-04    1  SCRAMBLED         1904.0  func/s004.bmp\n",
       "2  sub-04    1  SCRAMBLED         1548.0  func/s004.bmp\n",
       "3  sub-04    1     FAMOUS         1685.0  func/f002.bmp\n",
       "4  sub-04    1     FAMOUS         1482.0  func/f002.bmp"
      ]
     },
     "execution_count": 76,
     "metadata": {},
     "output_type": "execute_result"
    }
   ],
   "source": [
    "## Editing values\n",
    "\n",
    "# Change the units of a column, for instance convert response_time between seconds and milliseconds\n",
    "new_df.loc[:, 'response_time'] *= 1000\n",
    "\n",
    "new_df.head()"
   ]
  },
  {
   "cell_type": "code",
   "execution_count": 77,
   "id": "deca0ae8-00a0-485c-9b53-a8d62fbdede3",
   "metadata": {},
   "outputs": [
    {
     "data": {
      "text/html": [
       "<div>\n",
       "<style scoped>\n",
       "    .dataframe tbody tr th:only-of-type {\n",
       "        vertical-align: middle;\n",
       "    }\n",
       "\n",
       "    .dataframe tbody tr th {\n",
       "        vertical-align: top;\n",
       "    }\n",
       "\n",
       "    .dataframe thead th {\n",
       "        text-align: right;\n",
       "    }\n",
       "</style>\n",
       "<table border=\"1\" class=\"dataframe\">\n",
       "  <thead>\n",
       "    <tr style=\"text-align: right;\">\n",
       "      <th></th>\n",
       "      <th>subject</th>\n",
       "      <th>run</th>\n",
       "      <th>stim_type</th>\n",
       "      <th>response_time</th>\n",
       "      <th>stim_file</th>\n",
       "    </tr>\n",
       "  </thead>\n",
       "  <tbody>\n",
       "    <tr>\n",
       "      <th>72</th>\n",
       "      <td>sub-04</td>\n",
       "      <td>1</td>\n",
       "      <td>FAMOUS</td>\n",
       "      <td>1023.0</td>\n",
       "      <td>func/f004.bmp</td>\n",
       "    </tr>\n",
       "    <tr>\n",
       "      <th>52</th>\n",
       "      <td>sub-04</td>\n",
       "      <td>1</td>\n",
       "      <td>FAMOUS</td>\n",
       "      <td>852.0</td>\n",
       "      <td>func/f008.bmp</td>\n",
       "    </tr>\n",
       "    <tr>\n",
       "      <th>25</th>\n",
       "      <td>sub-04</td>\n",
       "      <td>1</td>\n",
       "      <td>FAMOUS</td>\n",
       "      <td>981.0</td>\n",
       "      <td>func/f012.bmp</td>\n",
       "    </tr>\n",
       "    <tr>\n",
       "      <th>71</th>\n",
       "      <td>sub-04</td>\n",
       "      <td>1</td>\n",
       "      <td>FAMOUS</td>\n",
       "      <td>767.0</td>\n",
       "      <td>func/f010.bmp</td>\n",
       "    </tr>\n",
       "    <tr>\n",
       "      <th>70</th>\n",
       "      <td>sub-04</td>\n",
       "      <td>1</td>\n",
       "      <td>FAMOUS</td>\n",
       "      <td>1166.0</td>\n",
       "      <td>func/f010.bmp</td>\n",
       "    </tr>\n",
       "    <tr>\n",
       "      <th>...</th>\n",
       "      <td>...</td>\n",
       "      <td>...</td>\n",
       "      <td>...</td>\n",
       "      <td>...</td>\n",
       "      <td>...</td>\n",
       "    </tr>\n",
       "    <tr>\n",
       "      <th>29</th>\n",
       "      <td>sub-04</td>\n",
       "      <td>1</td>\n",
       "      <td>NaN</td>\n",
       "      <td>20000.0</td>\n",
       "      <td>func/i999.bmp</td>\n",
       "    </tr>\n",
       "    <tr>\n",
       "      <th>50</th>\n",
       "      <td>sub-04</td>\n",
       "      <td>1</td>\n",
       "      <td>NaN</td>\n",
       "      <td>20000.0</td>\n",
       "      <td>func/i999.bmp</td>\n",
       "    </tr>\n",
       "    <tr>\n",
       "      <th>69</th>\n",
       "      <td>sub-04</td>\n",
       "      <td>1</td>\n",
       "      <td>NaN</td>\n",
       "      <td>20000.0</td>\n",
       "      <td>func/i999.bmp</td>\n",
       "    </tr>\n",
       "    <tr>\n",
       "      <th>89</th>\n",
       "      <td>sub-04</td>\n",
       "      <td>1</td>\n",
       "      <td>NaN</td>\n",
       "      <td>20000.0</td>\n",
       "      <td>func/i999.bmp</td>\n",
       "    </tr>\n",
       "    <tr>\n",
       "      <th>99</th>\n",
       "      <td>sub-04</td>\n",
       "      <td>1</td>\n",
       "      <td>NaN</td>\n",
       "      <td>0.0</td>\n",
       "      <td>func/Circle.bmp</td>\n",
       "    </tr>\n",
       "  </tbody>\n",
       "</table>\n",
       "<p>100 rows × 5 columns</p>\n",
       "</div>"
      ],
      "text/plain": [
       "   subject  run stim_type  response_time        stim_file\n",
       "72  sub-04    1    FAMOUS         1023.0    func/f004.bmp\n",
       "52  sub-04    1    FAMOUS          852.0    func/f008.bmp\n",
       "25  sub-04    1    FAMOUS          981.0    func/f012.bmp\n",
       "71  sub-04    1    FAMOUS          767.0    func/f010.bmp\n",
       "70  sub-04    1    FAMOUS         1166.0    func/f010.bmp\n",
       "..     ...  ...       ...            ...              ...\n",
       "29  sub-04    1       NaN        20000.0    func/i999.bmp\n",
       "50  sub-04    1       NaN        20000.0    func/i999.bmp\n",
       "69  sub-04    1       NaN        20000.0    func/i999.bmp\n",
       "89  sub-04    1       NaN        20000.0    func/i999.bmp\n",
       "99  sub-04    1       NaN            0.0  func/Circle.bmp\n",
       "\n",
       "[100 rows x 5 columns]"
      ]
     },
     "execution_count": 77,
     "metadata": {},
     "output_type": "execute_result"
    }
   ],
   "source": [
    "## Sorting \n",
    "\n",
    "# We could also sort the data by the stim_type column\n",
    "new_df.sort_values(by='stim_type')\n"
   ]
  },
  {
   "cell_type": "code",
   "execution_count": 78,
   "id": "dccc6445-5259-473a-bb64-0979c66c6c1e",
   "metadata": {},
   "outputs": [
    {
     "data": {
      "text/html": [
       "<div>\n",
       "<style scoped>\n",
       "    .dataframe tbody tr th:only-of-type {\n",
       "        vertical-align: middle;\n",
       "    }\n",
       "\n",
       "    .dataframe tbody tr th {\n",
       "        vertical-align: top;\n",
       "    }\n",
       "\n",
       "    .dataframe thead th {\n",
       "        text-align: right;\n",
       "    }\n",
       "</style>\n",
       "<table border=\"1\" class=\"dataframe\">\n",
       "  <thead>\n",
       "    <tr style=\"text-align: right;\">\n",
       "      <th></th>\n",
       "      <th>subject</th>\n",
       "      <th>run</th>\n",
       "      <th>stim_type</th>\n",
       "      <th>response_time</th>\n",
       "      <th>stim_file</th>\n",
       "    </tr>\n",
       "  </thead>\n",
       "  <tbody>\n",
       "    <tr>\n",
       "      <th>94</th>\n",
       "      <td>sub-04</td>\n",
       "      <td>1</td>\n",
       "      <td>FAMOUS</td>\n",
       "      <td>600.0</td>\n",
       "      <td>func/f007.bmp</td>\n",
       "    </tr>\n",
       "    <tr>\n",
       "      <th>73</th>\n",
       "      <td>sub-04</td>\n",
       "      <td>1</td>\n",
       "      <td>FAMOUS</td>\n",
       "      <td>747.0</td>\n",
       "      <td>func/f004.bmp</td>\n",
       "    </tr>\n",
       "    <tr>\n",
       "      <th>18</th>\n",
       "      <td>sub-04</td>\n",
       "      <td>1</td>\n",
       "      <td>FAMOUS</td>\n",
       "      <td>750.0</td>\n",
       "      <td>func/f003.bmp</td>\n",
       "    </tr>\n",
       "    <tr>\n",
       "      <th>71</th>\n",
       "      <td>sub-04</td>\n",
       "      <td>1</td>\n",
       "      <td>FAMOUS</td>\n",
       "      <td>767.0</td>\n",
       "      <td>func/f010.bmp</td>\n",
       "    </tr>\n",
       "    <tr>\n",
       "      <th>91</th>\n",
       "      <td>sub-04</td>\n",
       "      <td>1</td>\n",
       "      <td>FAMOUS</td>\n",
       "      <td>787.0</td>\n",
       "      <td>func/f005.bmp</td>\n",
       "    </tr>\n",
       "    <tr>\n",
       "      <th>...</th>\n",
       "      <td>...</td>\n",
       "      <td>...</td>\n",
       "      <td>...</td>\n",
       "      <td>...</td>\n",
       "      <td>...</td>\n",
       "    </tr>\n",
       "    <tr>\n",
       "      <th>11</th>\n",
       "      <td>sub-04</td>\n",
       "      <td>1</td>\n",
       "      <td>NaN</td>\n",
       "      <td>20000.0</td>\n",
       "      <td>func/i999.bmp</td>\n",
       "    </tr>\n",
       "    <tr>\n",
       "      <th>29</th>\n",
       "      <td>sub-04</td>\n",
       "      <td>1</td>\n",
       "      <td>NaN</td>\n",
       "      <td>20000.0</td>\n",
       "      <td>func/i999.bmp</td>\n",
       "    </tr>\n",
       "    <tr>\n",
       "      <th>50</th>\n",
       "      <td>sub-04</td>\n",
       "      <td>1</td>\n",
       "      <td>NaN</td>\n",
       "      <td>20000.0</td>\n",
       "      <td>func/i999.bmp</td>\n",
       "    </tr>\n",
       "    <tr>\n",
       "      <th>69</th>\n",
       "      <td>sub-04</td>\n",
       "      <td>1</td>\n",
       "      <td>NaN</td>\n",
       "      <td>20000.0</td>\n",
       "      <td>func/i999.bmp</td>\n",
       "    </tr>\n",
       "    <tr>\n",
       "      <th>89</th>\n",
       "      <td>sub-04</td>\n",
       "      <td>1</td>\n",
       "      <td>NaN</td>\n",
       "      <td>20000.0</td>\n",
       "      <td>func/i999.bmp</td>\n",
       "    </tr>\n",
       "  </tbody>\n",
       "</table>\n",
       "<p>100 rows × 5 columns</p>\n",
       "</div>"
      ],
      "text/plain": [
       "   subject  run stim_type  response_time      stim_file\n",
       "94  sub-04    1    FAMOUS          600.0  func/f007.bmp\n",
       "73  sub-04    1    FAMOUS          747.0  func/f004.bmp\n",
       "18  sub-04    1    FAMOUS          750.0  func/f003.bmp\n",
       "71  sub-04    1    FAMOUS          767.0  func/f010.bmp\n",
       "91  sub-04    1    FAMOUS          787.0  func/f005.bmp\n",
       "..     ...  ...       ...            ...            ...\n",
       "11  sub-04    1       NaN        20000.0  func/i999.bmp\n",
       "29  sub-04    1       NaN        20000.0  func/i999.bmp\n",
       "50  sub-04    1       NaN        20000.0  func/i999.bmp\n",
       "69  sub-04    1       NaN        20000.0  func/i999.bmp\n",
       "89  sub-04    1       NaN        20000.0  func/i999.bmp\n",
       "\n",
       "[100 rows x 5 columns]"
      ]
     },
     "execution_count": 78,
     "metadata": {},
     "output_type": "execute_result"
    }
   ],
   "source": [
    "# Or by two columns\n",
    "\n",
    "new_df.sort_values(by=['stim_type', 'response_time'])"
   ]
  },
  {
   "cell_type": "markdown",
   "id": "6ea1e89c-0c19-42d1-a327-7d933c557fdd",
   "metadata": {},
   "source": [
    "# 3. Saving data externally\n",
    "\n",
    "We simply use a pandas function to save our dataframe. You can view this file outside Python using a text editor or Excel, etc."
   ]
  },
  {
   "cell_type": "code",
   "execution_count": 80,
   "id": "6d9e5537-e806-4eab-9ca4-1f8311d18bad",
   "metadata": {},
   "outputs": [],
   "source": [
    "# This time, let's export to the more common csv format. We also specify that we don't want an extra index column in the file.\n",
    "\n",
    "new_df.to_csv(respath + 'just_an_example.csv', index=False)"
   ]
  },
  {
   "cell_type": "markdown",
   "id": "5ef0b42d-54bc-49fa-94ff-f8555dcf189d",
   "metadata": {},
   "source": [
    "# **Putting it all together**\n",
    "\n",
    "Let's put what we've learnt so far into a coherent block of code, and we shall use the resulting dataframe for the next part of the primer on plotting data."
   ]
  },
  {
   "cell_type": "code",
   "execution_count": 82,
   "id": "cdda9504-0a6b-439f-a93d-a4155084e6d5",
   "metadata": {},
   "outputs": [
    {
     "data": {
      "text/plain": [
       "stim_type\n",
       "FAMOUS        0.770255\n",
       "SCRAMBLED     0.781195\n",
       "UNFAMILIAR    0.762843\n",
       "Name: response_time, dtype: float64"
      ]
     },
     "execution_count": 82,
     "metadata": {},
     "output_type": "execute_result"
    }
   ],
   "source": [
    "# --- Libraries --- #\n",
    "\n",
    "import pandas as pd\n",
    "\n",
    "# --- Set paths --- #\n",
    "\n",
    "project = '~/COGNESTIC/01_Primer_on_Python/'\n",
    "inpath = project + 'data/'\n",
    "respath = project + 'outputs/'\n",
    "\n",
    "# --- Get data from sixteen subjects (assume that sub-04 is missing run-05) --- #\n",
    "\n",
    "all_data = pd.DataFrame()\n",
    "\n",
    "# For each subject\n",
    "for s in range(1, 17):\n",
    "\n",
    "    # Zeropad integer to get subject name\n",
    "    subject = 'sub-' + str(s).zfill(2)\n",
    "    \n",
    "    # For each run\n",
    "    for i in range(1, 10):\n",
    "\n",
    "        # If sub-04's 5th run, skip loop\n",
    "        if subject == 'sub-04' and i == 5:\n",
    "            continue\n",
    "\n",
    "        # Get the file and read data\n",
    "        run_file = subject + '/' + subject + '_ses-mri_task-facerecognition_run-0' + str(i) +'_events.tsv'\n",
    "        run_data = pd.read_csv(inpath + run_file, sep='\\t')\n",
    "\n",
    "        # Add columns for subject and run\n",
    "        run_data['subject'] = subject\n",
    "        run_data['run'] = i\n",
    "        \n",
    "        # Add to main dataframe\n",
    "        all_data = pd.concat([all_data, run_data])\n",
    "        \n",
    "# --- Clean data --- #\n",
    "\n",
    "# Remove any rows without a valid stim_type or button_pushed value\n",
    "all_data = all_data[all_data['stim_type'].notna() & all_data['button_pushed'].notna()]\n",
    "\n",
    "# Remove response times over 1 second\n",
    "all_data = all_data[all_data['response_time'] <= 1.0]\n",
    "\n",
    "# --- Output collated data to single tsv file --- #\n",
    "\n",
    "# Export to csv file\n",
    "all_data.to_csv(respath + 'events_16sub.csv', index=False)\n",
    "\n",
    "# --- Print out summary: mean RT for each stimulus type --- #\n",
    "\n",
    "all_data.groupby('stim_type')['response_time'].mean()\n"
   ]
  },
  {
   "cell_type": "code",
   "execution_count": null,
   "id": "0aa7dfbc-a8ba-4b68-8238-f5cce07057c3",
   "metadata": {
    "slideshow": {
     "slide_type": ""
    },
    "tags": []
   },
   "outputs": [],
   "source": []
  }
 ],
 "metadata": {
  "kernelspec": {
   "display_name": "Python 3 (ipykernel)",
   "language": "python",
   "name": "python3"
  },
  "language_info": {
   "codemirror_mode": {
    "name": "ipython",
    "version": 3
   },
   "file_extension": ".py",
   "mimetype": "text/x-python",
   "name": "python",
   "nbconvert_exporter": "python",
   "pygments_lexer": "ipython3",
   "version": "3.11.7"
  }
 },
 "nbformat": 4,
 "nbformat_minor": 5
}
