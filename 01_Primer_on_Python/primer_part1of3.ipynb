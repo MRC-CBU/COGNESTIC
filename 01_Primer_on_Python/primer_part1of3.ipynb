{
 "cells": [
  {
   "cell_type": "markdown",
   "id": "e7c56830-9a51-4c3a-93bf-52ad9eabd7e3",
   "metadata": {},
   "source": [
    "# Primer on Python - Part 1 of 3\n",
    "\n",
    "This Jupyter notebook is a primer on Python coding for data analysis, written for the Cognitive Neuroimaging Skills Training In Cambridge (COGNESTIC) summer school. The focus is on getting started with Python with minimal jargon, so we will use two common scenarios in cognitive neuroscience – working with fMRI events files and working with correlation matrices – as illustrative examples. Along the way, we will cover basic programming concepts such as variables, loops, conditional statements, functions, etc., and at the end of each part, we will put the different snippets together in the form of a complete script. We will use Python (3.11+) and popular libraries pandas, numpy, matplotlib and seaborn. "
   ]
  },
  {
   "cell_type": "markdown",
   "id": "2e5c8d36-7e15-4291-bcd7-f561be61e830",
   "metadata": {
    "slideshow": {
     "slide_type": ""
    },
    "tags": []
   },
   "source": [
    "In this first part, we will use the **pandas** library to:\n",
    "1. Get data from files\n",
    "2. Access and manipulate data\n",
    "3. Save outputs to files\n",
    "\n",
    "Pandas is a Python library used for working with data sets. It is conceptually similar to working with R dataframes."
   ]
  },
  {
   "cell_type": "markdown",
   "id": "3dacd34b-22bf-45da-82f5-f650f87cc129",
   "metadata": {
    "slideshow": {
     "slide_type": ""
    },
    "tags": []
   },
   "source": [
    "# 1. Read data from files"
   ]
  },
  {
   "cell_type": "markdown",
   "id": "1ad5462e-610a-441f-be06-2dce35a35567",
   "metadata": {
    "slideshow": {
     "slide_type": ""
    },
    "tags": []
   },
   "source": [
    "## At its simplest"
   ]
  },
  {
   "cell_type": "code",
   "execution_count": null,
   "id": "37348bba-e863-49f4-a2a1-a8109b653f54",
   "metadata": {},
   "outputs": [],
   "source": [
    "import pandas\n",
    "\n",
    "pandas.read_csv('~/COGNESTIC/01_Primer_on_Python/data/sub-04/sub-04_ses-mri_task-facerecognition_run-01_events.tsv', sep='\\t')"
   ]
  },
  {
   "cell_type": "markdown",
   "id": "cea958f6-5d5b-4684-adfd-3c4581423d9b",
   "metadata": {},
   "source": [
    "## Variables in Python"
   ]
  },
  {
   "cell_type": "markdown",
   "id": "dc1a3072-1944-4897-9f1d-46d50f97fb42",
   "metadata": {},
   "source": [
    "First, let's use variables to define the paths to the project folder, the input folder and the results folder. This makes it easy to reuse a script or to update it if you need to rename folders or move files around.\n",
    "\n",
    "Use a consistent naming style, the preferred format is primarily **lowercase_with_underscores**"
   ]
  },
  {
   "cell_type": "code",
   "execution_count": null,
   "id": "7f884e28-63ad-479f-9710-346b9ad812fa",
   "metadata": {},
   "outputs": [],
   "source": [
    "project = '~/COGNESTIC/01_Primer_on_Python/'\n",
    "\n",
    "inpath = project + 'data/'\n",
    "respath = project + 'outputs/'\n",
    "\n",
    "print(inpath, respath)"
   ]
  },
  {
   "cell_type": "code",
   "execution_count": null,
   "id": "1d4311c3-b3e3-4533-9c61-ff5abfc2a2d4",
   "metadata": {},
   "outputs": [],
   "source": [
    "# The code to read a file, now with variables:\n",
    "\n",
    "import pandas as pd\n",
    "\n",
    "filename = 'sub-04/sub-04_ses-mri_task-facerecognition_run-01_events.tsv'\n",
    "\n",
    "df = pd.read_csv(inpath + filename, sep='\\t')\n",
    "\n",
    "type(df)"
   ]
  },
  {
   "cell_type": "markdown",
   "id": "f18facc5-2d1a-4d8e-b114-2510d757daa2",
   "metadata": {},
   "source": [
    "## Looping\n",
    "\n",
    "Our subject has multiple files, so let's read each one and combine them"
   ]
  },
  {
   "cell_type": "code",
   "execution_count": null,
   "id": "49a926c0-e7f1-4705-afd6-f507828341a7",
   "metadata": {},
   "outputs": [],
   "source": [
    "# Structure of a loop\n",
    "\n",
    "for i in range(9):\n",
    "    print(i)    "
   ]
  },
  {
   "cell_type": "code",
   "execution_count": null,
   "id": "7cae6517-7e4c-4110-89ff-b0b3ab960b20",
   "metadata": {},
   "outputs": [],
   "source": [
    "# Print all subject file names\n",
    "\n",
    "for i in range(1, 10):\n",
    "    print('sub-04_ses-mri_task-facerecognition_run-0' + str(i) + '_events.tsv')"
   ]
  },
  {
   "cell_type": "code",
   "execution_count": null,
   "id": "d6886730-cfd6-4388-a5ab-25db2761bc6b",
   "metadata": {},
   "outputs": [],
   "source": [
    "# Skip some files in loop: for instance if you know sub-04 is missing the 2nd run\n",
    "\n",
    "for i in range(1, 10):\n",
    "    if i == 2:\n",
    "        continue\n",
    "    else:\n",
    "        print('sub-04_ses-mri_task-facerecognition_run-0' + str(i) + '_events.tsv')"
   ]
  },
  {
   "cell_type": "code",
   "execution_count": null,
   "id": "4fb92a77-3804-46a5-b5b2-f9c291d65f46",
   "metadata": {},
   "outputs": [],
   "source": [
    "# To combine data from all the files, we will:\n",
    "# 1. Create an empty dataframe for all the data for our subject (\"sub_data\")\n",
    "# 2. Loop over each individual file and add its data to sub_data\n",
    "    \n",
    "sub_data = pd.DataFrame()\n",
    "\n",
    "for i in range(9):\n",
    "    run_file = 'sub-04/sub-04_ses-mri_task-facerecognition_run-0' + str(i+1) +'_events.tsv'\n",
    "    run_data = pd.read_csv(inpath + run_file, sep='\\t')\n",
    "    sub_data = pd.concat([sub_data, run_data])\n",
    "\n",
    "print(sub_data)"
   ]
  },
  {
   "cell_type": "code",
   "execution_count": null,
   "id": "5adb91dc-69d2-4ebd-ab6b-55178dd9b6aa",
   "metadata": {},
   "outputs": [],
   "source": [
    "# Zero-padding: useful for some naming conventions\n",
    "\n",
    "for i in range(1, 17):\n",
    "    x = str(i)\n",
    "    x = x.zfill(2)\n",
    "    print('sub-' + x)"
   ]
  },
  {
   "cell_type": "markdown",
   "id": "fad9da0c-fa22-408b-b160-f1405d9e9542",
   "metadata": {},
   "source": [
    "# 2. Access and manipulate dataframes"
   ]
  },
  {
   "cell_type": "markdown",
   "id": "0fc096b9-6890-4bf9-84d8-664b5189814b",
   "metadata": {},
   "source": [
    "## Examining the data\n",
    "\n",
    "First, we will examine the dataframe and see what we have imported"
   ]
  },
  {
   "cell_type": "code",
   "execution_count": null,
   "id": "658a3b8b-986f-43f1-ba12-adca388aa5aa",
   "metadata": {},
   "outputs": [],
   "source": [
    "# Print the first n rows of the dataframe (5 rows if you do not specify n)\n",
    "\n",
    "df.head(n=4)"
   ]
  },
  {
   "cell_type": "code",
   "execution_count": null,
   "id": "8ef4b61d-58ab-4ac8-bd9c-0f730083b2df",
   "metadata": {},
   "outputs": [],
   "source": [
    "# Similarly, you can print the final rows (5 rows if you do not specify n)\n",
    "\n",
    "df.tail(n=4)"
   ]
  },
  {
   "cell_type": "code",
   "execution_count": null,
   "id": "3b1cd3a2-9df9-42be-b28d-f2318853c015",
   "metadata": {},
   "outputs": [],
   "source": [
    "# How many rows and columns?\n",
    "\n",
    "df.shape"
   ]
  },
  {
   "cell_type": "code",
   "execution_count": null,
   "id": "2814b924-bdbe-46b1-924e-aa462b1ea547",
   "metadata": {},
   "outputs": [],
   "source": [
    "# What are the column names?\n",
    "\n",
    "df.columns"
   ]
  },
  {
   "cell_type": "code",
   "execution_count": null,
   "id": "dbf36e5f-aa89-450a-bc19-7fae5fc895af",
   "metadata": {},
   "outputs": [],
   "source": [
    "# What types of data?\n",
    "\n",
    "df.dtypes"
   ]
  },
  {
   "cell_type": "code",
   "execution_count": null,
   "id": "5dc1acf9-ad5c-47ca-9d03-43c35e4e7e27",
   "metadata": {},
   "outputs": [],
   "source": [
    "# Use a function to look at these together in a single command\n",
    "\n",
    "df.info()"
   ]
  },
  {
   "cell_type": "markdown",
   "id": "08216fde-5b52-4a07-ab7d-71b96e00c8c8",
   "metadata": {},
   "source": [
    "## Accessing dataframe"
   ]
  },
  {
   "cell_type": "code",
   "execution_count": null,
   "id": "e42fd022-7386-41ee-bdbe-a1340e39da45",
   "metadata": {},
   "outputs": [],
   "source": [
    "# Get a specific column\n",
    "\n",
    "df['stim_type']"
   ]
  },
  {
   "cell_type": "code",
   "execution_count": null,
   "id": "14945a4d-ee9e-42b0-9c8f-9d6718fec90b",
   "metadata": {},
   "outputs": [],
   "source": [
    "# Two columns\n",
    "\n",
    "df[['stim_type', 'trigger']]"
   ]
  },
  {
   "cell_type": "code",
   "execution_count": null,
   "id": "3ab624ae-9726-4cd9-b238-0c71c9596abb",
   "metadata": {},
   "outputs": [],
   "source": [
    "# Get a specific row\n",
    "\n",
    "df.loc[2, :]"
   ]
  },
  {
   "cell_type": "code",
   "execution_count": null,
   "id": "2ca8c677-b3e8-49d7-b6ee-582d5175d7e5",
   "metadata": {},
   "outputs": [],
   "source": [
    "# Multiple rows\n",
    "\n",
    "df.loc[2:4, :]"
   ]
  },
  {
   "cell_type": "code",
   "execution_count": null,
   "id": "4ae2893e-7349-4a4c-8140-d1cd9ac09a29",
   "metadata": {},
   "outputs": [],
   "source": [
    "# A specific cell by row and column names\n",
    "\n",
    "df.loc[3, 'stim_type']"
   ]
  },
  {
   "cell_type": "code",
   "execution_count": null,
   "id": "4400fa70-8f20-4a34-b03e-f5985c2680dd",
   "metadata": {},
   "outputs": [],
   "source": [
    "# Using only the cell indices\n",
    "\n",
    "df.iloc[3, 3]"
   ]
  },
  {
   "cell_type": "markdown",
   "id": "b62a9ba5-32a5-47b4-a312-bc2dddfeb1cd",
   "metadata": {},
   "source": [
    "## Cleaning data\n",
    "\n",
    "We saw previously that there were some NaN values in the stim_type column, let's remove these"
   ]
  },
  {
   "cell_type": "code",
   "execution_count": null,
   "id": "be9d0d42-1fc9-45d0-8c74-396dcb9cadf0",
   "metadata": {},
   "outputs": [],
   "source": [
    "# Function to drop all rows with any NaN values (somewhat reckless!)\n",
    "\n",
    "df.dropna()\n",
    "\n",
    "# Best to use this only if ALL values in a row are NaN\n",
    "\n",
    "df.dropna(how='all')"
   ]
  },
  {
   "cell_type": "code",
   "execution_count": null,
   "id": "babfcb21-2fee-4eb3-a188-49bd46cedd1e",
   "metadata": {},
   "outputs": [],
   "source": [
    "# A more cautious approach, keep only non-NaNs in an important column like stim_type\n",
    "\n",
    "df[df['stim_type'].notna()]"
   ]
  },
  {
   "cell_type": "code",
   "execution_count": null,
   "id": "9463898d-9cd0-4a7c-a220-7aa8c18e2e54",
   "metadata": {},
   "outputs": [],
   "source": [
    "# Remove rows with response times over 1 second\n",
    "\n",
    "new_df = df[df['response_time'] <= 1.0]\n",
    "\n",
    "new_df.head()"
   ]
  },
  {
   "cell_type": "markdown",
   "id": "b2352485-ab24-4fe8-9b19-9b5826c90a95",
   "metadata": {},
   "source": [
    "## Summarising data"
   ]
  },
  {
   "cell_type": "code",
   "execution_count": null,
   "id": "bca7f339-29d9-420a-9e95-c4c00a2cb801",
   "metadata": {},
   "outputs": [],
   "source": [
    "# Get mean and median of response time\n",
    "\n",
    "x = df['response_time'].mean()\n",
    "y = df['response_time'].median()\n",
    "\n",
    "print(x,y)"
   ]
  },
  {
   "cell_type": "code",
   "execution_count": null,
   "id": "8cc85121-2f0f-4568-8ca9-f14192ea3ac2",
   "metadata": {},
   "outputs": [],
   "source": [
    "# Tabulate the values in a specific column\n",
    "\n",
    "df['stim_type'].value_counts()"
   ]
  },
  {
   "cell_type": "code",
   "execution_count": null,
   "id": "094c8868-a4c0-4241-8866-4ad05d0dc46f",
   "metadata": {},
   "outputs": [],
   "source": [
    "# Get mean RT for each type of stimulus\n",
    "\n",
    "df.groupby('stim_type')['response_time'].mean()"
   ]
  },
  {
   "cell_type": "markdown",
   "id": "46e326c9-5728-4c53-9c3a-4bdfe34d89c8",
   "metadata": {},
   "source": [
    "### More about data types\n",
    "\n",
    "Let's save some of these summary measures and dataframe properties as variables\n",
    "\n",
    "To do that, we shall learn more about the data types used to store collections of data"
   ]
  },
  {
   "cell_type": "code",
   "execution_count": null,
   "id": "290fb0f9-8e02-4ff3-8794-a5e65ca804a9",
   "metadata": {},
   "outputs": [],
   "source": [
    "# Pandas has two main data types: dataframes and series\n",
    "\n",
    "print(type(df))\n",
    "print(type(df['stim_type']))"
   ]
  },
  {
   "cell_type": "code",
   "execution_count": null,
   "id": "d85e069a-f1a8-4f23-bf0e-8567d6930cf3",
   "metadata": {},
   "outputs": [],
   "source": [
    "# Python has 4 built-in data types for variable collections: list, tuple, set, dictionary"
   ]
  },
  {
   "cell_type": "markdown",
   "id": "f7cd8b1d-e9d0-4e79-81dc-a01ee4468b82",
   "metadata": {},
   "source": [
    "#### I. List\n",
    "\n",
    "List is an extremely versatile data type that you will see and use regularly"
   ]
  },
  {
   "cell_type": "code",
   "execution_count": null,
   "id": "829f6a2b-55d0-4030-9a2b-4ec84dc0803d",
   "metadata": {},
   "outputs": [],
   "source": [
    "# Lists are created using [] or the function list()\n",
    "\n",
    "x = [1, 2, 3]\n",
    "column_list = list(df.columns)\n",
    "\n",
    "print(type(x), x)\n",
    "print(type(column_list), column_list)"
   ]
  },
  {
   "cell_type": "code",
   "execution_count": null,
   "id": "7675feaa-d7b0-4b0e-b241-3ef08f9f0068",
   "metadata": {},
   "outputs": [],
   "source": [
    "# You can easily combine lists of different variable types\n",
    "\n",
    "y = x + column_list + [list(range(4))*2]\n",
    "print(y)"
   ]
  },
  {
   "cell_type": "code",
   "execution_count": null,
   "id": "34ef5eb7-ce1b-438d-b731-278f382270a6",
   "metadata": {},
   "outputs": [],
   "source": [
    "## You can add items\n",
    "\n",
    "# Add to end\n",
    "column_list.append('accuracy')\n",
    "print(column_list)\n",
    "\n",
    "# Add at specific index\n",
    "column_list.insert(1, 'group')\n",
    "print(column_list)"
   ]
  },
  {
   "cell_type": "code",
   "execution_count": null,
   "id": "4d6408a9-382a-411a-abb5-9ed168e4cad3",
   "metadata": {},
   "outputs": [],
   "source": [
    "## You can remove items\n",
    "\n",
    "# Remove first occurrence\n",
    "column_list.remove('onset')\n",
    "print(column_list)\n",
    "\n",
    "# Remove from index\n",
    "y.pop(5)\n",
    "print(column_list)"
   ]
  },
  {
   "cell_type": "code",
   "execution_count": null,
   "id": "6a80774b-151a-436d-993b-cec25b9f13ad",
   "metadata": {},
   "outputs": [],
   "source": [
    "# Change 'subject' to 'subjects'\n",
    "\n",
    "column_list[0] = 'subjects'\n",
    "print(column_list)"
   ]
  },
  {
   "cell_type": "code",
   "execution_count": null,
   "id": "8e3aa0e4-9391-4693-bd19-e4143763e306",
   "metadata": {},
   "outputs": [],
   "source": [
    "# Loop through list and print each name\n",
    "\n",
    "for col in column_list:\n",
    "    print(col)"
   ]
  },
  {
   "cell_type": "code",
   "execution_count": null,
   "id": "effef4e5-3892-45c8-b915-bf11f80f4a64",
   "metadata": {},
   "outputs": [],
   "source": [
    "# Loop through list and print index and name\n",
    "\n",
    "for i, col in enumerate(column_list):\n",
    "    print(i, col)"
   ]
  },
  {
   "cell_type": "code",
   "execution_count": null,
   "id": "e3649093-88d1-48db-9736-fde9396a5ddb",
   "metadata": {},
   "outputs": [],
   "source": [
    "# Loop through list and print only column names containing underscores\n",
    "\n",
    "for col in column_list:\n",
    "    if ('_' in col):\n",
    "        print(col)"
   ]
  },
  {
   "cell_type": "code",
   "execution_count": null,
   "id": "cf72155d-4c02-4f20-bdbe-85c38b8fde08",
   "metadata": {},
   "outputs": [],
   "source": [
    "# This can be shortened to:\n",
    "\n",
    "[col for col in column_list if '_' in col]"
   ]
  },
  {
   "cell_type": "code",
   "execution_count": null,
   "id": "3f739b3f-2fc3-4b5e-b104-dee74b6c0f61",
   "metadata": {},
   "outputs": [],
   "source": [
    "# Syntax: [expression for item in list if condition == True]\n",
    "\n",
    "# Print first two letters of column names containing underscore\n",
    "[col[:2] for col in column_list if '_' in col]"
   ]
  },
  {
   "cell_type": "code",
   "execution_count": null,
   "id": "bc659d82-06c2-4c33-91a1-6c68585a861d",
   "metadata": {},
   "outputs": [],
   "source": [
    "# Syntax: [expression for item in list if condition == True]\n",
    "\n",
    "# Print first 3 letters of column names longer than 3\n",
    "[col[:3] for col in column_list if len(col)>3]"
   ]
  },
  {
   "cell_type": "code",
   "execution_count": null,
   "id": "5bc67195-774f-499c-8b6c-4b5239369e8b",
   "metadata": {},
   "outputs": [],
   "source": [
    "# IMPORTANT: you cannot copy a list by assigning it to new variable even if it looks possible\n",
    "\n",
    "x = column_list\n",
    "print(x)"
   ]
  },
  {
   "cell_type": "code",
   "execution_count": null,
   "id": "8c23942c-8b96-456c-a723-b2047aeefba6",
   "metadata": {},
   "outputs": [],
   "source": [
    "# x is only a reference to the original list, and any changes to x WILL ALSO CHANGE the original list\n",
    "\n",
    "x.append('dummy_column')\n",
    "print(column_list)"
   ]
  },
  {
   "cell_type": "code",
   "execution_count": null,
   "id": "991b6f66-182e-4081-822c-2190347eb046",
   "metadata": {},
   "outputs": [],
   "source": [
    "# To create a copy of a list, use the copy method\n",
    "\n",
    "x = column_list.copy()\n",
    "\n",
    "x.append('dummy2')\n",
    "print(x)\n",
    "print(column_list)"
   ]
  },
  {
   "cell_type": "markdown",
   "id": "2b2ab6f6-e6f2-4159-9d44-1174ded99119",
   "metadata": {},
   "source": [
    "#### II. Tuple\n",
    "\n",
    "You won't use it much, but you will see this from time to time so it's useful to understand its properties"
   ]
  },
  {
   "cell_type": "code",
   "execution_count": null,
   "id": "592af44e-44f2-4ede-8d4f-d921167836bd",
   "metadata": {},
   "outputs": [],
   "source": [
    "# Tuples are ordered and unchangeable\n",
    "\n",
    "x = df.shape\n",
    "\n",
    "print(x)\n",
    "print(type(x))\n",
    "print(x[0])"
   ]
  },
  {
   "cell_type": "code",
   "execution_count": null,
   "id": "348f4e80-24e8-4cec-ad1f-5aa663a667d2",
   "metadata": {},
   "outputs": [],
   "source": [
    "# You cannot modify a tuple\n",
    "\n",
    "x[0] = 5"
   ]
  },
  {
   "cell_type": "code",
   "execution_count": null,
   "id": "5c8f8212-1c2e-4f8e-a159-22a6a68a61ec",
   "metadata": {},
   "outputs": [],
   "source": [
    "# You cannot add items to a tuple\n",
    "\n",
    "x.append(5)"
   ]
  },
  {
   "cell_type": "markdown",
   "id": "17fc71e3-9e03-4986-b084-3491253e1522",
   "metadata": {},
   "source": [
    "#### III. Set\n",
    "\n",
    "Sets are unordered and cannot have duplicate elements\n",
    "\n",
    "You can perform set operations"
   ]
  },
  {
   "cell_type": "code",
   "execution_count": null,
   "id": "f9c9fa21-b1e5-4a90-9836-6617e9549374",
   "metadata": {},
   "outputs": [],
   "source": [
    "# Get unique values of a collection\n",
    "\n",
    "stim_list = set(df['stim_type'])\n",
    "\n",
    "print(stim_list)"
   ]
  },
  {
   "cell_type": "code",
   "execution_count": null,
   "id": "693c12a3-d20e-4a8d-a53c-5b2c19c3fe2c",
   "metadata": {},
   "outputs": [],
   "source": [
    "# Create a new set of the desired stimulus types\n",
    "\n",
    "stim_keep = {'FAMOUS', 'UNFAMILIAR'}\n",
    "\n",
    "print(stim_keep)"
   ]
  },
  {
   "cell_type": "code",
   "execution_count": null,
   "id": "09ee4e4d-8004-4e48-bf4d-2e87abf85266",
   "metadata": {},
   "outputs": [],
   "source": [
    "# Perform set operations, for example:\n",
    "\n",
    "print(stim_list & stim_keep) # Items present in both sets\n",
    "print(stim_list ^ stim_keep) # Items only present in one set"
   ]
  },
  {
   "cell_type": "markdown",
   "id": "b6530096-d287-4183-9a4f-46ad6ef3a3e2",
   "metadata": {},
   "source": [
    "#### IV. Dictionaries\n",
    "\n",
    "Store data in key:value pairs\n",
    "\n",
    "Popular way to store data"
   ]
  },
  {
   "cell_type": "code",
   "execution_count": null,
   "id": "55ae9b4a-33a8-412d-8d30-9d90e4a5bdc2",
   "metadata": {},
   "outputs": [],
   "source": [
    "# Save summary values of df\n",
    "\n",
    "df_summary = {\n",
    "    'subject' : 'sub-04',\n",
    "    'mean': df['response_time'].mean()\n",
    "}\n",
    "\n",
    "print(type(df_summary), df_summary)"
   ]
  },
  {
   "cell_type": "code",
   "execution_count": null,
   "id": "17581b6f-c993-4b67-84b9-859e6871b64c",
   "metadata": {},
   "outputs": [],
   "source": [
    "# Add entry to dictionary\n",
    "\n",
    "df_summary['median'] = df['response_time'].median()\n",
    "\n",
    "print(type(df_summary), df_summary)"
   ]
  },
  {
   "cell_type": "code",
   "execution_count": null,
   "id": "0c34e60c-8394-4700-85c2-c3f825c221cf",
   "metadata": {},
   "outputs": [],
   "source": [
    "## Loop through dictionary\n",
    "\n",
    "# Using the keys\n",
    "for key in df_summary.keys():\n",
    "    print(key)"
   ]
  },
  {
   "cell_type": "code",
   "execution_count": null,
   "id": "c5830047-84fc-4bac-8e51-32c21aad07a0",
   "metadata": {},
   "outputs": [],
   "source": [
    "## Loop through dictionary\n",
    "\n",
    "# Using the values\n",
    "for value in df_summary.values():\n",
    "    print(value)"
   ]
  },
  {
   "cell_type": "code",
   "execution_count": null,
   "id": "96a846ee-47ea-42cb-a1ec-010f9b0e037a",
   "metadata": {},
   "outputs": [],
   "source": [
    "# IMPORTANT: to make a distionary copy, you need to use the copy method, do not assign directly to new variable"
   ]
  },
  {
   "cell_type": "markdown",
   "id": "fe81a525-d1fa-484f-9d5c-4e4a0944c19d",
   "metadata": {},
   "source": [
    "## Editing dataframe\n",
    "\n",
    "Sometimes, we want to add columns or update values"
   ]
  },
  {
   "cell_type": "code",
   "execution_count": null,
   "id": "9c3d3063-a31d-4d08-9a67-679793d04892",
   "metadata": {},
   "outputs": [],
   "source": [
    "## Adding columns\n",
    "\n",
    "# Let's add a subject column\n",
    "df['subject'] = 'sub-04'\n",
    "\n",
    "# Add a column with the run number\n",
    "df['run'] = 1\n",
    "\n",
    "df.head()"
   ]
  },
  {
   "cell_type": "code",
   "execution_count": null,
   "id": "529f0759-bbbc-433d-b0c8-040a6cac437d",
   "metadata": {},
   "outputs": [],
   "source": [
    "## Rearranging columns\n",
    "\n",
    "# Let's re-arrange the columns into a more pleasing order\n",
    "df = df[['subject', 'run', 'onset', 'duration', 'circle_duration', 'stim_type', 'trigger', 'button_pushed', 'response_time', 'stim_file']]\n",
    "\n",
    "df.head()"
   ]
  },
  {
   "cell_type": "code",
   "execution_count": null,
   "id": "b77344a4-3ec0-45a5-87f1-e8bc1880d675",
   "metadata": {},
   "outputs": [],
   "source": [
    "# We can also drop some of the columns altogether\n",
    "\n",
    "new_df = df[['subject', 'run', 'stim_type', 'response_time', 'stim_file']]\n",
    "\n",
    "new_df.head()"
   ]
  },
  {
   "cell_type": "code",
   "execution_count": null,
   "id": "2714c4c7-abed-433a-9e01-02d8c62b42a3",
   "metadata": {},
   "outputs": [],
   "source": [
    "## Editing values\n",
    "\n",
    "# Change the units of a column, for instance convert response_time between seconds and milliseconds\n",
    "new_df.loc[:, 'response_time'] *= 1000\n",
    "\n",
    "new_df.head()"
   ]
  },
  {
   "cell_type": "code",
   "execution_count": null,
   "id": "deca0ae8-00a0-485c-9b53-a8d62fbdede3",
   "metadata": {},
   "outputs": [],
   "source": [
    "## Sorting \n",
    "\n",
    "# We could also sort the data by the stim_type column\n",
    "new_df.sort_values(by='stim_type')\n"
   ]
  },
  {
   "cell_type": "code",
   "execution_count": null,
   "id": "dccc6445-5259-473a-bb64-0979c66c6c1e",
   "metadata": {},
   "outputs": [],
   "source": [
    "# Or by two columns\n",
    "\n",
    "new_df.sort_values(by=['stim_type', 'response_time'])"
   ]
  },
  {
   "cell_type": "markdown",
   "id": "6ea1e89c-0c19-42d1-a327-7d933c557fdd",
   "metadata": {},
   "source": [
    "# 3. Saving data externally\n",
    "\n",
    "We simply use a pandas function to save our dataframe. You can view this file outside Python using a text editor or Excel, etc."
   ]
  },
  {
   "cell_type": "code",
   "execution_count": null,
   "id": "6d9e5537-e806-4eab-9ca4-1f8311d18bad",
   "metadata": {},
   "outputs": [],
   "source": [
    "# This time, let's export to the more common csv format. We also specify that we don't want an extra index column in the file.\n",
    "\n",
    "new_df.to_csv(respath + 'just_an_example.csv', index=False)"
   ]
  },
  {
   "cell_type": "markdown",
   "id": "5ef0b42d-54bc-49fa-94ff-f8555dcf189d",
   "metadata": {},
   "source": [
    "# **Putting it all together**\n",
    "\n",
    "Let's put what we've learnt so far into a coherent block of code, and we shall use the resulting dataframe for the next part of the primer on plotting data."
   ]
  },
  {
   "cell_type": "code",
   "execution_count": null,
   "id": "cdda9504-0a6b-439f-a93d-a4155084e6d5",
   "metadata": {},
   "outputs": [],
   "source": [
    "# --- Libraries --- #\n",
    "\n",
    "import pandas as pd\n",
    "\n",
    "# --- Set paths --- #\n",
    "\n",
    "project = '~/COGNESTIC/01_Primer_on_Python/'\n",
    "inpath = project + 'data/'\n",
    "respath = project + 'outputs/'\n",
    "\n",
    "# --- Get data from sixteen subjects (assume that sub-04 is missing run-05) --- #\n",
    "\n",
    "all_data = pd.DataFrame()\n",
    "\n",
    "# For each subject\n",
    "for s in range(1, 17):\n",
    "\n",
    "    # Zeropad integer to get subject name\n",
    "    subject = 'sub-' + str(s).zfill(2)\n",
    "    \n",
    "    # For each run\n",
    "    for i in range(1, 10):\n",
    "\n",
    "        # If sub-04's 5th run, skip loop\n",
    "        if subject == 'sub-04' and i == 5:\n",
    "            continue\n",
    "\n",
    "        # Get the file and read data\n",
    "        run_file = subject + '/' + subject + '_ses-mri_task-facerecognition_run-0' + str(i) +'_events.tsv'\n",
    "        run_data = pd.read_csv(inpath + run_file, sep='\\t')\n",
    "\n",
    "        # Add columns for subject and run\n",
    "        run_data['subject'] = subject\n",
    "        run_data['run'] = i\n",
    "        \n",
    "        # Add to main dataframe\n",
    "        all_data = pd.concat([all_data, run_data])\n",
    "        \n",
    "# --- Clean data --- #\n",
    "\n",
    "# Remove any rows without a valid stim_type or button_pushed value\n",
    "all_data = all_data[all_data['stim_type'].notna() & all_data['button_pushed'].notna()]\n",
    "\n",
    "# Remove response times over 1 second\n",
    "all_data = all_data[all_data['response_time'] <= 1.0]\n",
    "\n",
    "# --- Output collated data to single tsv file --- #\n",
    "\n",
    "# Export to csv file\n",
    "all_data.to_csv(respath + 'events_16sub.csv', index=False)\n",
    "\n",
    "# --- Print out summary: mean RT for each stimulus type --- #\n",
    "\n",
    "all_data.groupby('stim_type')['response_time'].mean()\n"
   ]
  }
 ],
 "metadata": {
  "kernelspec": {
   "display_name": "Python 3 (ipykernel)",
   "language": "python",
   "name": "python3"
  },
  "language_info": {
   "codemirror_mode": {
    "name": "ipython",
    "version": 3
   },
   "file_extension": ".py",
   "mimetype": "text/x-python",
   "name": "python",
   "nbconvert_exporter": "python",
   "pygments_lexer": "ipython3",
   "version": "3.11.4"
  }
 },
 "nbformat": 4,
 "nbformat_minor": 5
}
