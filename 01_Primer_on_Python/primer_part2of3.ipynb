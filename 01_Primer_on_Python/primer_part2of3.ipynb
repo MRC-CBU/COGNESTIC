{
 "cells": [
  {
   "cell_type": "markdown",
   "id": "24914d9d-6f8b-45d5-bca6-a189ca687d48",
   "metadata": {
    "editable": true,
    "slideshow": {
     "slide_type": ""
    },
    "tags": []
   },
   "source": [
    "# Primer on Python - Part 2 of 3\n",
    "\n",
    "In this second part, we will use the **seaborn** library to plot data.\n",
    "\n",
    "Seaborn is a popular data visualization library, with streamlined functions and pretty themes, and it is designed to work with the Pandas library. It has some of the useful features from R's ggplot which are not very easy to create in matplotlib.\n",
    "\n",
    "Seaborn is an extension of the matplotlib library (see part 3), and has similar underlying grammar, which makes it a bit clunky when it comes to customisation and exporting."
   ]
  },
  {
   "cell_type": "code",
   "execution_count": null,
   "id": "ea1087d4-9d78-4846-9515-343d1c223d29",
   "metadata": {},
   "outputs": [],
   "source": [
    "# Starting afresh, let's import the required libraries and read the data we put together in Part 1\n",
    "\n",
    "import pandas as pd\n",
    "import seaborn as sns\n",
    "\n",
    "project = '~/COGNESTIC/01_Primer_on_Python/'\n",
    "inpath = project + 'outputs/'\n",
    "\n",
    "df = pd.read_csv(inpath + 'events_16sub.csv')\n",
    "\n",
    "df.head()"
   ]
  },
  {
   "cell_type": "markdown",
   "id": "af0c8293-cbaf-42dc-8cee-b6990aecc61b",
   "metadata": {},
   "source": [
    "# 1. Visualising distributions"
   ]
  },
  {
   "cell_type": "code",
   "execution_count": null,
   "id": "b67ecbfa-5f52-4f3a-af68-e80cfd358c80",
   "metadata": {},
   "outputs": [],
   "source": [
    "# Basic histogram\n",
    "\n",
    "sns.displot(data=df, x='response_time');"
   ]
  },
  {
   "cell_type": "code",
   "execution_count": null,
   "id": "461d2ab9-bcaa-450a-8ea0-fc22ecab1c8a",
   "metadata": {},
   "outputs": [],
   "source": [
    "# Colour by stimulus type\n",
    "\n",
    "sns.displot(data=df, x='response_time', hue='stim_type');"
   ]
  },
  {
   "cell_type": "code",
   "execution_count": null,
   "id": "42295776-be86-445f-9fe8-45545b70ba74",
   "metadata": {},
   "outputs": [],
   "source": [
    "# KDE plot\n",
    "\n",
    "sns.displot(data=df, x='response_time', hue='stim_type', kind='kde', fill=True);"
   ]
  },
  {
   "cell_type": "code",
   "execution_count": null,
   "id": "966beef8-8df2-4ca9-a3cd-a2c7e569bf87",
   "metadata": {},
   "outputs": [],
   "source": [
    "# Alternatively, plot each stimulus type separately\n",
    "\n",
    "sns.displot(data=df, x='response_time', col='stim_type'); # Remeber col is column not colour, you can also use \"row\""
   ]
  },
  {
   "cell_type": "code",
   "execution_count": null,
   "id": "7a717685-bfad-4b18-b859-709cc90096c1",
   "metadata": {},
   "outputs": [],
   "source": [
    "# Add a smoothed KDE curve\n",
    "\n",
    "sns.displot(data=df, x='response_time', col='stim_type', kde=True);"
   ]
  },
  {
   "cell_type": "markdown",
   "id": "c03a2ef5-6f43-47c7-9faf-c7a5ae49fb05",
   "metadata": {},
   "source": [
    "# 2. Categorical plots"
   ]
  },
  {
   "cell_type": "markdown",
   "id": "d8fac715-4aaf-417d-9c2a-58636ce7c883",
   "metadata": {},
   "source": [
    "## Boxplots"
   ]
  },
  {
   "cell_type": "code",
   "execution_count": null,
   "id": "f513d338-7454-48e8-81b8-47c3e57ee8c5",
   "metadata": {},
   "outputs": [],
   "source": [
    "# A basic boxplot: reaction times by stimulus types\n",
    "\n",
    "sns.boxplot(data=df, x='stim_type', y='response_time');"
   ]
  },
  {
   "cell_type": "code",
   "execution_count": null,
   "id": "542fdddb-7a48-4f58-8e82-368c7fa350e4",
   "metadata": {},
   "outputs": [],
   "source": [
    "# Change colours and order of categories\n",
    "\n",
    "sns.boxplot(data=df, x='stim_type', y='response_time', \n",
    "            hue='stim_type', palette='icefire', \n",
    "            order=['FAMOUS', 'UNFAMILIAR', 'SCRAMBLED']);"
   ]
  },
  {
   "cell_type": "code",
   "execution_count": null,
   "id": "78a13eb3-dffe-419a-afd6-400d71da05fc",
   "metadata": {},
   "outputs": [],
   "source": [
    "# Group by which button was pressed\n",
    "\n",
    "sns.boxplot(data=df, x='stim_type', y='response_time', hue='button_pushed', gap=.1, palette='deep');"
   ]
  },
  {
   "cell_type": "code",
   "execution_count": null,
   "id": "1e25f279-fad0-4d61-b742-7f5054bc4876",
   "metadata": {},
   "outputs": [],
   "source": [
    "# But to add further dimensions in the form of facets, we have to switch to the more generic catplot()\n",
    "\n",
    "sns.catplot(data=df, x='stim_type', y='response_time', hue='button_pushed', gap=.1, palette='deep', kind='box', col='run');"
   ]
  },
  {
   "cell_type": "code",
   "execution_count": null,
   "id": "f7178e99-bc93-472d-89a2-94f06c38a8d6",
   "metadata": {},
   "outputs": [],
   "source": [
    "# Edit the labels\n",
    "\n",
    "ax = sns.boxplot(data=df, x='stim_type', y='response_time', hue='button_pushed', gap=.1, palette='deep')\n",
    "\n",
    "ax.set(title='Wakeman fMRI Task', ylabel='RT', xlabel='');"
   ]
  },
  {
   "cell_type": "markdown",
   "id": "2c52f4f7-4d8c-416b-9967-7eb27e64d3cf",
   "metadata": {},
   "source": [
    "## Violin plots"
   ]
  },
  {
   "cell_type": "code",
   "execution_count": null,
   "id": "7f87c8f8-c92a-4313-b663-fb3b79628e7d",
   "metadata": {},
   "outputs": [],
   "source": [
    "# Violin plots work similarly\n",
    "\n",
    "sns.violinplot(data=df, x='stim_type', y='response_time', hue='button_pushed', gap=.1, palette='deep');"
   ]
  },
  {
   "cell_type": "code",
   "execution_count": null,
   "id": "891fb24a-9a2d-4e35-a648-0f6fd2aceed4",
   "metadata": {},
   "outputs": [],
   "source": [
    "# Split violins\n",
    "\n",
    "sns.violinplot(data=df, x='stim_type', y='response_time', hue='button_pushed', gap=.1, palette='deep', split=True);"
   ]
  },
  {
   "cell_type": "code",
   "execution_count": null,
   "id": "c9cd9932-6a84-4bd7-bb24-da9c0739b3aa",
   "metadata": {},
   "outputs": [],
   "source": [
    "# Change inner boxplot to lines\n",
    "\n",
    "sns.violinplot(data=df, x='stim_type', y='response_time', hue='button_pushed',\n",
    "               gap=.1, palette='deep',\n",
    "               split=True, inner='quart');"
   ]
  },
  {
   "cell_type": "code",
   "execution_count": null,
   "id": "8fe5d02c-8f66-4340-b942-ead118aaf9b9",
   "metadata": {},
   "outputs": [],
   "source": [
    "# Edit the legend\n",
    "\n",
    "ax = sns.violinplot(data=df, x='stim_type', y='response_time', hue='button_pushed', gap=.1, palette='deep', split=True, inner='quart')\n",
    "\n",
    "ax.legend(loc='lower center', title='Button pressed', frameon=False);"
   ]
  },
  {
   "cell_type": "markdown",
   "id": "39bde944-242f-4211-ba97-61f1a1dc121e",
   "metadata": {},
   "source": [
    "# 3. Combining types of plots"
   ]
  },
  {
   "cell_type": "code",
   "execution_count": null,
   "id": "777146d5-6994-4fa1-b2b2-a91386c6e35f",
   "metadata": {},
   "outputs": [],
   "source": [
    "# Add a strip plot on top of a boxplot\n",
    "\n",
    "sns.boxplot(data=df, x='stim_type', y='response_time', hue='button_pushed', gap=.1, palette='deep')\n",
    "sns.stripplot(data=df, x='stim_type', y='response_time', hue='button_pushed', dodge=True, jitter=False, palette=['black', 'black'], alpha=0.1, legend=False);"
   ]
  },
  {
   "cell_type": "markdown",
   "id": "dbd0cd5c-5213-4f76-9559-1b6f674f02d8",
   "metadata": {},
   "source": [
    "# 4. Export to external file\n",
    "\n",
    "We will use the savefig() function from the matplotlib.pyplot library"
   ]
  },
  {
   "cell_type": "code",
   "execution_count": null,
   "id": "9193ad9d-8aaf-478f-83bb-7cf66ed3ec25",
   "metadata": {},
   "outputs": [],
   "source": [
    "# Import library\n",
    "import matplotlib.pyplot as plt\n",
    "\n",
    "# Plot data\n",
    "sns.violinplot(data=df, x='stim_type', y='response_time', hue='button_pushed', gap=.1, palette='deep', split=True)\n",
    "\n",
    "# Save as png file\n",
    "plt.savefig('figures/example_violin_plot.png') # This must be a relative path to avoid importing more libraries\n",
    "\n",
    "# Or other formats\n",
    "plt.savefig('figures/example_violin_plot.jpg')\n",
    "plt.savefig('figures/example_violin_plot.svg', format='svg')\n",
    "plt.savefig('figures/example_violin_plot.pdf', format='pdf')"
   ]
  },
  {
   "cell_type": "markdown",
   "id": "c09d5d7c-eca0-411b-9291-ded40162b89a",
   "metadata": {},
   "source": [
    "# **Putting it all together**"
   ]
  },
  {
   "cell_type": "code",
   "execution_count": null,
   "id": "a9b14419-ef70-4e0b-a659-abf200811c94",
   "metadata": {},
   "outputs": [],
   "source": [
    "# --- Libraries --- #\n",
    "\n",
    "import pandas as pd\n",
    "import seaborn as sns\n",
    "import matplotlib.pyplot as plt\n",
    "\n",
    "# --- Get data --- #\n",
    "\n",
    "project = '~/COGNESTIC/01_Primer_on_Python/'\n",
    "inpath = project + 'outputs/'\n",
    "\n",
    "df = pd.read_csv(inpath + 'events_16sub.csv')\n",
    "\n",
    "# --- Plot data and export --- #\n",
    "\n",
    "ax = sns.violinplot(data=df, x='stim_type', y='response_time', hue='button_pushed', gap=.1, \n",
    "                     palette='deep', split=True, inner='quart',\n",
    "                     order=['FAMOUS', 'UNFAMILIAR', 'SCRAMBLED'])\n",
    "ax.set(title='Wakeman fMRI task', ylabel='Response Time (s)', xlabel='')\n",
    "ax.legend(title='Button Pressed', loc='lower right')\n",
    "\n",
    "plt.savefig('figures/a_violin_plot.png')"
   ]
  }
 ],
 "metadata": {
  "kernelspec": {
   "display_name": "Python 3 (ipykernel)",
   "language": "python",
   "name": "python3"
  },
  "language_info": {
   "codemirror_mode": {
    "name": "ipython",
    "version": 3
   },
   "file_extension": ".py",
   "mimetype": "text/x-python",
   "name": "python",
   "nbconvert_exporter": "python",
   "pygments_lexer": "ipython3",
   "version": "3.11.4"
  }
 },
 "nbformat": 4,
 "nbformat_minor": 5
}
