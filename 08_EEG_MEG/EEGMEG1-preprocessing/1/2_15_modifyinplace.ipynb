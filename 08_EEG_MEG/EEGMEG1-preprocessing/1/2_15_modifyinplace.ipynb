{
 "cells": [
  {
   "cell_type": "markdown",
   "metadata": {},
   "source": [
    "\n",
    "\n",
    "# Modifying data in-place\n",
    "\n",
    "Many of MNE-Python's data objects (`~mne.io.Raw`, `~mne.Epochs`, `~mne.Evoked`,\n",
    "etc) have methods that modify the data in-place (either optionally or\n",
    "obligatorily). This can be advantageous when working with large datasets\n",
    "because it reduces the amount of computer memory needed to perform the\n",
    "computations. However, it can lead to unexpected results if you're not aware\n",
    "that it's happening. This tutorial provides a few examples of in-place\n",
    "processing, and how and when to avoid it.\n",
    "\n",
    "As usual we'll start by importing the modules we need and loading some\n",
    "`example data <sample-dataset>`:\n"
   ]
  },
  {
   "cell_type": "code",
   "execution_count": null,
   "metadata": {
    "collapsed": false,
    "jupyter": {
     "outputs_hidden": false
    }
   },
   "outputs": [],
   "source": [
    "# License: BSD-3-Clause\n",
    "# Copyright the MNE-Python contributors."
   ]
  },
  {
   "cell_type": "code",
   "execution_count": null,
   "metadata": {
    "collapsed": false,
    "jupyter": {
     "outputs_hidden": false
    }
   },
   "outputs": [],
   "source": [
    "import mne\n",
    "\n",
    "sample_data_folder = mne.datasets.sample.data_path()\n",
    "sample_data_raw_file = sample_data_folder / \"MEG\" / \"sample\" / \"sample_audvis_raw.fif\"\n",
    "# the preload flag loads the data into memory now\n",
    "raw = mne.io.read_raw_fif(sample_data_raw_file, preload=True)\n",
    "raw.crop(tmax=10.0)  # raw.crop() always happens in-place"
   ]
  },
  {
   "cell_type": "markdown",
   "metadata": {},
   "source": [
    "## Signal processing\n",
    "\n",
    "Most MNE-Python data objects have built-in methods for filtering, including\n",
    "high-, low-, and band-pass filters (`~mne.io.Raw.filter`), band-stop filters\n",
    "(`~mne.io.Raw.notch_filter`),\n",
    "Hilbert transforms (`~mne.io.Raw.apply_hilbert`),\n",
    "and even arbitrary or user-defined functions (`~mne.io.Raw.apply_function`).\n",
    "These typically **always** modify data in-place, so if we want to preserve\n",
    "the unprocessed data for comparison, we must first make a copy of it. For\n",
    "example:\n",
    "\n"
   ]
  },
  {
   "cell_type": "code",
   "execution_count": null,
   "metadata": {
    "collapsed": false,
    "jupyter": {
     "outputs_hidden": false
    }
   },
   "outputs": [],
   "source": [
    "original_raw = raw.copy()\n",
    "raw.apply_hilbert()\n",
    "print(\n",
    "    f\"original data type was {original_raw.get_data().dtype}, after \"\n",
    "    f\"apply_hilbert the data type changed to {raw.get_data().dtype}.\"\n",
    ")"
   ]
  },
  {
   "cell_type": "markdown",
   "metadata": {},
   "source": [
    "## Channel picking\n",
    "\n",
    "Another group of methods where data is modified in-place are the\n",
    "channel-picking methods. For example:\n",
    "\n"
   ]
  },
  {
   "cell_type": "code",
   "execution_count": null,
   "metadata": {
    "collapsed": false,
    "jupyter": {
     "outputs_hidden": false
    }
   },
   "outputs": [],
   "source": [
    "print(f'original data had {original_raw.info[\"nchan\"]} channels.')\n",
    "original_raw.pick(\"eeg\")  # selects only the EEG channels\n",
    "print(f'after picking, it has {original_raw.info[\"nchan\"]} channels.')"
   ]
  },
  {
   "cell_type": "markdown",
   "metadata": {},
   "source": [
    "Note also that when picking only EEG channels, projectors that affected only\n",
    "the magnetometers were dropped, since there are no longer any magnetometer\n",
    "channels.\n",
    "\n",
    "\n",
    "## The ``copy`` parameter\n",
    "\n",
    "Above we saw an example of using the `~mne.io.Raw.copy` method to facilitate\n",
    "comparing data before and after processing. This is not needed when using\n",
    "certain MNE-Python *functions*, because they have a *function parameter*\n",
    "where you can specify ``copy=True`` (return a modified copy of the data) or\n",
    "``copy=False`` (operate in-place). For example, `mne.set_eeg_reference` is\n",
    "one such function; notice that here we plot ``original_raw`` *after* the\n",
    "rereferencing has been done, but ``original_raw`` is unaffected because\n",
    "we specified ``copy=True``:\n",
    "\n"
   ]
  },
  {
   "cell_type": "code",
   "execution_count": null,
   "metadata": {
    "collapsed": false,
    "jupyter": {
     "outputs_hidden": false
    }
   },
   "outputs": [],
   "source": [
    "rereferenced_raw, ref_data = mne.set_eeg_reference(original_raw, [\"EEG 003\"], copy=True)\n",
    "fig_orig = original_raw.plot()\n",
    "fig_reref = rereferenced_raw.plot()"
   ]
  },
  {
   "cell_type": "markdown",
   "metadata": {},
   "source": [
    "Another example is the picking function `mne.pick_info`, which operates on\n",
    "`mne.Info` dictionaries rather than on data objects. See\n",
    "`tut-info-class` for details.\n",
    "\n",
    "\n",
    "## Summary\n",
    "\n",
    "Generally speaking, you should expect that *methods of data objects* will\n",
    "operate in-place, and *functions that take a data object as a parameter* will\n",
    "operate on a copy of the data (unless the function has a ``copy`` parameter\n",
    "and it defaults to ``False`` or you specify ``copy=False``).\n",
    "During the exploratory phase of your analysis, where you might want\n",
    "to try out the effects of different data cleaning approaches, you should get\n",
    "used to patterns like ``raw.copy().filter(...).plot()`` or\n",
    "``raw.copy().apply_proj().compute_psd().plot()`` if you want to avoid having\n",
    "to re-load data and repeat earlier steps each time you change a computation\n",
    "(see the `sect-meth-chain` section for more info on method chaining).\n",
    "\n"
   ]
  }
 ],
 "metadata": {
  "kernelspec": {
   "display_name": "Python 3 (ipykernel)",
   "language": "python",
   "name": "python3"
  },
  "language_info": {
   "codemirror_mode": {
    "name": "ipython",
    "version": 3
   },
   "file_extension": ".py",
   "mimetype": "text/x-python",
   "name": "python",
   "nbconvert_exporter": "python",
   "pygments_lexer": "ipython3",
   "version": "3.12.2"
  }
 },
 "nbformat": 4,
 "nbformat_minor": 4
}
