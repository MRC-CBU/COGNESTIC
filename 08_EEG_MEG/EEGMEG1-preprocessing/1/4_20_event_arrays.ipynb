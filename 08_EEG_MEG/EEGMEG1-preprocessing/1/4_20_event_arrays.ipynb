{
 "cells": [
  {
   "cell_type": "markdown",
   "metadata": {},
   "source": [
    "\n",
    "\n",
    "# Parsing events from raw data\n",
    "\n",
    "This tutorial describes how to read experimental events from raw recordings,\n",
    "and how to convert between the two different representations of events within\n",
    "MNE-Python (Events arrays and Annotations objects).\n",
    "\n",
    "In the `introductory tutorial <overview-tut-events-section>` we saw an\n",
    "example of reading experimental events from a :term:`\"STIM\" channel <stim\n",
    "channel>`; here we'll discuss :term:`events` and :term:`annotations` more\n",
    "broadly, give more detailed information about reading from STIM channels, and\n",
    "give an example of reading events that are in a marker file or included in\n",
    "the data file as an embedded array. The tutorials `tut-event-arrays` and\n",
    "`tut-annotate-raw` discuss how to plot, combine, load, save, and\n",
    "export :term:`events` and `~mne.Annotations` (respectively), and the\n",
    "latter tutorial also covers interactive annotation of `~mne.io.Raw`\n",
    "objects.\n",
    "\n",
    "We'll begin by loading the Python modules we need, and loading the same\n",
    "`example data <sample-dataset>` we used in the `introductory tutorial\n",
    "<tut-overview>`, but to save memory we'll crop the `~mne.io.Raw` object\n",
    "to just 60 seconds before loading it into RAM:\n"
   ]
  },
  {
   "cell_type": "code",
   "execution_count": 1,
   "metadata": {
    "collapsed": false,
    "jupyter": {
     "outputs_hidden": false
    }
   },
   "outputs": [],
   "source": [
    "# License: BSD-3-Clause\n",
    "# Copyright the MNE-Python contributors."
   ]
  },
  {
   "cell_type": "code",
   "execution_count": 2,
   "metadata": {
    "collapsed": false,
    "jupyter": {
     "outputs_hidden": false
    }
   },
   "outputs": [
    {
     "name": "stdout",
     "output_type": "stream",
     "text": [
      "Opening raw data file /imaging/opendata/mne/MNE-sample-data/MEG/sample/sample_audvis_raw.fif...\n",
      "    Read a total of 3 projection items:\n",
      "        PCA-v1 (1 x 102)  idle\n",
      "        PCA-v2 (1 x 102)  idle\n",
      "        PCA-v3 (1 x 102)  idle\n",
      "    Range : 25800 ... 192599 =     42.956 ...   320.670 secs\n",
      "Ready.\n",
      "Reading 0 ... 36037  =      0.000 ...    60.000 secs...\n"
     ]
    },
    {
     "data": {
      "text/html": [
       "<details open>\n",
       "    <summary><strong>General</strong></summary>\n",
       "    <table class=\"table table-hover table-striped table-sm table-responsive small\">\n",
       "        <tr>\n",
       "            <th>Measurement date</th>\n",
       "            \n",
       "            <td>December 03, 2002  19:01:10 GMT</td>\n",
       "            \n",
       "        </tr>\n",
       "        <tr>\n",
       "            <th>Experimenter</th>\n",
       "            \n",
       "            <td>MEG</td>\n",
       "            \n",
       "        </tr>\n",
       "        <tr>\n",
       "            <th>Participant</th>\n",
       "            \n",
       "            <td>Unknown</td>\n",
       "            \n",
       "        </tr>\n",
       "    </table>\n",
       "    </details>\n",
       "    <details open>\n",
       "        <summary><strong>Channels</strong></summary>\n",
       "        <table class=\"table table-hover table-striped table-sm table-responsive small\">\n",
       "            <tr>\n",
       "                <th>Digitized points</th>\n",
       "                \n",
       "                <td>146 points</td>\n",
       "                \n",
       "            </tr>\n",
       "            <tr>\n",
       "                <th>Good channels</th>\n",
       "                <td>203 Gradiometers, 102 Magnetometers, 9 Stimulus, 59 EEG, 1 EOG</td>\n",
       "            </tr>\n",
       "            <tr>\n",
       "                <th>Bad channels</th>\n",
       "                <td>MEG 2443, EEG 053</td>\n",
       "            </tr>\n",
       "            <tr>\n",
       "                <th>EOG channels</th>\n",
       "                <td>EOG 061</td>\n",
       "            </tr>\n",
       "            <tr>\n",
       "                <th>ECG channels</th>\n",
       "                <td>Not available</td>\n",
       "            </tr>\n",
       "        </table>\n",
       "        </details>\n",
       "        <details open>\n",
       "            <summary><strong>Data</strong></summary>\n",
       "            <table class=\"table table-hover table-striped table-sm table-responsive small\">\n",
       "                \n",
       "                <tr>\n",
       "                    <th>Sampling frequency</th>\n",
       "                    <td>600.61 Hz</td>\n",
       "                </tr>\n",
       "                \n",
       "                \n",
       "                <tr>\n",
       "                    <th>Highpass</th>\n",
       "                    <td>0.10 Hz</td>\n",
       "                </tr>\n",
       "                \n",
       "                \n",
       "                <tr>\n",
       "                    <th>Lowpass</th>\n",
       "                    <td>172.18 Hz</td>\n",
       "                </tr>\n",
       "                \n",
       "                \n",
       "                <tr>\n",
       "                    <th>Projections</th>\n",
       "                    <td>PCA-v1 : off<br />PCA-v2 : off<br />PCA-v3 : off</td>\n",
       "                </tr>\n",
       "                \n",
       "                \n",
       "                <tr>\n",
       "                    <th>Filenames</th>\n",
       "                    <td>sample_audvis_raw.fif</td>\n",
       "                </tr>\n",
       "                \n",
       "                \n",
       "                <tr>\n",
       "                    <th>Duration</th>\n",
       "                    <td>00:01:01 (HH:MM:SS)</td>\n",
       "                </tr>\n",
       "                \n",
       "            </table>\n",
       "            </details>"
      ],
      "text/plain": [
       "<Raw | sample_audvis_raw.fif, 376 x 36038 (60.0 s), ~106.6 MB, data loaded>"
      ]
     },
     "execution_count": 2,
     "metadata": {},
     "output_type": "execute_result"
    }
   ],
   "source": [
    "import numpy as np\n",
    "\n",
    "import mne\n",
    "\n",
    "sample_data_folder = mne.datasets.sample.data_path()\n",
    "sample_data_raw_file = sample_data_folder / \"MEG\" / \"sample\" / \"sample_audvis_raw.fif\"\n",
    "raw = mne.io.read_raw_fif(sample_data_raw_file)\n",
    "raw.crop(tmax=60).load_data()"
   ]
  },
  {
   "cell_type": "markdown",
   "metadata": {},
   "source": [
    "## The Events and Annotations data structures\n",
    "\n",
    "Generally speaking, both the Events and `~mne.Annotations` data\n",
    "structures serve the same purpose: they provide a mapping between times\n",
    "during an EEG/MEG recording and a description of what happened at those\n",
    "times. In other words, they associate a *when* with a *what*. The main\n",
    "differences are:\n",
    "\n",
    "1. **Units**: the Events data structure represents the *when* in terms of\n",
    "   samples, whereas the `~mne.Annotations` data structure represents\n",
    "   the *when* in seconds.\n",
    "2. **Limits on the description**: the Events data structure represents the\n",
    "   *what* as an integer \"Event ID\" code, whereas the `~mne.Annotations` data\n",
    "   structure represents the *what* as a string.\n",
    "3. **How duration is encoded**: Events in an Event array do not have a\n",
    "   duration (though it is possible to represent duration with pairs of\n",
    "   onset/offset events within an Events array), whereas each element of an\n",
    "   `~mne.Annotations` object necessarily includes a duration (though\n",
    "   the duration can be zero if an instantaneous event is desired).\n",
    "4. **Internal representation**: Events are stored as an ordinary\n",
    "   :class:`NumPy array <numpy.ndarray>`, whereas `~mne.Annotations` is\n",
    "   a :class:`list`-like class defined in MNE-Python.\n",
    "\n",
    "\n",
    "## What is a STIM channel?\n",
    "\n",
    "A :term:`stim channel` (short for \"stimulus channel\") is a channel that does\n",
    "not receive signals from an EEG, MEG, or other sensor. Instead, STIM channels\n",
    "record voltages (usually short, rectangular DC pulses of fixed magnitudes\n",
    "sent from the experiment-controlling computer) that are time-locked to\n",
    "experimental events, such as the onset of a stimulus or a button-press\n",
    "response by the subject (those pulses are sometimes called `TTL`_ pulses,\n",
    "event pulses, trigger signals, or just \"triggers\"). In other cases, these\n",
    "pulses may not be strictly time-locked to an experimental event, but instead\n",
    "may occur in between trials to indicate the type of stimulus (or experimental\n",
    "condition) that is about to occur on the upcoming trial.\n",
    "\n",
    "The DC pulses may be all on one STIM channel (in which case different\n",
    "experimental events or trial types are encoded as different voltage\n",
    "magnitudes), or they may be spread across several channels, in which case the\n",
    "channel(s) on which the pulse(s) occur can be used to encode different events\n",
    "or conditions. Even on systems with multiple STIM channels, there is often\n",
    "one channel that records a weighted sum of the other STIM channels, in such a\n",
    "way that voltage levels on that channel can be unambiguously decoded as\n",
    "particular event types. On older Neuromag systems (such as that used to\n",
    "record the sample data) this \"summation channel\" was typically ``STI 014``;\n",
    "on newer systems it is more commonly ``STI101``. You can see the STIM\n",
    "channels in the raw data file here:\n",
    "\n"
   ]
  },
  {
   "cell_type": "code",
   "execution_count": 3,
   "metadata": {
    "collapsed": false,
    "jupyter": {
     "outputs_hidden": false
    }
   },
   "outputs": [
    {
     "name": "stdout",
     "output_type": "stream",
     "text": [
      "Using qt as 2D backend.\n"
     ]
    },
    {
     "name": "stderr",
     "output_type": "stream",
     "text": [
      "QStandardPaths: XDG_RUNTIME_DIR not set, defaulting to '/tmp/runtime-olaf'\n"
     ]
    },
    {
     "data": {
      "text/plain": [
       "<mne_qt_browser._pg_figure.MNEQtBrowser at 0x7fa1896583b0>"
      ]
     },
     "execution_count": 3,
     "metadata": {},
     "output_type": "execute_result"
    }
   ],
   "source": [
    "raw.copy().pick(picks=\"stim\").plot(start=3, duration=6)"
   ]
  },
  {
   "cell_type": "markdown",
   "metadata": {},
   "source": [
    "You can see that ``STI 014`` (the summation channel) contains pulses of\n",
    "different magnitudes whereas pulses on other channels have consistent\n",
    "magnitudes. You can also see that every time there is a pulse on one of the\n",
    "other STIM channels, there is a corresponding pulse on ``STI 014``.\n",
    "\n",
    ".. TODO: somewhere in prev. section, link out to a table of which systems\n",
    "   have STIM channels vs. which have marker files or embedded event arrays\n",
    "   (once such a table has been created).\n",
    "\n",
    "\n",
    "## Converting a STIM channel signal to an Events array\n",
    "\n",
    "If your data has events recorded on a STIM channel, you can convert them into\n",
    "an events array using `~mne.find_events`. The sample number of the onset\n",
    "(or offset) of each pulse is recorded as the event time, the pulse magnitudes\n",
    "are converted into integers, and these pairs of sample numbers plus integer\n",
    "codes are stored in :class:`NumPy arrays <numpy.ndarray>` (usually called\n",
    "\"the events array\" or just \"the events\"). In its simplest form, the function\n",
    "requires only the `~mne.io.Raw` object, and the name of the channel(s)\n",
    "from which to read events:\n",
    "\n"
   ]
  },
  {
   "cell_type": "code",
   "execution_count": 4,
   "metadata": {
    "collapsed": false,
    "jupyter": {
     "outputs_hidden": false
    }
   },
   "outputs": [
    {
     "name": "stdout",
     "output_type": "stream",
     "text": [
      "86 events found on stim channel STI 014\n",
      "Event IDs: [ 1  2  3  4  5 32]\n",
      "[[27977     0     2]\n",
      " [28345     0     3]\n",
      " [28771     0     1]\n",
      " [29219     0     4]\n",
      " [29652     0     2]]\n"
     ]
    }
   ],
   "source": [
    "events = mne.find_events(raw, stim_channel=\"STI 014\")\n",
    "print(events[:5])  # show the first 5"
   ]
  },
  {
   "cell_type": "markdown",
   "metadata": {},
   "source": [
    ".. admonition:: The middle column of the Events array\n",
    "    :class: sidebar note\n",
    "\n",
    "    MNE-Python events are actually *three* values: in between the sample\n",
    "    number and the integer event code is a value indicating what the event\n",
    "    code was on the immediately preceding sample. In practice, that value is\n",
    "    almost always ``0``, but it can be used to detect the *endpoint* of an\n",
    "    event whose duration is longer than one sample. See the documentation of\n",
    "    `~mne.find_events` for more details.\n",
    "\n",
    "If you don't provide the name of a STIM channel, `~mne.find_events`\n",
    "will first look for MNE-Python `config variables <tut-configure-mne>`\n",
    "for variables ``MNE_STIM_CHANNEL``, ``MNE_STIM_CHANNEL_1``, etc. If those are\n",
    "not found, channels ``STI 014`` and ``STI101`` are tried, followed by the\n",
    "first channel with type \"STIM\" present in ``raw.ch_names``. If you regularly\n",
    "work with data from several different MEG systems with different STIM channel\n",
    "names, setting the ``MNE_STIM_CHANNEL`` config variable may not be very\n",
    "useful, but for researchers whose data is all from a single system it can be\n",
    "a time-saver to configure that variable once and then forget about it.\n",
    "\n",
    "`~mne.find_events` has several options, including options for aligning\n",
    "events to the onset or offset of the STIM channel pulses, setting the minimum\n",
    "pulse duration, and handling of consecutive pulses (with no return to zero\n",
    "between them). For example, you can effectively encode event duration by\n",
    "passing ``output='step'`` to `~mne.find_events`; see the documentation\n",
    "of `~mne.find_events` for details. More information on working with\n",
    "events arrays (including how to plot, combine, load, and save event arrays)\n",
    "can be found in the tutorial `tut-event-arrays`.\n",
    "\n",
    "\n",
    "## Reading embedded events as Annotations\n",
    "\n",
    "Some EEG/MEG systems generate files where events are stored in a separate\n",
    "data array rather than as pulses on one or more STIM channels. For example,\n",
    "the EEGLAB format stores events as a collection of arrays in the :file:`.set`\n",
    "file. When reading those files, MNE-Python will automatically convert the\n",
    "stored events into an `~mne.Annotations` object and store it as the\n",
    ":attr:`~mne.io.Raw.annotations` attribute of the `~mne.io.Raw` object:\n",
    "\n"
   ]
  },
  {
   "cell_type": "code",
   "execution_count": 5,
   "metadata": {
    "collapsed": false,
    "jupyter": {
     "outputs_hidden": false
    }
   },
   "outputs": [
    {
     "name": "stdout",
     "output_type": "stream",
     "text": [
      "Dataset testing version 0.150 out of date, latest version is 0.152\n"
     ]
    },
    {
     "name": "stderr",
     "output_type": "stream",
     "text": [
      "Downloading file 'mne-testing-data-0.152.tar.gz' from 'https://codeload.github.com/mne-tools/mne-testing-data/tar.gz/0.152' to '/imaging/local/software/mne_python/vdevel/examples'.\n",
      "0.00B [00:00, ?B/s]     \n",
      "Untarring contents of '/imaging/local/software/mne_python/vdevel/examples/mne-testing-data-0.152.tar.gz' to '/imaging/local/software/mne_python/vdevel/examples'\n"
     ]
    },
    {
     "name": "stdout",
     "output_type": "stream",
     "text": [
      "Download complete in 02m27s (1025.8 MB)\n",
      "Reading /imaging/local/software/mne_python/vdevel/examples/MNE-testing-data/EEGLAB/test_raw.fdt\n",
      "<Annotations | 154 segments: rt (74), square (80)>\n"
     ]
    }
   ],
   "source": [
    "testing_data_folder = mne.datasets.testing.data_path()\n",
    "eeglab_raw_file = testing_data_folder / \"EEGLAB\" / \"test_raw.set\"\n",
    "eeglab_raw = mne.io.read_raw_eeglab(eeglab_raw_file)\n",
    "print(eeglab_raw.annotations)"
   ]
  },
  {
   "cell_type": "markdown",
   "metadata": {},
   "source": [
    "The core data within an `~mne.Annotations` object is accessible\n",
    "through three of its attributes: ``onset``, ``duration``, and\n",
    "``description``. Here we can see that there were 154 events stored in the\n",
    "EEGLAB file, they all had a duration of zero seconds, there were two\n",
    "different types of events, and the first event occurred about 1 second after\n",
    "the recording began:\n",
    "\n"
   ]
  },
  {
   "cell_type": "code",
   "execution_count": 6,
   "metadata": {
    "collapsed": false,
    "jupyter": {
     "outputs_hidden": false
    }
   },
   "outputs": [
    {
     "name": "stdout",
     "output_type": "stream",
     "text": [
      "154\n",
      "{0.0}\n",
      "{'rt', 'square'}\n",
      "1.000068\n"
     ]
    }
   ],
   "source": [
    "print(len(eeglab_raw.annotations))\n",
    "print(set(eeglab_raw.annotations.duration))\n",
    "print(set(eeglab_raw.annotations.description))\n",
    "print(eeglab_raw.annotations.onset[0])"
   ]
  },
  {
   "cell_type": "markdown",
   "metadata": {},
   "source": [
    "More information on working with `~mne.Annotations` objects, including\n",
    "how to add annotations to `~mne.io.Raw` objects interactively, and how\n",
    "to plot, concatenate, load, save, and export `~mne.Annotations`\n",
    "objects can be found in the tutorial `tut-annotate-raw`.\n",
    "\n",
    "\n",
    "## Converting between Events arrays and Annotations objects\n",
    "\n",
    "Once your experimental events are read into MNE-Python (as either an Events\n",
    "array or an `~mne.Annotations` object), you can easily convert between\n",
    "the two formats as needed. You might do this because, e.g., an Events array\n",
    "is needed for epoching continuous data, or because you want to take advantage\n",
    "of the \"annotation-aware\" capability of some functions, which automatically\n",
    "omit spans of data if they overlap with certain annotations.\n",
    "\n",
    "To convert an `~mne.Annotations` object to an Events array, use the\n",
    "function `mne.events_from_annotations` on the `~mne.io.Raw` file\n",
    "containing the annotations. This function will assign an integer Event ID to\n",
    "each unique element of ``raw.annotations.description``, and will return the\n",
    "mapping of descriptions to integer Event IDs along with the derived Event\n",
    "array. By default, one event will be created at the onset of each annotation;\n",
    "this can be modified via the ``chunk_duration`` parameter of\n",
    "`~mne.events_from_annotations` to create equally spaced events within\n",
    "each annotation span (see `chunk-duration`, below, or see\n",
    "`fixed-length-events` for direct creation of an Events array of\n",
    "equally-spaced events).\n",
    "\n"
   ]
  },
  {
   "cell_type": "code",
   "execution_count": 7,
   "metadata": {
    "collapsed": false,
    "jupyter": {
     "outputs_hidden": false
    }
   },
   "outputs": [
    {
     "name": "stdout",
     "output_type": "stream",
     "text": [
      "Used Annotations descriptions: ['rt', 'square']\n",
      "{'rt': 1, 'square': 2}\n",
      "[[128   0   2]\n",
      " [217   0   2]\n",
      " [267   0   1]\n",
      " [602   0   2]\n",
      " [659   0   1]]\n"
     ]
    }
   ],
   "source": [
    "events_from_annot, event_dict = mne.events_from_annotations(eeglab_raw)\n",
    "print(event_dict)\n",
    "print(events_from_annot[:5])"
   ]
  },
  {
   "cell_type": "markdown",
   "metadata": {},
   "source": [
    "If you want to control which integers are mapped to each unique description\n",
    "value, you can pass a :class:`dict` specifying the mapping as the\n",
    "``event_id`` parameter of `~mne.events_from_annotations`; this\n",
    ":class:`dict` will be returned unmodified as the ``event_dict``.\n",
    "\n",
    "Note that this ``event_dict`` can be used when creating `~mne.Epochs` from\n",
    "`~mne.io.Raw` objects, as demonstrated in the tutorial\n",
    "`tut-epochs-class`.\n",
    "\n"
   ]
  },
  {
   "cell_type": "code",
   "execution_count": 8,
   "metadata": {
    "collapsed": false,
    "jupyter": {
     "outputs_hidden": false
    }
   },
   "outputs": [
    {
     "name": "stdout",
     "output_type": "stream",
     "text": [
      "Used Annotations descriptions: ['rt', 'square']\n",
      "{'rt': 77, 'square': 42}\n",
      "[[128   0  42]\n",
      " [217   0  42]\n",
      " [267   0  77]\n",
      " [602   0  42]\n",
      " [659   0  77]]\n"
     ]
    }
   ],
   "source": [
    "custom_mapping = {\"rt\": 77, \"square\": 42}\n",
    "(events_from_annot, event_dict) = mne.events_from_annotations(\n",
    "    eeglab_raw, event_id=custom_mapping\n",
    ")\n",
    "print(event_dict)\n",
    "print(events_from_annot[:5])"
   ]
  },
  {
   "cell_type": "markdown",
   "metadata": {},
   "source": [
    "To make the opposite conversion (from an Events array to an\n",
    "`~mne.Annotations` object), you can create a mapping from integer\n",
    "Event ID to string descriptions, use `~mne.annotations_from_events`\n",
    "to construct the `~mne.Annotations` object, and call the\n",
    "`~mne.io.Raw.set_annotations` method to add the annotations to the\n",
    "`~mne.io.Raw` object.\n",
    "\n",
    "Because the `sample data <sample-dataset>` was recorded on a Neuromag\n",
    "system (where sample numbering starts when the acquisition system is\n",
    "initiated, not when the *recording* is initiated), we also need to pass in\n",
    "the ``orig_time`` parameter so that the onsets are properly aligned relative\n",
    "to the start of recording:\n",
    "\n"
   ]
  },
  {
   "cell_type": "code",
   "execution_count": 9,
   "metadata": {
    "collapsed": false,
    "jupyter": {
     "outputs_hidden": false
    }
   },
   "outputs": [
    {
     "data": {
      "text/html": [
       "<details open>\n",
       "    <summary><strong>General</strong></summary>\n",
       "    <table class=\"table table-hover table-striped table-sm table-responsive small\">\n",
       "        <tr>\n",
       "            <th>Measurement date</th>\n",
       "            \n",
       "            <td>December 03, 2002  19:01:10 GMT</td>\n",
       "            \n",
       "        </tr>\n",
       "        <tr>\n",
       "            <th>Experimenter</th>\n",
       "            \n",
       "            <td>MEG</td>\n",
       "            \n",
       "        </tr>\n",
       "        <tr>\n",
       "            <th>Participant</th>\n",
       "            \n",
       "            <td>Unknown</td>\n",
       "            \n",
       "        </tr>\n",
       "    </table>\n",
       "    </details>\n",
       "    <details open>\n",
       "        <summary><strong>Channels</strong></summary>\n",
       "        <table class=\"table table-hover table-striped table-sm table-responsive small\">\n",
       "            <tr>\n",
       "                <th>Digitized points</th>\n",
       "                \n",
       "                <td>146 points</td>\n",
       "                \n",
       "            </tr>\n",
       "            <tr>\n",
       "                <th>Good channels</th>\n",
       "                <td>203 Gradiometers, 102 Magnetometers, 9 Stimulus, 59 EEG, 1 EOG</td>\n",
       "            </tr>\n",
       "            <tr>\n",
       "                <th>Bad channels</th>\n",
       "                <td>MEG 2443, EEG 053</td>\n",
       "            </tr>\n",
       "            <tr>\n",
       "                <th>EOG channels</th>\n",
       "                <td>EOG 061</td>\n",
       "            </tr>\n",
       "            <tr>\n",
       "                <th>ECG channels</th>\n",
       "                <td>Not available</td>\n",
       "            </tr>\n",
       "        </table>\n",
       "        </details>\n",
       "        <details open>\n",
       "            <summary><strong>Data</strong></summary>\n",
       "            <table class=\"table table-hover table-striped table-sm table-responsive small\">\n",
       "                \n",
       "                <tr>\n",
       "                    <th>Sampling frequency</th>\n",
       "                    <td>600.61 Hz</td>\n",
       "                </tr>\n",
       "                \n",
       "                \n",
       "                <tr>\n",
       "                    <th>Highpass</th>\n",
       "                    <td>0.10 Hz</td>\n",
       "                </tr>\n",
       "                \n",
       "                \n",
       "                <tr>\n",
       "                    <th>Lowpass</th>\n",
       "                    <td>172.18 Hz</td>\n",
       "                </tr>\n",
       "                \n",
       "                \n",
       "                <tr>\n",
       "                    <th>Projections</th>\n",
       "                    <td>PCA-v1 : off<br />PCA-v2 : off<br />PCA-v3 : off</td>\n",
       "                </tr>\n",
       "                \n",
       "                \n",
       "                <tr>\n",
       "                    <th>Filenames</th>\n",
       "                    <td>sample_audvis_raw.fif</td>\n",
       "                </tr>\n",
       "                \n",
       "                \n",
       "                <tr>\n",
       "                    <th>Duration</th>\n",
       "                    <td>00:01:01 (HH:MM:SS)</td>\n",
       "                </tr>\n",
       "                \n",
       "            </table>\n",
       "            </details>"
      ],
      "text/plain": [
       "<Raw | sample_audvis_raw.fif, 376 x 36038 (60.0 s), ~106.6 MB, data loaded>"
      ]
     },
     "execution_count": 9,
     "metadata": {},
     "output_type": "execute_result"
    }
   ],
   "source": [
    "mapping = {\n",
    "    1: \"auditory/left\",\n",
    "    2: \"auditory/right\",\n",
    "    3: \"visual/left\",\n",
    "    4: \"visual/right\",\n",
    "    5: \"smiley\",\n",
    "    32: \"buttonpress\",\n",
    "}\n",
    "annot_from_events = mne.annotations_from_events(\n",
    "    events=events,\n",
    "    event_desc=mapping,\n",
    "    sfreq=raw.info[\"sfreq\"],\n",
    "    orig_time=raw.info[\"meas_date\"],\n",
    ")\n",
    "raw.set_annotations(annot_from_events)"
   ]
  },
  {
   "cell_type": "markdown",
   "metadata": {},
   "source": [
    "Now, the annotations will appear automatically when plotting the raw data,\n",
    "and will be color-coded by their label value:\n",
    "\n"
   ]
  },
  {
   "cell_type": "code",
   "execution_count": 10,
   "metadata": {
    "collapsed": false,
    "jupyter": {
     "outputs_hidden": false
    }
   },
   "outputs": [
    {
     "data": {
      "text/plain": [
       "<mne_qt_browser._pg_figure.MNEQtBrowser at 0x7fa1782a67b0>"
      ]
     },
     "execution_count": 10,
     "metadata": {},
     "output_type": "execute_result"
    }
   ],
   "source": [
    "raw.plot(start=5, duration=5)"
   ]
  },
  {
   "cell_type": "markdown",
   "metadata": {},
   "source": [
    "\n",
    "## Making multiple events per annotation\n",
    "\n",
    "As mentioned above, you can generate equally-spaced events from an\n",
    "`~mne.Annotations` object using the ``chunk_duration`` parameter of\n",
    "`~mne.events_from_annotations`. For example, suppose we have an\n",
    "annotation in our `~mne.io.Raw` object indicating when the subject was\n",
    "in REM sleep, and we want to perform a resting-state analysis on those spans\n",
    "of data. We can create an Events array with a series of equally-spaced events\n",
    "within each \"REM\" span, and then use those events to generate (potentially\n",
    "overlapping) epochs that we can analyze further.\n",
    "\n"
   ]
  },
  {
   "cell_type": "code",
   "execution_count": 11,
   "metadata": {
    "collapsed": false,
    "jupyter": {
     "outputs_hidden": false
    }
   },
   "outputs": [
    {
     "name": "stdout",
     "output_type": "stream",
     "text": [
      "Used Annotations descriptions: ['REM']\n"
     ]
    }
   ],
   "source": [
    "# create the REM annotations\n",
    "rem_annot = mne.Annotations(onset=[5, 41], duration=[16, 11], description=[\"REM\"] * 2)\n",
    "raw.set_annotations(rem_annot)\n",
    "(rem_events, rem_event_dict) = mne.events_from_annotations(raw, chunk_duration=1.5)"
   ]
  },
  {
   "cell_type": "markdown",
   "metadata": {},
   "source": [
    "Now we can check that our events indeed fall in the ranges 5-21 seconds and\n",
    "41-52 seconds, and are ~1.5 seconds apart (modulo some jitter due to the\n",
    "sampling frequency). Here are the event times rounded to the nearest\n",
    "millisecond:\n",
    "\n"
   ]
  },
  {
   "cell_type": "code",
   "execution_count": 12,
   "metadata": {
    "collapsed": false,
    "jupyter": {
     "outputs_hidden": false
    }
   },
   "outputs": [
    {
     "name": "stdout",
     "output_type": "stream",
     "text": [
      "[ 5.     6.5    8.     9.5   11.    12.501 14.001 15.501 16.999 18.499\n",
      " 41.    42.5   44.    45.5   47.    48.5   50.   ]\n"
     ]
    }
   ],
   "source": [
    "print(np.round((rem_events[:, 0] - raw.first_samp) / raw.info[\"sfreq\"], 3))"
   ]
  },
  {
   "cell_type": "markdown",
   "metadata": {},
   "source": [
    "Other examples of resting-state analysis can be found in the online\n",
    "documentation for `~mne.make_fixed_length_events`.\n",
    "\n",
    ".. LINKS\n",
    "\n",
    "\n"
   ]
  }
 ],
 "metadata": {
  "kernelspec": {
   "display_name": "Python 3 (ipykernel)",
   "language": "python",
   "name": "python3"
  },
  "language_info": {
   "codemirror_mode": {
    "name": "ipython",
    "version": 3
   },
   "file_extension": ".py",
   "mimetype": "text/x-python",
   "name": "python",
   "nbconvert_exporter": "python",
   "pygments_lexer": "ipython3",
   "version": "3.12.2"
  }
 },
 "nbformat": 4,
 "nbformat_minor": 4
}
