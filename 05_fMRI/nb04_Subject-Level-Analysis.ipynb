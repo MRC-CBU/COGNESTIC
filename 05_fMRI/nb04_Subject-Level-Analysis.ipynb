{
 "cells": [
  {
   "cell_type": "markdown",
   "metadata": {},
   "source": [
    "- **Author:** [Dace Apšvalka](https://www.mrc-cbu.cam.ac.uk/people/dace.apsvalka/) \n",
    "- **Date:** August 2024  \n",
    "- **conda environment**: I used the [fMRI workshop's conda environment](https://github.com/MRC-CBU/COGNESTIC/blob/main/mri_environment.yml) to run this notebook and any accompanied scripts."
   ]
  },
  {
   "cell_type": "markdown",
   "metadata": {},
   "source": [
    "# fMRI Data Analysis: Subject-Level Analysis\n",
    "\n",
    "Once the data have been pre-processed, we can proceed to the analysis. In this tutorial, we will focus on subject-level (or first-level) fMRI data analysis using [Nilearn](https://nilearn.github.io/stable/index.html). This process involves constructing a design matrix, fitting the model to the data, and computing beta maps (i.e., the estimated response for each condition) or contrast maps. Subject-level analysis is a crucial step before progressing to group-level analysis.\n",
    "\n",
    "For analysing fMRI data, we commonly use general linear model (GLM). A GLM in fMRI analysis has the **BOLD signal** as the **outcome** variable (derived from the pre-processed functional MRI images) and **predictor** variables such as **events** (e.g., task conditions) and **confounds** (e.g., motion parameters). Typically analysis is performed by constructing a separate model for each voxel - **a mass univariate approach**. \n",
    "\n",
    "For more information on GLM, please see [Rik's Stats tutorial](../02_Statistics/cognestic_stats_python.ipynb) (corresponding [web link](https://github.com/MRC-CBU/COGNESTIC/tree/main/02_Statistics)).\n",
    "\n",
    "And here are some recommended short videos to help better understand the principles of fMRI analysis:"
   ]
  },
  {
   "cell_type": "code",
   "execution_count": 1,
   "metadata": {},
   "outputs": [
    {
     "data": {
      "text/html": [
       "\n",
       "<div style=\"width: 1200px; margin: 0; display: flex; justify-content: space-around;\">\n",
       "    <div style=\"text-align: center;\">\n",
       "        <h3>GLM applied to fMRI (11 min)</h3>\n",
       "        <iframe width=\"560\" height=\"315\" src=\"https://www.youtube.com/embed/OyLKMb9FNhg\" frameborder=\"0\" allow=\"picture-in-picture\" allowfullscreen></iframe>\n",
       "    </div>\n",
       "    <div style=\"text-align: center;\">\n",
       "        <h3>Conditions and contrasts (12 min)</h3>\n",
       "        <iframe width=\"560\" height=\"315\" src=\"https://www.youtube.com/embed/7MibM1ATai4\" frameborder=\"0\" allow=\"picture-in-picture\" allowfullscreen></iframe>\n",
       "    </div>\n",
       "</div>\n",
       "\n",
       "<div style=\"width: 1200px; margin: 0; display: flex; justify-content: space-around;\">\n",
       "    <div style=\"text-align: center;\">\n",
       "        <h3>Nuisance variables (14 min)</h3>\n",
       "        <iframe width=\"560\" height=\"315\" src=\"https://www.youtube.com/embed/DEtwsFdFwYc\" frameborder=\"0\" allow=\"picture-in-picture\" allowfullscreen></iframe>\n",
       "    </div>\n",
       "    <div style=\"text-align: center;\">\n",
       "        <h3>Multiple Comparisons (9 min)</h3>\n",
       "        <iframe width=\"560\" height=\"315\" src=\"https://www.youtube.com/embed/AalIM9-5-Pk\" frameborder=\"0\" allow=\"picture-in-picture\" allowfullscreen></iframe>\n",
       "    </div>\n",
       "</div>\n"
      ],
      "text/plain": [
       "<IPython.core.display.HTML object>"
      ]
     },
     "metadata": {},
     "output_type": "display_data"
    }
   ],
   "source": [
    "from IPython.display import display, HTML\n",
    "\n",
    "display(HTML('''\n",
    "<div style=\"width: 1200px; margin: 0; display: flex; justify-content: space-around;\">\n",
    "    <div style=\"text-align: center;\">\n",
    "        <h3>GLM applied to fMRI (11 min)</h3>\n",
    "        <iframe width=\"560\" height=\"315\" src=\"https://www.youtube.com/embed/OyLKMb9FNhg\" frameborder=\"0\" allow=\"picture-in-picture\" allowfullscreen></iframe>\n",
    "    </div>\n",
    "    <div style=\"text-align: center;\">\n",
    "        <h3>Conditions and contrasts (12 min)</h3>\n",
    "        <iframe width=\"560\" height=\"315\" src=\"https://www.youtube.com/embed/7MibM1ATai4\" frameborder=\"0\" allow=\"picture-in-picture\" allowfullscreen></iframe>\n",
    "    </div>\n",
    "</div>\n",
    "\n",
    "<div style=\"width: 1200px; margin: 0; display: flex; justify-content: space-around;\">\n",
    "    <div style=\"text-align: center;\">\n",
    "        <h3>Nuisance variables (14 min)</h3>\n",
    "        <iframe width=\"560\" height=\"315\" src=\"https://www.youtube.com/embed/DEtwsFdFwYc\" frameborder=\"0\" allow=\"picture-in-picture\" allowfullscreen></iframe>\n",
    "    </div>\n",
    "    <div style=\"text-align: center;\">\n",
    "        <h3>Multiple Comparisons (9 min)</h3>\n",
    "        <iframe width=\"560\" height=\"315\" src=\"https://www.youtube.com/embed/AalIM9-5-Pk\" frameborder=\"0\" allow=\"picture-in-picture\" allowfullscreen></iframe>\n",
    "    </div>\n",
    "</div>\n",
    "'''))\n"
   ]
  },
  {
   "cell_type": "markdown",
   "metadata": {},
   "source": [
    "----------------\n",
    "**Table of contents**    \n",
    "1. Import required packages   \n",
    "2. Retrieve the preprocessed (fMRIprep) data   \n",
    "3. Setting up GLM model components   \n",
    "3.1. Dependent variable (Y): BOLD signal from each voxel of the functional MRI images    \n",
    "3.2. Predictors (X): Events    \n",
    "3.3. Predictors: Confounds    \n",
    "4. Performing the GLM analysis    \n",
    "4.1. Creating the First Level Model  \n",
    "4.2. Fitting the model   \n",
    "4.3. Inspecting the Design Matrix    \n",
    "5. Contrast specification    \n",
    "5.1. A simple case contrast    \n",
    "5.2. Contrast scaling    \n",
    "5.3. The final contrasts for our model    \n",
    "6. Computing contrasts and plotting result maps    \n",
    "6.1. Control the False Positive Rate    \n",
    "6.2. False Discovery Rate (FDR) correction    \n",
    "6.3. Family Wise Error (FWE) correction    \n",
    "6.4. Cluster threshold    \n",
    "7. The impact of first-level model parameters    \n",
    "7.1. Model 1: Glover's HRF    \n",
    "7.2. Model 2: SPM's HRF    \n",
    "7.3. Plotting both models    \n",
    "8. First Level for multiple subjects    \n",
    "8.1. A generic first-level analysis script    \n",
    "8.2. Processing multiple subjects in paralel   "
   ]
  },
  {
   "cell_type": "markdown",
   "metadata": {},
   "source": [
    "-----------\n",
    "## Import required packages"
   ]
  },
  {
   "cell_type": "code",
   "execution_count": null,
   "metadata": {},
   "outputs": [],
   "source": [
    "# The conda environment used for this tutorial is available here: https://github.com/MRC-CBU/COGNESTIC/blob/main/mri_environment.yml \n",
    "\n",
    "import pandas as pd # for data manipulation\n",
    "import numpy as np # for numerical operations\n",
    "\n",
    "import matplotlib.pyplot as plt # for basic plotting\n",
    "\n",
    "from bids.layout import BIDSLayout # to fetch data from BIDS-compliant datasets\n",
    "\n",
    "# Nilearn modules, for the analysis of brain volumes, plotting, etc., https://nilearn.github.io/\n",
    "from nilearn.glm.first_level import FirstLevelModel, compute_regressor, glover_hrf, spm_hrf\n",
    "from nilearn.glm.thresholding import threshold_stats_img\n",
    "from nilearn.plotting import plot_design_matrix, plot_contrast_matrix, plot_stat_map, plot_roi\n",
    "from nilearn.maskers import NiftiSpheresMasker"
   ]
  },
  {
   "cell_type": "markdown",
   "metadata": {},
   "source": [
    "## Retrieve the preprocessed (fMRIprep) data\n",
    "\n",
    "BIDS applications, such as `fMRIprep`, output data into a data structure similar to `BIDS` organization principals. And these data also can be inspected using [PyBIDS](https://bids-standard.github.io/pybids/index.html).\n"
   ]
  },
  {
   "cell_type": "code",
   "execution_count": null,
   "metadata": {},
   "outputs": [],
   "source": [
    "# --- Set up the paths to the BIDS data directory which includes derivatives\n",
    "fmri_data_dir = 'FaceProcessing/data' # BIDS format data directory\n",
    "\n",
    "# --- Set up the BIDS layoutt and include the derivatives in it\n",
    "layout = BIDSLayout(fmri_data_dir, derivatives = True)\n",
    "\n",
    "# or to include only a specific derivatives folder\n",
    "# layout = BIDSLayout(fmri_data_dir, derivatives = 'path/to/derivatives')\n"
   ]
  },
  {
   "cell_type": "markdown",
   "metadata": {},
   "source": [
    "## Setting up GLM model components\n",
    "\n",
    "Remember (or refer to [Rik's stats](../02_Statistics/cognestic_stats_python.ipynb)) that GLM typically expressed as **Y = XB + e**, where **Y** is a vector containing the data, **X** is the 'design matrix' that defines the model for the data, **B** (or 'Betas') is a vector of parameters to be estimated, and **e** represents random error.\n",
    "\n",
    "In the next sections, we will set up our GLM model by specifying the following:\n",
    "* **The data (Y)**, which are our pre-processed functional images. These contain the time series data (length n; 210 in our case) for each voxel.\n",
    "* **The design matrix (X)**, where we specify the effects (predictors) that may have influenced the acquired signal in the data. At a minimum, these effects include our experimental conditions, which we specify through event files containing the names and onsets of the conditions. Additionally, we can include other predictors, such as confounding (nuisance) variables, which are known to have occurred and likely influenced the data. Including these can help explain the acquired signal. We get a large list of confounding variables from the fMRIPrep output (confound files). The size of the design matrix must be n x p (time series length x number of predictors). There should be more data points (n) than predictors (p), so be cautious not to include too many confounding variables.\n",
    "\n",
    "Nilearn will use the specified inputs for the GLM analysis and compute the beta estimates for each predictor. We can then define contrasts to compare beta estimates between conditions—for example, to test whether seeing Faces had a greater effect on the signal than seeing Scrambled images.\n",
    "\n",
    "Let's set up our GLM model."
   ]
  },
  {
   "cell_type": "markdown",
   "metadata": {},
   "source": [
    "### Dependent variable (Y): BOLD signal from each voxel of the functional MRI images\n",
    "\n",
    "We need to specify which MRI images we want to analyse. Here, we will focus on a single subject's **9 functional runs**. Using PyBIDS, we can easily locate the preprocessed files required for the analysis. Let's retrieve the preprocessed functional image files for **subject sub-04**."
   ]
  },
  {
   "cell_type": "code",
   "execution_count": null,
   "metadata": {},
   "outputs": [],
   "source": [
    "sID = '04'\n",
    "\n",
    "preproc_functional_files = layout.get(\n",
    "    subject = sID, \n",
    "    datatype = 'func', \n",
    "    desc = 'preproc', \n",
    "    extension = '.nii.gz',\n",
    "    return_type = 'filename'\n",
    ")\n",
    "\n",
    "print('\\nSubject''s', sID, 'preprocessed functional images:')\n",
    "print(*preproc_functional_files, sep='\\n')"
   ]
  },
  {
   "cell_type": "markdown",
   "metadata": {},
   "source": [
    "We will also specify the subject's anatomical image (warped to the standard space) to use it as a background image when plotting results. "
   ]
  },
  {
   "cell_type": "code",
   "execution_count": null,
   "metadata": {},
   "outputs": [],
   "source": [
    "preprocessed_anatomical_file = layout.get(\n",
    "    subject = sID, \n",
    "    datatype = 'anat', \n",
    "    space = 'MNI152NLin2009cAsym', \n",
    "    desc = 'preproc', \n",
    "    extension = '.nii.gz',\n",
    "    return_type ='filename'\n",
    ")[0]\n",
    "\n",
    "print('Subject''s', sID, 'preprocessed anatomical image:')\n",
    "print(preprocessed_anatomical_file)"
   ]
  },
  {
   "cell_type": "markdown",
   "metadata": {},
   "source": [
    "The functional images contain time series data for each voxel. The GLM will be fitted, and beta estimates will be computed for each voxel.\n",
    "\n",
    "Let's extract the time series of one voxel from the first run to get a sense of how our dependent variable looks."
   ]
  },
  {
   "cell_type": "code",
   "execution_count": null,
   "metadata": {},
   "outputs": [],
   "source": [
    "# voxel of interest\n",
    "MNI_coord = [(41,\t-48,\t-18)] \n",
    "\n",
    "# extract the time series \n",
    "coord_masker = NiftiSpheresMasker(\n",
    "    MNI_coord, t_r=2, standardize='zscore'\n",
    ")\n",
    "coord_time_series = coord_masker.fit_transform(\n",
    "  preproc_functional_files[0]\n",
    "  )\n",
    "\n",
    "# plot the time series  \n",
    "plt.figure(figsize=(18, 6))\n",
    "\n",
    "plt.plot(coord_time_series, color='grey')\n",
    "\n",
    "plt.title(f\"run-01 {MNI_coord[0]} voxel time series\")\n",
    "plt.xlabel('Time (TRs)')\n",
    "plt.ylabel('BOLD signal (z-scored)')\n",
    "plt.show()\n"
   ]
  },
  {
   "cell_type": "markdown",
   "metadata": {},
   "source": [
    "The BOLD signal in this voxel during the 7-minute functional run comes from various sources. We want to determine whether our experimental conditions (viewing Famous, Unfamiliar, or Scrambled faces) contribute to this signal, and if so, by how much. To better estimate this, we aim to regress out other potential contributors that we are not interested in, such as head movement artifacts, scanner drift, and other noise."
   ]
  },
  {
   "cell_type": "markdown",
   "metadata": {},
   "source": [
    "### Predictors (X): Events\n",
    "\n",
    "Next, we need to specify the events that occurred during the functional acquisitions. The event files are stored in the `data/func` folder, and again, we can use `PyBIDS` to locate them."
   ]
  },
  {
   "cell_type": "code",
   "execution_count": null,
   "metadata": {},
   "outputs": [],
   "source": [
    "event_files = layout.get(\n",
    "    subject = sID, \n",
    "    datatype = 'func', \n",
    "    suffix = 'events', \n",
    "    extension = \".tsv\", \n",
    "    return_type = 'filename'\n",
    ")\n",
    "print('Subject''s', sID, 'event files:')\n",
    "print(*event_files, sep='\\n')"
   ]
  },
  {
   "cell_type": "markdown",
   "metadata": {},
   "source": [
    "Event files contain the names of our experimental conditions, their onset times (in seconds), and their durations (in seconds). The events table will have as many rows as there are trials you want to include in the model."
   ]
  },
  {
   "cell_type": "code",
   "execution_count": null,
   "metadata": {},
   "outputs": [],
   "source": [
    "# load and display one of the event files\n",
    "events_run1 = pd.read_csv(event_files[0], sep='\\t')\n",
    "events_run1"
   ]
  },
  {
   "cell_type": "markdown",
   "metadata": {},
   "source": [
    "In the GLM's design matrix, we include one regressor (the same length as the time series data points) for each condition. The regressor represents the predicted BOLD response to the stimulus. The BOLD signal does not simply switch from 0 to 1 (on or off); instead, it follows a specific shape known as the **haemodynamic response function (HRF)**. The HRF models the delayed and dispersed nature of the BOLD signal in response to neural activity, typically peaking a few seconds after the stimulus and then gradually returning to baseline.\n",
    "\n",
    "To obtain our condition's predicted BOLD response, we convolve the onset and duration times of the condition with an HRF. Several HRF models have been derived from research, with two of the most commonly used in typical populations being Glover's HRF and SPM's HRF.\n",
    "\n",
    "To see how it works, let's create a regressor for the **FAMOUS_1** condition. We'll use the condition's onset and duration times from the event file and convolve them with Glover's HRF. Nilearn has a built-in function for this ([glm.first_level.compute_regressor](https://nilearn.github.io/stable/modules/generated/nilearn.glm.first_level.compute_regressor.html)), so we will use that."
   ]
  },
  {
   "cell_type": "code",
   "execution_count": null,
   "metadata": {},
   "outputs": [],
   "source": [
    "# Filter events_run1 DataFrame for the 'FAMOUS_1' condition\n",
    "famous1_events = events_run1[events_run1['trial_type'] == 'FAMOUS_1']\n",
    "\n",
    "# Extract onsets and durations for the 'FAMOUS_1' condition\n",
    "onsets_famous1 = famous1_events['onset'].values\n",
    "durations_famous1 = famous1_events['duration'].values\n",
    "# Set amplitudes to 1 for all events\n",
    "amplitudes_famous1 = np.ones_like(onsets_famous1)  \n",
    "\n",
    "# Create a list of frame times (number of data points x TR, sampled every TR)\n",
    "TR = 2\n",
    "frame_times = np.arange(0, 210*TR, TR) \n",
    "\n",
    "# Create the regressor for 'FAMOUS_1' condition\n",
    "regressor_famous1, _ = compute_regressor(\n",
    "  [onsets_famous1, durations_famous1, amplitudes_famous1],\n",
    "  hrf_model='glover', \n",
    "  frame_times=frame_times\n",
    ")\n",
    "\n",
    "# plot the regressor and also show the onsets\n",
    "plt.figure(figsize=(18, 6))\n",
    "\n",
    "plt.plot(frame_times, regressor_famous1)\n",
    "plt.plot(onsets_famous1, np.zeros_like(onsets_famous1), 'o')\n",
    "\n",
    "plt.xlabel('Time (s)')\n",
    "plt.ylabel('Amplitude (a.u.)')\n",
    "plt.legend(['Predicted BOLD response', 'Stimulus onset'])\n",
    "plt.title('Predicted BOLD response for the FAMOUS_1 condition')"
   ]
  },
  {
   "cell_type": "markdown",
   "metadata": {},
   "source": [
    "In Nilearn, we don’t need to manually create these regressors when setting up the first-level model; we only need to provide the event files and ensure they contain the '*onset*', '*duration*', and '*trial_type*' columns."
   ]
  },
  {
   "cell_type": "markdown",
   "metadata": {},
   "source": [
    "### Predictors: Confounds"
   ]
  },
  {
   "cell_type": "markdown",
   "metadata": {},
   "source": [
    "Confounds represent fluctuations with a potential non-neuronal origin, such as head motion artifacts, scanner noise, and cardiac or respiratory effects. We can include them in the GLM as regressors of no interest to minimize the confounding effects of non-neuronal signals. fMRIPrep calculates a wide range of possible confounds. You can find detailed information in the [fMRIPrep documentation](https://fmriprep.org/en/stable/outputs.html#confounds).\n",
    "\n",
    "Which confounding variables you include in the GLM depends on the analysis you want to perform. The most well-established confounds are the six head-motion parameters (three rotations and three translations). If your dataset includes physiological recordings (e.g., heart rate, respiration), you might consider including these as confounds. If not, you might include PCA components from CompCor, a method implemented in fMRIPrep that identifies noise components from CSF and white matter signals. **However, please read the fMRIPrep documentation on confounds carefully before including any additional confounds, and never include all confounds in the GLM design matrix!**\n",
    "\n",
    "If your study has specific considerations (e.g., participant behavior or task-related noise), you may need to include additional custom confounds.\n",
    "\n",
    "The confounds computed by `fMRIPrep` can be found in the `data/derivatives/fmriprep/{sub}/func/` directory. They are stored separately for each run in `.tsv` files, with one column for each confound variable. Let's use `PyBIDS` to locate these files."
   ]
  },
  {
   "cell_type": "code",
   "execution_count": null,
   "metadata": {},
   "outputs": [],
   "source": [
    "confound_files = layout.get(\n",
    "    subject = sID, \n",
    "    datatype = 'func', \n",
    "    desc = 'confounds', \n",
    "    extension = \".tsv\", \n",
    "    return_type = 'filename'\n",
    ")\n",
    "\n",
    "print('Subject''s', sID, 'confound files:')\n",
    "print(*confound_files, sep='\\n')"
   ]
  },
  {
   "cell_type": "markdown",
   "metadata": {},
   "source": [
    "Let's get a list of all confounds of the first functional run. "
   ]
  },
  {
   "cell_type": "code",
   "execution_count": null,
   "metadata": {},
   "outputs": [],
   "source": [
    "confounds_run1 = pd.read_table(confound_files[0])\n",
    "\n",
    "print('Number of confounds in run 1:', len(list(confounds_run1)))\n",
    "print('Number of data points for ech confound:', len(confounds_run1), '\\n')\n",
    "#print(*list(confounds_run1), sep='\\n')\n",
    "confounds_run1\n"
   ]
  },
  {
   "cell_type": "markdown",
   "metadata": {},
   "source": [
    "In this example, we will include only the most commonly used confounds—the **six motion parameters**.\n",
    "\n",
    "Additionally, we need to include **a regressor for each dummy scan** (we had two in this case).\n",
    "\n",
    "**! Important**: If your data contains dummy scans and you specified this when running fMRIPrep, dummy scan confounds (non_steady_state_outlier##) will also be generated, and you must include them in your GLM! This ensures that the dummy volumes do not contribute to the parameter estimates.\n",
    "\n",
    "Since we had two dummy scans, we will include the two '*non_steady_state_outliers*' in our design."
   ]
  },
  {
   "cell_type": "code",
   "execution_count": 13,
   "metadata": {},
   "outputs": [],
   "source": [
    "confounds_of_interest = ['trans_x', 'trans_y', 'trans_z', 'rot_x', 'rot_y', 'rot_z', \n",
    "                         'non_steady_state_outlier00', 'non_steady_state_outlier01']\n"
   ]
  },
  {
   "cell_type": "markdown",
   "metadata": {},
   "source": [
    "Let's display the confounds of interest of the first run."
   ]
  },
  {
   "cell_type": "code",
   "execution_count": null,
   "metadata": {},
   "outputs": [],
   "source": [
    "confounds_run1[confounds_of_interest]"
   ]
  },
  {
   "cell_type": "markdown",
   "metadata": {},
   "source": [
    "Out of interest, we can use the `fit_transform` function again, which we previously used to extract an example voxel's time series, but this time, we'll include the confounds to regress them out from the data."
   ]
  },
  {
   "cell_type": "code",
   "execution_count": 15,
   "metadata": {},
   "outputs": [],
   "source": [
    "## This we used to extact the original time series:\n",
    "# coord_masker = NiftiSpheresMasker(\n",
    "#     MNI_coord, t_r=2, standardize='zscore'\n",
    "# )\n",
    "\n",
    "# coord_time_series = coord_masker.fit_transform(\n",
    "#   preproc_functional_files[0]\n",
    "#   )\n",
    "\n",
    "# Now we will extract the time series with the confounds of interest regressed out\n",
    "coord_time_series_no_confounds = coord_masker.fit_transform(\n",
    "  preproc_functional_files[0], \n",
    "  confounds = confounds_run1[confounds_of_interest]\n",
    "  )\n"
   ]
  },
  {
   "cell_type": "code",
   "execution_count": null,
   "metadata": {},
   "outputs": [],
   "source": [
    "# plot the time series with and without confounds\n",
    "plt.figure(figsize=(18, 6))\n",
    "\n",
    "plt.plot(coord_time_series, label='original time series', color='blue', linewidth=2)\n",
    "plt.plot(coord_time_series_no_confounds, label='time series without confounds', color='orange', linestyle='--', linewidth=2, alpha=0.8)\n",
    "\n",
    "plt.title(f\"run-01 {MNI_coord[0]} voxel time series with and without confounds\")\n",
    "plt.xlabel('Time (TRs)')\n",
    "plt.ylabel('BOLD signal (z-scored)')\n",
    "plt.legend()\n",
    "plt.show()"
   ]
  },
  {
   "cell_type": "markdown",
   "metadata": {},
   "source": [
    "We need to select the confounds of interest from the other eight runs as well. We will include the confounds of interest from each run in our GLM model by creating a list of confound tables."
   ]
  },
  {
   "cell_type": "code",
   "execution_count": 17,
   "metadata": {},
   "outputs": [],
   "source": [
    "confounds_for_glm = []\n",
    "for conf_file in confound_files:\n",
    "    this_conf = pd.read_table(conf_file)\n",
    "    conf_subset = this_conf[confounds_of_interest].fillna(0) # replace NaN with 0\n",
    "    confounds_for_glm.append(conf_subset)"
   ]
  },
  {
   "cell_type": "markdown",
   "metadata": {},
   "source": [
    "## Performing the GLM analysis\n",
    "\n",
    "Now we have the BOLD images, event files, and confounds for each of the 9 functional runs. Nilearn will analyse them together and **compute fixed-effects statistics for this subject**.\n",
    "\n",
    "Next, we will create and estimate a `FirstLevelModel` object, which **will generate our design matrix based on the inputs we have provided**."
   ]
  },
  {
   "cell_type": "markdown",
   "metadata": {},
   "source": [
    "### Creating the First Level Model"
   ]
  },
  {
   "cell_type": "markdown",
   "metadata": {},
   "source": [
    "Now we can specify the model with the parameters of our choice (see the [documentation](https://nilearn.github.io/stable/modules/generated/nilearn.glm.first_level.FirstLevelModel.html) for a full list of parameters). Here we will specify the folowing:\n",
    "* **t_r** - repetition time (the sampling interval of the functional runs) in seconds. We can get it from our BIDS layout."
   ]
  },
  {
   "cell_type": "code",
   "execution_count": null,
   "metadata": {},
   "outputs": [],
   "source": [
    "# Get the TR\n",
    "TR = layout.get_tr()\n",
    "print('TR:', TR)"
   ]
  },
  {
   "cell_type": "markdown",
   "metadata": {},
   "source": [
    "* **slice_time_ref**: *This parameter indicates the time of the reference slice used in the slice timing preprocessing step of the experimental runs. It is expressed as a percentage of the t_r (time repetition), so it can have values between 0. and 1. Default=0.* \n",
    "  \n",
    "  We can find this information in our fMRIPrep Methods (*data/derivatives/fmriprep/logs/CITATION.html*). There we read: *\"BOLD runs were slice-time corrected to 0.974s (0.5 of slice acquisition range 0s-1.95s)\"*. This means, that **0.5** is the value we need to use for this parameter. \n",
    "  \n",
    "  Alternativel, and perhaps preferably, we can obtain this information from the BIDS derivatives metadata. It also tells if the slice-time correction was performed at all. \n",
    "\n",
    "  `*data\\derivatives\\fmriprep\\sub-{sID}\\func\\sub-{sID}_task-facerecognition_run-{runID}_space-MNI152NLin2009cAsym_res-2_desc-preproc_bold.json*`\n",
    "  ```json\n",
    "    {\n",
    "      \"RepetitionTime\": 2,\n",
    "      \"SkullStripped\": false,\n",
    "      \"SliceTimingCorrected\": true,\n",
    "      \"StartTime\": 0.974,\n",
    "      \"TaskName\": \"faceprocessing\"\n",
    "    }\n",
    "```"
   ]
  },
  {
   "cell_type": "markdown",
   "metadata": {},
   "source": [
    "The metadata indicates that slice-time correction was applied, and the start time was adjusted from 0 to 0.974—representing the middle of the acquisition range."
   ]
  },
  {
   "cell_type": "code",
   "execution_count": null,
   "metadata": {},
   "outputs": [],
   "source": [
    "# If slice timing correction was applied, get the slice time reference\n",
    "slice_timing = layout.get_metadata(preproc_functional_files[0])\n",
    "if slice_timing['SliceTimingCorrected']:\n",
    "  slice_time_ref = slice_timing['StartTime'] / TR\n",
    "  print('Slice timing reference:', slice_time_ref)\n",
    "else:\n",
    "  slice_time_ref = 0\n",
    "  print('Slice timing correction was not applied')"
   ]
  },
  {
   "cell_type": "markdown",
   "metadata": {},
   "source": [
    "* **hrf_model**: defines the HRF model to be used. Possible options:\n",
    "  * `spm`: This is the HRF model used in SPM. \n",
    "  * `spm + derivative`: SPM model plus its time derivative. This gives 2 regressors.\n",
    "  * `spm + derivative + dispersion`: Idem, plus dispersion derivative. This gives 3 regressors.\n",
    "  * `glover`: This corresponds to the Glover HRF.\n",
    "  * `glover + derivative`: The Glover HRF + time derivative. This gives 2 regressors. \n",
    "  * `glover + derivative + dispersion`: Idem, plus dispersion derivative. This gives 3 regressors. \n",
    "  * `fir`: Finite impulse response basis. This is a set of delayed dirac models.\n",
    "\n",
    "It can also be a custom model. In this case, a function should be provided for each regressor.\n",
    "  \n",
    "The choice of the HRF model is up to the user. There's little difference between using the SPM or Glover model. It's advisable to include derivatives when there's some uncertainty in the timing information, as this can help identify timing problems more effectively.\n",
    "\n",
    "Let's see how, for example, SPM and Glover HRFs compare."
   ]
  },
  {
   "cell_type": "code",
   "execution_count": null,
   "metadata": {},
   "outputs": [],
   "source": [
    "# modeled time in seconds\n",
    "time_length = 32\n",
    "\n",
    "# Generate the HRF timecourses\n",
    "glover_timecourse = glover_hrf(TR, time_length=time_length)\n",
    "spm_timecourse = spm_hrf(TR, time_length=time_length)\n",
    "\n",
    "# Plot the timecourses\n",
    "timepoints = np.linspace(0, time_length, num=len(glover_timecourse))\n",
    "plt.plot(timepoints, glover_timecourse, label='Glover HRF', color='blue')\n",
    "plt.plot(timepoints, spm_timecourse, label='SPM HRF', color='red')\n",
    "plt.title('Comparison of Glover and SPM HRF Timecourses')\n",
    "plt.xlabel('Time (seconds)')\n",
    "plt.ylabel('HRF Amplitude (a.u.)')\n",
    "plt.legend()\n",
    "plt.grid(True)\n",
    "plt.show()"
   ]
  },
  {
   "cell_type": "markdown",
   "metadata": {},
   "source": [
    "* **drift_model**: Specifies the desired drift model for the design matrices. It can be '*polynomial*', '*cosine*', or *None*. The default is '*cosine*'. Additional nuisance regressors are added to the design matrix to account for low-frequency noise (such as scanner drift or physiological fluctuations) that are unlikely to come from the experimental conditions. \n",
    "* **high_pass**: Used only if drift_model is *'cosine'*. Default is 0.01 Hz (1/128 Hz). It defines the cutoff frequency for the cosine drift model, and cosine functions with frequencies lower than this threshold are added as drift regressors. This ensures that only higher-frequency components, typically associated with neural activity, remain unmodeled in the design matrix.\n",
    "* **smoothing_fwhm**: the full-width at half maximum in millimeters of the spatial smoothing to apply to the signal (smoothing was not done in fMRIPrep!).\n",
    "* **noise_model**: {‘ar1’, ‘ols’} The temporal variance model. Default=’ar1’."
   ]
  },
  {
   "cell_type": "code",
   "execution_count": 21,
   "metadata": {},
   "outputs": [],
   "source": [
    "first_level_model = FirstLevelModel(\n",
    "    t_r = TR,\n",
    "    slice_time_ref = slice_time_ref,\n",
    "    smoothing_fwhm = 6, # a rule of thumb is 3x the voxel size\n",
    "    hrf_model = 'glover', # default\n",
    "    drift_model = 'cosine', # default\n",
    "    high_pass = 0.01, # default; Used only if drift_model is ‘cosine’ to set its cutoff frequency\n",
    "    noise_model = 'ar1', # default\n",
    "    memory = 'FaceProcessing/scratch', # kernel kept dying without this; Path to the directory used to cache the masking process and the glm fit.\n",
    "    n_jobs = 2 # use two CPUs for computation\n",
    "   # mask_img = path_to_mask_image, # default is None and Nilearn will compute it\n",
    ")"
   ]
  },
  {
   "cell_type": "markdown",
   "metadata": {},
   "source": [
    "### Fitting the model\n",
    "\n",
    "Now that we have specified the model, we can run it on our data. We need to include the list of our functional image files, the list of event timing files, and the list of our confound tables (one per run)."
   ]
  },
  {
   "cell_type": "code",
   "execution_count": null,
   "metadata": {},
   "outputs": [],
   "source": [
    "first_level_model = first_level_model.fit(preproc_functional_files, event_files, confounds_for_glm)\n",
    "\n",
    "# If the kernel keeps dying here, then fit only the first two runs\n",
    "#first_level_model = first_level_model.fit(preproc_functional_files[:2], event_files[:2], confounds_for_glm[:2])\n",
    "\n",
    "# Remove the cashed directory\n",
    "!rm -rf FaceProcessing/scratch/joblib/"
   ]
  },
  {
   "cell_type": "code",
   "execution_count": 23,
   "metadata": {},
   "outputs": [],
   "source": [
    "# Remove the cashed directory\n",
    "!rm -rf FaceProcessing/scratch/joblib/"
   ]
  },
  {
   "cell_type": "markdown",
   "metadata": {},
   "source": [
    "### Inspecting the Design Matrix"
   ]
  },
  {
   "cell_type": "markdown",
   "metadata": {},
   "source": [
    "We can now inspect the design matrix of our GLM model (rows represent time, and columns contain the predictors).\n",
    "\n",
    "The `design_matrices` is a list of 9 tables (one per run). Let's look at the first run's design matrix."
   ]
  },
  {
   "cell_type": "code",
   "execution_count": null,
   "metadata": {},
   "outputs": [],
   "source": [
    "# get the design matrices from the glm model\n",
    "design_matrices = first_level_model.design_matrices_\n",
    "\n",
    "print('Design matrix for run', 1)\n",
    "plot_design_matrix(design_matrices[0], output_file=None)\n",
    "\n",
    "fig = plt.gcf()\n",
    "fig.set_size_inches(8,2)\n",
    "plt.show()"
   ]
  },
  {
   "cell_type": "markdown",
   "metadata": {},
   "source": [
    "It seems that one of the non-steady-state volumes 'spoils the image'. It's a good thing we are excluding them from our analysis.\n",
    "\n",
    "However, for visualisation purposes, let's exclude the two dummy regressors from our design matrix plot."
   ]
  },
  {
   "cell_type": "code",
   "execution_count": null,
   "metadata": {},
   "outputs": [],
   "source": [
    "# exclude the first two rows of the design matrix\n",
    "plot_design_matrix(design_matrices[0].iloc[2:], output_file=None)\n",
    "\n",
    "fig = plt.gcf()\n",
    "fig.set_size_inches(8,2)\n",
    "plt.show()"
   ]
  },
  {
   "cell_type": "markdown",
   "metadata": {},
   "source": [
    "Let’s also take a look at the data included in the design matrix."
   ]
  },
  {
   "cell_type": "code",
   "execution_count": null,
   "metadata": {},
   "outputs": [],
   "source": [
    "# display the design matrix of the first run\n",
    "design_matrices[0]"
   ]
  },
  {
   "cell_type": "markdown",
   "metadata": {},
   "source": [
    "You may notice that the values for FAMOUS_1 are somewhat different from the values in the event regressor `regressor_famous1` that we calculated earlier. This is because the onset time of the events is not 0, but 0.974, as you may have also noticed. **Why is that?**"
   ]
  },
  {
   "cell_type": "markdown",
   "metadata": {},
   "source": [
    "In the design matrix, we can observe several drift regressors. These are generated from the `drift_model` ('*cosine*') that we specified for our GLM model, capturing frequencies lower than the threshold set by the `high_pass` parameter. These regressors account for slow oscillations, which are unlikely to arise from our experimental conditions.\n",
    "\n",
    "Now, let's plot the event regressors alongside the low-frequency drift regressors to better visualise these concepts."
   ]
  },
  {
   "cell_type": "code",
   "execution_count": null,
   "metadata": {},
   "outputs": [],
   "source": [
    "dm = design_matrices[0]\n",
    "event_regressors = dm.columns[:9]\n",
    "drift_regressors = [col for col in dm.columns if col.startswith('drift_')]\n",
    "\n",
    "plt.figure(figsize=(18, 6))\n",
    "\n",
    "# Plot the predicted event responses\n",
    "for event in event_regressors:\n",
    "    plt.plot(dm.index, dm[event], lw=1)\n",
    "\n",
    "# Plot the modeled noise\n",
    "for drift in drift_regressors:\n",
    "    plt.plot(dm.index, dm[drift], color='grey', lw=1, linestyle='--')\n",
    "    \n",
    "plt.title('run-01 predicted event responses and modeled noise')\n",
    "plt.xlabel('Time (s)')\n",
    "plt.ylabel('Amplitude (a.u.)')\n",
    "\n",
    "plt.show()\n"
   ]
  },
  {
   "cell_type": "markdown",
   "metadata": {},
   "source": [
    "We can see how the low-frequency drifts differ in shape and timing from the event-related signals. This helps illustrate how the GLM separates task-related neural activity from unrelated noise.\n",
    "\n",
    "Ideally, the event regressors should not overlap much with the drift regressors. It's not a problem in our event-relighted design, but could be more problematic in slow block-designs. Significant overlap could suggest that some task-related variance is being captured by the noise model, reducing the sensitivity to detect neural signals."
   ]
  },
  {
   "cell_type": "markdown",
   "metadata": {},
   "source": [
    "Now, let's use the `fit_transform` function on our original example voxel's time series data. We will fit the nuisance regressors (motion and drift parameters, as well as dummy volumes) to the time series to remove the variance associated with these noise sources from the data.\n",
    "\n",
    "Next, let's plot this denoised time series against our predicted event responses. This will help visualise how well the model fits the data after accounting for nuisance factors. It provides an indication of how accurately the GLM captures the relationship between the experimental conditions and brain activity. A strong correspondence between the predicted responses and the denoised time series would suggest that the beta estimates are capturing meaningful signals related to the experimental conditions."
   ]
  },
  {
   "cell_type": "code",
   "execution_count": null,
   "metadata": {},
   "outputs": [],
   "source": [
    "nuiseance_regressors = design_matrices[0].columns[9:-1]\n",
    "print('Nuisance regressors:', nuiseance_regressors)\n",
    "\n",
    "# extract the time series with the nuiseance regressors regressed out                                                                   \n",
    "coord_time_series_denoised = coord_masker.fit_transform(\n",
    "  preproc_functional_files[0], \n",
    "  confounds = design_matrices[0][nuiseance_regressors]\n",
    "  )"
   ]
  },
  {
   "cell_type": "code",
   "execution_count": null,
   "metadata": {},
   "outputs": [],
   "source": [
    "# plot the regressors along the bold time series\n",
    "plt.figure(figsize=(18, 6))\n",
    "\n",
    "plt.plot(dm.index, coord_time_series_denoised, label='denoised BOLD signal', linewidth=2)\n",
    "\n",
    "# Plot the predicted event responses\n",
    "for event in event_regressors:\n",
    "    zscored_event = (dm[event] - dm[event].mean()) / dm[event].std()\n",
    "    plt.plot(dm.index, zscored_event, \n",
    "             color='orange', lw=1, alpha=0.8)\n",
    "    \n",
    "plt.plot([],[], label=\"predicted event response\", color='orange', lw=1, alpha=0.8)\n",
    "\n",
    "plt.title(f\"run-01 {MNI_coord[0]} voxel denoised BOLD signal and predictors\")\n",
    "plt.xlabel('Time (s)')\n",
    "plt.ylabel('z-scored values')\n",
    "plt.legend()"
   ]
  },
  {
   "cell_type": "markdown",
   "metadata": {},
   "source": [
    "To obtain the actual beta estimates, we need to specify contrasts. But before that, let's look at another output contained in the `first_level_model`—the estimated mask image. In our model specification, we didn’t specify a mask, although we could have, such as a grey matter mask to perform the GLM on grey matter voxels only, or the subject's functional brain mask from the fMRIPrep output. Since we didn’t provide one, Nilearn generated it automatically. Let’s take a look at how sensible it is and, for example, how it compares to the fMRIPrep mask."
   ]
  },
  {
   "cell_type": "code",
   "execution_count": null,
   "metadata": {},
   "outputs": [],
   "source": [
    "# Nilearn's generated mask\n",
    "glm_mask = first_level_model.masker_.mask_img_\n",
    "\n",
    "# Subjects brain mask from fmriprep\n",
    "fmriprep_run1_mask = layout.get(subject = sID, datatype = 'func', suffix = 'mask', extension = '.nii.gz')[0]\n",
    "\n",
    "# Plot the Nilearn's mask as a red overlay on the subject's anatomical image\n",
    "glm_mask_plot = plot_roi(\n",
    "  glm_mask, \n",
    "  bg_img=preprocessed_anatomical_file, \n",
    "  title=\"Nilearn's generated mask (red) and fMRIPrep's generated mask (yellow)\", \n",
    "  display_mode='ortho',\n",
    "  cmap='Set1', alpha=0.5)\n",
    "\n",
    "# Add the fmriprep mask as a yellow contour\n",
    "glm_mask_plot.add_contours(fmriprep_run1_mask, levels=[0.2], colors='y')\n",
    "\n",
    "# Note that the GLM mask is computed from all runs"
   ]
  },
  {
   "cell_type": "markdown",
   "metadata": {},
   "source": [
    "## Contrast specification\n",
    "\n",
    "A contrast is a linear combination of the beta estimates that allows us to test specific hypotheses about the experimental conditions. Each condition or regressor in the model is assigned a weight in the contrast, and these weights are combined to produce a contrast estimate.\n",
    "\n",
    "For example, to **compare two conditions** and test whether the mean activation in Condition A is greater than in Condition B, the contrast vector would be `c = [1, -1, 0, ...]`. Here, the 1 corresponds to Condition A, and the -1 corresponds to Condition B, indicating that we are comparing the two conditions. Zeros correspond to other conditions or regressors that are not part of the contrast. The resulting contrast estimate tests the difference between the beta estimates for these two conditions.\n",
    "\n",
    "You can also test **combinations of conditions** by assigning equal weights to multiple conditions. For example, to test whether the mean activation across two conditions (A and B) is greater than that in a third condition (C), the contrast vector would be `[0.5, 0.5, -1, 0, ...]`. This reflects an average of Conditions A and B compared to Condition C.\n",
    "\n",
    "If you are interested in testing **the effect of a single condition** against the baseline, the contrast would be `[1, 0, 0, ...]`, where the 1 refers to the condition of interest, and the zeros correspond to other conditions or regressors that are not part of the contrast.\n",
    "\n",
    "An **effects of interest** contrast is often used to assess the overall impact of all conditions or predictors of interest in the model. For effects of interest, a matrix-type contrast is used. This allows testing whether all conditions of interest, taken together, explain a significant amount of variance in the data. For example, if you have three conditions (A, B, C) and want to test whether they collectively explain significant variance, your matrix-type contrast would be:\n",
    "\n",
    " $c = \\begin{bmatrix} 1 & 0 & 0 \\\\ 0 & 1 & 0 \\\\ 0 & 0 & 1 \\end{bmatrix}$\n",
    "\n",
    " This type of contrast is commonly used in omnibus tests to determine whether any of the conditions have an effect, similar to an ANOVA in traditional statistics.\n"
   ]
  },
  {
   "cell_type": "markdown",
   "metadata": {},
   "source": [
    "### A simple case contrast"
   ]
  },
  {
   "cell_type": "code",
   "execution_count": null,
   "metadata": {},
   "outputs": [],
   "source": [
    "# Display all columns to know how to set up the contrasts\n",
    "design_matrices[0].head(0)"
   ]
  },
  {
   "cell_type": "markdown",
   "metadata": {},
   "source": [
    "A contrast must have the same length as the number of predictors in the design matrix."
   ]
  },
  {
   "cell_type": "code",
   "execution_count": 32,
   "metadata": {},
   "outputs": [],
   "source": [
    "# A simple case contrast\n",
    "\n",
    "n_columns = design_matrices[0].shape[1]  # Number of predictors in the model\n",
    "\n",
    "contrasts = {\n",
    "    'Faces_Scrambled': np.pad([1, 1, 1, -2, -2, -2, 1, 1, 1], (0, n_columns - 9), 'constant'),\n",
    "    'Famous_Unfamiliar': np.pad([1, 1, 1, 0, 0, 0, -1, -1, -1], (0, n_columns - 9), 'constant'),\n",
    "    'EffectsOfInterest': np.eye(n_columns)[:9]  \n",
    "}\n"
   ]
  },
  {
   "cell_type": "code",
   "execution_count": null,
   "metadata": {},
   "outputs": [],
   "source": [
    "# display the contrasts\n",
    "for key, values in contrasts.items():\n",
    "    plot_contrast_matrix(values, design_matrix=design_matrices[0])\n",
    "    plt.suptitle(key)\n",
    "\n",
    "plt.show()"
   ]
  },
  {
   "cell_type": "markdown",
   "metadata": {},
   "source": [
    "### Contrast scaling"
   ]
  },
  {
   "cell_type": "markdown",
   "metadata": {},
   "source": [
    "As mentioned earlier, a GLM contrast is a linear combination of predictor beta coefficients, where each beta represents the weight or contribution of a given predictor to the overall model.\n",
    "\n",
    "For example, if we have conditions (predictors): Famous, Unfamiliar, and Scrambled, a contrast estimating Faces vs. Scrambled with weights `[1, 1, -2]` would calculate Famous + Unfamiliar - 2 * Scrambled. This can be interpreted as the sum of the responses to Famous and Unfamiliar faces, minus twice the response to Scrambled faces. However, what we typically want is the average response to Famous and Unfamiliar faces minus the response to Scrambled faces. To achieve this, we would need to scale the contrast as follows: `[0.5, 0.5, -1]`.\n",
    "\n",
    "Scaling contrast weights affects the magnitude of the resulting contrast estimate, but not the t-values or p-values, so the statistical inference remains unchanged. However, contrast estimates that reflect averages rather than sums are generally more meaningful for interpretation.\n",
    "\n",
    "If we want to obtain beta estimates for each condition separately (e.g., a beta estimate for Famous, a beta estimate for Unfamiliar, etc.), and we have multiple functional runs, we need to scale the contrast to account for the number of runs to get the average beta across them. When scaled appropriately, we can report the result as a *'beta estimate'* rather than just a *'contrast estimate'*, since scaling allows the contrast to represent the average of the beta estimates. This average can then be interpreted directly as a beta estimate for the condition."
   ]
  },
  {
   "cell_type": "code",
   "execution_count": 34,
   "metadata": {},
   "outputs": [],
   "source": [
    "# A contrast scaling function, which scales for the number of conditions and runs\n",
    "\n",
    "def scale_contrast(contrast_vector, nruns):\n",
    "    positive_sum = np.sum(contrast_vector[contrast_vector > 0])  # Sum of positive weights\n",
    "    negative_sum = np.abs(np.sum(contrast_vector[contrast_vector < 0]))  # Sum of negative weights (absolute)\n",
    "    \n",
    "    # Scale each part of the vector separately\n",
    "    scaled_vector = np.zeros_like(contrast_vector, dtype=float)\n",
    "    scaled_vector[contrast_vector > 0] = contrast_vector[contrast_vector > 0] / (positive_sum * nruns)\n",
    "    scaled_vector[contrast_vector < 0] = contrast_vector[contrast_vector < 0] / (negative_sum * nruns)\n",
    "    \n",
    "    return scaled_vector"
   ]
  },
  {
   "cell_type": "code",
   "execution_count": null,
   "metadata": {},
   "outputs": [],
   "source": [
    "example_contrast = np.array([1, 1, 1, -2, -2, -2, 1, 1, 1])\n",
    "print('\\n Original contrast:\\n', example_contrast)\n",
    "print('\\n Scaled contrast for one run:\\n', scale_contrast(example_contrast, 1))\n",
    "print('\\n Scaled contrast for nine runs:\\n', scale_contrast(example_contrast, 9))"
   ]
  },
  {
   "cell_type": "markdown",
   "metadata": {},
   "source": [
    "### The final contrasts for our model\n",
    "\n",
    "In our model, we have 9 runs. If we have the same number of regressors, in the same order, in each run, we can specify the contrast for one run, and Nilearn will automatically reuse it for the other runs. However, to be cautious, it's advisable to define contrasts for each run separately. "
   ]
  },
  {
   "cell_type": "markdown",
   "metadata": {},
   "source": [
    "#### Scaled contrasts for comparing conditions"
   ]
  },
  {
   "cell_type": "code",
   "execution_count": null,
   "metadata": {},
   "outputs": [],
   "source": [
    "nruns = len(design_matrices)  # Number of runs\n",
    "\n",
    "comparison_contrast_list = []\n",
    "\n",
    "for design_matrix in design_matrices:\n",
    "  n_columns = design_matrix.shape[1]  # number of predictors\n",
    "\n",
    "  # Define the contrasts and scale them\n",
    "  contrasts = {\n",
    "      'Faces_Scrambled': scale_contrast(np.pad([1, 1, 1, -2, -2, -2, 1, 1, 1], (0, n_columns - 9), 'constant'), nruns),\n",
    "      'Famous_Unfamiliar': scale_contrast(np.pad([1, 1, 1, 0, 0, 0, -1, -1, -1], (0, n_columns - 9), 'constant'), nruns),\n",
    "      'EffectsOfInterest': np.eye(n_columns)[:9]  # No scaling needed here\n",
    "      }\n",
    "  \n",
    "  comparison_contrast_list.append(contrasts)\n",
    "\n",
    "len(comparison_contrast_list) # Should be one per run"
   ]
  },
  {
   "cell_type": "markdown",
   "metadata": {},
   "source": [
    "#### Scaled contrasts for each condition of interest\n",
    "\n",
    "Single-condition contrasts are useful for obtaining condition-specific beta estimates for further analysis. For example, in [group-level analysis](nb05_Group-Level-Analysis.ipynb), subject-level single-condition contrasts allow for more flexibility in combining or comparing conditions at the group level. Additionally, for [region-of interest (ROI) analysis](nb06_ROI_analysis.ipynb), single-condition beta estimates are often necessary to assess the specific effects of each condition within a defined region."
   ]
  },
  {
   "cell_type": "code",
   "execution_count": null,
   "metadata": {},
   "outputs": [],
   "source": [
    "# Create contrasts for all unique conditions\n",
    "events_df = pd.read_table(event_files[0])\n",
    "unique_conditions = events_df['trial_type'].unique()\n",
    "# sort the conditions\n",
    "unique_conditions.sort() # don't neccessarily need to sort them\n",
    "\n",
    "basic_contrast_list = [] # we will append these to the condition-comparing contrasts created above\n",
    "\n",
    "for design_matrix in design_matrices:\n",
    "    n_columns = design_matrix.shape[1]  # number of predictors\n",
    "    column_names = design_matrix.columns  # get the names of the columns\n",
    "    \n",
    "    # Create an empty dictionary to store contrasts for all conditions\n",
    "    contrasts = {}\n",
    "    \n",
    "    for condition in unique_conditions:\n",
    "        # Initialize the contrast vector with zeros\n",
    "        contrast_vector = np.zeros(n_columns)\n",
    "        \n",
    "        # Assign 1 to the columns that correspond to the current condition\n",
    "        for i, col_name in enumerate(column_names):\n",
    "            if col_name.startswith(condition):\n",
    "                contrast_vector[i] = 1/nruns # Scale the contrast for the number of runs\n",
    "        \n",
    "        # Store the contrast for the current condition\n",
    "        contrasts[condition] = contrast_vector    \n",
    "    \n",
    "    # Append all contrasts for this design matrix\n",
    "    basic_contrast_list.append(contrasts)\n",
    "    \n",
    "len(basic_contrast_list) # Should be one per run"
   ]
  },
  {
   "cell_type": "code",
   "execution_count": null,
   "metadata": {},
   "outputs": [],
   "source": [
    "for key, values in comparison_contrast_list[0].items():\n",
    "    plot_contrast_matrix(values, design_matrix=design_matrices[0])\n",
    "    plt.suptitle(key)\n",
    "\n",
    "plt.show()"
   ]
  },
  {
   "cell_type": "code",
   "execution_count": null,
   "metadata": {},
   "outputs": [],
   "source": [
    "for key, values in basic_contrast_list[0].items():\n",
    "    plot_contrast_matrix(values, design_matrix=design_matrices[0])\n",
    "    plt.suptitle(key)\n",
    "\n",
    "plt.show()"
   ]
  },
  {
   "cell_type": "markdown",
   "metadata": {},
   "source": [
    "## Computing contrasts and plotting result maps\n",
    "\n",
    "With Nilearn, you can compute the `effect size` maps, `t-statistics` maps, `z-scores` and some other types. See the [documentation](https://nilearn.github.io/dev/modules/generated/nilearn.glm.Contrast.html) for more information.\n",
    "\n",
    "'Effect size' maps correspond to the 'beta' (or contrast estimate) maps. These can be used, for example, to plot effect sizes (beta estimates) in ROI analysis (see examples in the [ROI analysis notebook](nb06_ROI_analysis.ipynb)), or as inputs for [group-level analysis](nb05_Group-Level-Analysis.ipynb). \n",
    "\n",
    "In the case of a single-subject analysis, let's look at z-scored maps for **Faces > Scrambled contrast**. "
   ]
  },
  {
   "cell_type": "code",
   "execution_count": null,
   "metadata": {},
   "outputs": [],
   "source": [
    "z_map = first_level_model.compute_contrast(\n",
    "    [c['Faces_Scrambled'] for c in comparison_contrast_list], \n",
    "    output_type = 'z_score'\n",
    ")\n",
    "\n",
    "# You can save the z_map to a file\n",
    "# z_map.to_filename('/path/to/output/z_map.nii.gz')"
   ]
  },
  {
   "attachments": {
    "4ba452b1-b52e-4070-85ad-02f09539dd29.webp": {
     "image/webp": "[encoded data removed]"
    }
   },
   "cell_type": "markdown",
   "metadata": {},
   "source": [
    "fMRI analyses involve thousands of voxel-wise comparisons, which increases the risk of false positives—famously illustrated by the case of the [\"Dead Salmon\"](https://teenspecies.github.io/pdfs/NeuralCorrelates.pdf).\n",
    "\n",
    "![fmri-salmon.webp](attachment:4ba452b1-b52e-4070-85ad-02f09539dd29.webp)\n",
    "\n",
    "Applying a threshold, particularly one that corrects for multiple comparisons (e.g., using Family-Wise Error (FWE) or False Discovery Rate (FDR) corrections), helps ensure that the displayed activations are statistically reliable. For more information on multiple comparisons correction, see [Rik’s Stats tutorial](../02_Statistics/cognestic_stats_python.ipynb)."
   ]
  },
  {
   "cell_type": "markdown",
   "metadata": {},
   "source": [
    "### Control the False Positive Rate\n",
    "\n",
    "A minimum recommendation in the fMRI analysis is to control the **False Positive Rate** (FPR) at a specific threshold, such as p < .001. This is referred to as 'uncorrected' because it does not account for the number of multiple comparisons, but it can still help reduce false positives to a reasonable level when applied conservatively."
   ]
  },
  {
   "cell_type": "code",
   "execution_count": null,
   "metadata": {},
   "outputs": [],
   "source": [
    "# Obtain the statistical threshold\n",
    "_, threshold_fpr = threshold_stats_img(\n",
    "    z_map, \n",
    "    alpha = .001, \n",
    "    height_control = 'fpr'\n",
    ")\n",
    "\n",
    "print('Uncorrected p<.001 threshold: %.3f' % threshold_fpr)\n",
    "\n",
    "# plot the thresholded map\n",
    "plot_stat_map(\n",
    "    z_map, \n",
    "    bg_img = preprocessed_anatomical_file, \n",
    "    threshold = threshold_fpr,\n",
    "    cut_coords=MNI_coord[0], # let's center the plot on our previously used example voxel\n",
    "    display_mode = 'ortho', \n",
    "    black_bg = True,\n",
    "    title = 'Faces > Scrambled  (p<.001, uncorrected)'\n",
    ")\n",
    "plt.show()"
   ]
  },
  {
   "cell_type": "markdown",
   "metadata": {},
   "source": [
    "### False Discovery Rate (FDR) correction\n",
    "\n",
    "A commonly used alternative to controlling the false positive rate is the **False Discovery Rate** (FDR) method, which addresses the expected proportion of false discoveries among all detected activations. However, in neuroimaging research, the appropriateness of FDR remains a topic of debate. While it is often preferred in exploratory or hypothesis-generating studies due to its balance between discovery and error control, it may be less suitable for confirmatory studies where stricter error control is required."
   ]
  },
  {
   "cell_type": "code",
   "execution_count": null,
   "metadata": {},
   "outputs": [],
   "source": [
    "_, threshold_fdr = threshold_stats_img(\n",
    "    z_map, \n",
    "    alpha = .05, \n",
    "    height_control = 'fdr'\n",
    ")\n",
    "\n",
    "print('FDR, p<.05 threshold: %.3f' % threshold_fdr)\n",
    "\n",
    "plot_stat_map(\n",
    "    z_map, \n",
    "    bg_img = preprocessed_anatomical_file, \n",
    "    threshold = threshold_fdr,\n",
    "    cut_coords=MNI_coord[0], # let's center the plot on our previously used example voxel\n",
    "    display_mode = 'ortho', \n",
    "    black_bg = True,\n",
    "    title = 'Faces > Scrambled  (p<.05, FDR corrected)'\n",
    ")\n",
    "plt.show()"
   ]
  },
  {
   "cell_type": "markdown",
   "metadata": {},
   "source": [
    "### Family Wise Error (FWE) correction"
   ]
  },
  {
   "cell_type": "markdown",
   "metadata": {},
   "source": [
    "A more conservative approach is to control the **Family-Wise Error** (FWE) rate, which represents the probability of making one or more false discoveries, or Type I errors, across all tests. This rate is typically set at 5%. The **Bonferroni correction** is a commonly used method to achieve this level of control and is also used in Nilearn. \n",
    "\n",
    "In Nilearn, Bonferroni correction is applied to the number of voxels. The Bonferroni correction, when applied directly to the number of voxels, is not appropriate for fMRI data. This is because neuroimaging data typically have spatially correlated data points, which violate the Bonferroni assumption of independent tests. As an alternative, neuroscientists have developed **Random Field Theory** (RFT). This method accounts for the spatial correlation by applying multiple comparison correction in a way that considers the smoothness of the data. Specifically, the correction is applied to the number of '***resels'*** (RESolution ELements), rather than the raw number of voxels. However, it's important to note that this **RFT-based approach is not implemented in Nilearn**. \n",
    "At the second-level analysis, Nilearn provides an option for non-parametric inference with permutation testing, which is a more suitable approach for fMRI data when considering the spatial correlation of voxels. "
   ]
  },
  {
   "cell_type": "code",
   "execution_count": null,
   "metadata": {},
   "outputs": [],
   "source": [
    "_, threshold_fwe = threshold_stats_img(\n",
    "    z_map, \n",
    "    alpha = .05, \n",
    "    height_control = 'bonferroni')\n",
    "\n",
    "print('Bonferroni-corrected, p<.05 threshold: %.3f' % threshold_fwe)\n",
    "\n",
    "plot_stat_map(\n",
    "    z_map, \n",
    "    bg_img = preprocessed_anatomical_file, \n",
    "    threshold = threshold_fwe,\n",
    "    cut_coords=MNI_coord[0], # let's center the plot on our previously used example voxel\n",
    "    display_mode = 'ortho', \n",
    "    black_bg = True,\n",
    "    title = 'Faces > Scrambled  (p<.05, FWE corrected)'\n",
    ")\n",
    "plt.show()"
   ]
  },
  {
   "cell_type": "markdown",
   "metadata": {},
   "source": [
    "### Cluster threshold"
   ]
  },
  {
   "cell_type": "markdown",
   "metadata": {},
   "source": [
    "It's a common practice to discard isolated voxels from the images. It is possible to generate a thresholded map with small clusters removed by providing a `cluster_threshold` argument. Here clusters smaller than `20` voxels will be discarded from the `fpr` corrected map."
   ]
  },
  {
   "cell_type": "code",
   "execution_count": null,
   "metadata": {},
   "outputs": [],
   "source": [
    "thresholded_map_fpr, threshold_fpr = threshold_stats_img(\n",
    "    z_map, \n",
    "    alpha = .001, \n",
    "    height_control='fpr', \n",
    "    cluster_threshold = 20\n",
    ")\n",
    "\n",
    "plot_stat_map(\n",
    "    thresholded_map_fpr, \n",
    "    bg_img = preprocessed_anatomical_file, \n",
    "    threshold = threshold_fpr,\n",
    "    cut_coords=MNI_coord[0], # let's center the plot on our previously used example voxel\n",
    "    display_mode = 'ortho', \n",
    "    black_bg = True, \n",
    "    colorbar = True,\n",
    "    title = 'Faces > Scrambled (p<.001, uncorrected, k=20'\n",
    ")\n",
    "plt.show()"
   ]
  },
  {
   "cell_type": "markdown",
   "metadata": {},
   "source": [
    "## The impact of first-level model parameters\n",
    "\n",
    "See the Nilearn tutorial for more examples on how the first_level parameters impact the results: https://nilearn.github.io/stable/auto_examples/04_glm_first_level/plot_first_level_details.html\n",
    "\n",
    "Here we will just compare our original model where we used Glover's HRF to a model SPM's HRF. "
   ]
  },
  {
   "cell_type": "markdown",
   "metadata": {},
   "source": [
    "### Model 1: Glover's HRF"
   ]
  },
  {
   "cell_type": "code",
   "execution_count": null,
   "metadata": {},
   "outputs": [],
   "source": [
    "\"\"\"\n",
    "fmri_glm = FirstLevelModel(\n",
    "    t_r = TR,\n",
    "    slice_time_ref = slice_time_ref,\n",
    "    smoothing_fwhm = 6,\n",
    "    hrf_model = 'glover',\n",
    "    drift_model = 'cosine', \n",
    "    high_pass = 0.01, \n",
    "    noise_model = 'ar1',\n",
    "    memory = 'FaceProcessing/scratch',\n",
    "    n_jobs = 2\n",
    ")\n",
    "\n",
    "fmri_glm = fmri_glm.fit(bold, events, confounds_glm)\n",
    "\n",
    "\"\"\""
   ]
  },
  {
   "cell_type": "code",
   "execution_count": 46,
   "metadata": {},
   "outputs": [],
   "source": [
    "model1_z_map = z_map\n",
    "model1_title = 'Glover HRF model, Faces > Scrambled'"
   ]
  },
  {
   "cell_type": "markdown",
   "metadata": {},
   "source": [
    "### Model 2: SPM's HRF"
   ]
  },
  {
   "cell_type": "code",
   "execution_count": null,
   "metadata": {},
   "outputs": [],
   "source": [
    "fmri_glm2 = FirstLevelModel(\n",
    "    t_r = TR,\n",
    "    slice_time_ref = slice_time_ref,\n",
    "    smoothing_fwhm = 6,\n",
    "    hrf_model = 'spm',\n",
    "    drift_model = 'cosine', \n",
    "    high_pass = 0.01, \n",
    "    noise_model = 'ar1',\n",
    "    memory = 'FaceProcessing/scratch', \n",
    "    n_jobs = 2\n",
    ")\n",
    "\n",
    "fmri_glm2 = fmri_glm2.fit(preproc_functional_files, event_files, confounds_for_glm)\n",
    "\n",
    "# fmri_glm2 = fmri_glm2.fit(preproc_functional_files[:2], event_files[:2], confounds_for_glm[:2])\n",
    "\n",
    "# Remove the cashed directory\n",
    "\n",
    "!rm -rf FaceProcessing/scratch/joblib/\n"
   ]
  },
  {
   "cell_type": "markdown",
   "metadata": {},
   "source": [
    "This model has the same regressors as model1, therefore we can use our original (model1) contrasts."
   ]
  },
  {
   "cell_type": "code",
   "execution_count": null,
   "metadata": {},
   "outputs": [],
   "source": [
    "model2_z_map = fmri_glm2.compute_contrast(\n",
    "  [c['Faces_Scrambled'] for c in comparison_contrast_list],\n",
    "  output_type='z_score')\n",
    "\n",
    "model2_title = 'SPM HRF model, Faces > Scrambled'"
   ]
  },
  {
   "cell_type": "markdown",
   "metadata": {},
   "source": [
    "### Plotting both models"
   ]
  },
  {
   "cell_type": "code",
   "execution_count": null,
   "metadata": {},
   "outputs": [],
   "source": [
    "z_maps = [model1_z_map, model2_z_map]\n",
    "titles = [model1_title, model2_title]\n",
    "\n",
    "for (z_map, title) in zip(z_maps, titles):\n",
    "    _, threshold = threshold_stats_img(z_map, alpha = .001, height_control = 'fpr')\n",
    "    plot_stat_map(\n",
    "      z_map, \n",
    "      bg_img = preprocessed_anatomical_file, \n",
    "      threshold = threshold,\n",
    "      display_mode = 'ortho', \n",
    "      cut_coords=MNI_coord[0], # let's center the plot on our previously used example voxel\n",
    "      black_bg = True,\n",
    "      title = title\n",
    "      )\n",
    "plt.show()"
   ]
  },
  {
   "cell_type": "markdown",
   "metadata": {},
   "source": [
    "## First Level for multiple subjects\n",
    "\n",
    "### A generic first-level analysis script\n",
    "\n",
    "Using a notebook like this is an effective method for preparing the final analysis script. Now, we can combine all the elements discussed into a unified, generic script that will conduct the first-level analysis.\n",
    "\n",
    "**Example of a generic first-level script**: [code-examples/first_level_script.py](code-examples/first_level_script.py)\n",
    "\n",
    "**Things to note:**\n",
    "* We are saving the result files in BIDS format so that they can be easily queried with PyBIDS for further analysis.\n",
    "* We are generating a *dataset_description.json* file for the result model, which is required to make the results directory BIDS-compatible. This file will also contain our model parameters, which is useful for understanding how the results were obtained.\n",
    "\n",
    "**Main steps:**\n",
    "1. Specify the input and output paths and the subject's ID. The input should be the BIDS dataset, which contains the derivatives folder with fmriprep's preprocessed data.\n",
    "2. Specify the subject's preprocessed functional, event, and confound files.\n",
    "3. Specify the confounds of interest.\n",
    "4. Specify the first-level model parameters and fit the model.\n",
    "5. Specify the contrasts (in this example, the contrasts include Faces > Scrambled, Effects of Interest, and single contrasts for each of the nine conditions).\n",
    "6. Compute the contrasts and save the results in BIDS format.\n",
    "7. Create the model's *dataset_description.json* file."
   ]
  },
  {
   "cell_type": "markdown",
   "metadata": {},
   "source": [
    "```python\n",
    "#!/usr/bin/env python3\n",
    "# -*- coding: utf-8 -*-\n",
    "# ======================================================================\n",
    "# Dace Apšvalka (MRC CBU 2024)\n",
    "# Subject-level fMRI analysis using Nilearn\n",
    "# \n",
    "# This script requres step08_first_level_analysis.sh, unless you define ds, sID, \n",
    "# and output here manually \n",
    "#\n",
    "# ======================================================================\n",
    "\n",
    "# ======================================================================\n",
    "# IMPORT REQUIRED PACKAGES\n",
    "# ======================================================================\n",
    "import os\n",
    "import sys\n",
    "import pandas as pd\n",
    "import numpy as np\n",
    "from bids.layout import BIDSLayout\n",
    "from nilearn.glm.first_level import FirstLevelModel\n",
    "import time\n",
    "import warnings\n",
    "warnings.filterwarnings(\"ignore\")\n",
    "\n",
    "# ======================================================================\n",
    "# DEFINE PATHS\n",
    "# arguments passed from step08_first_level_analysis.sh\n",
    "# ======================================================================\n",
    "\n",
    "ds = sys.argv[1] # dataset location\n",
    "sID = sys.argv[2].split(\"sub-\")[1] # subject id\n",
    "output = sys.argv[3]\n",
    "\n",
    "# ======================================================================\n",
    "print(\"Running first-level analysis for subject \" + sID)\n",
    "start_time = time.time()\n",
    "print(\"Started at: \" + time.strftime(\"%H:%M:%S\", time.localtime()))\n",
    "\n",
    "# ======================================================================\n",
    "# DEFINE PARAMETERS\n",
    "# =====================================================================\n",
    "model_name = 'first-level'\n",
    "\n",
    "bids_path = os.path.join(ds, 'data')\n",
    "\n",
    "outdir = os.path.join(output, model_name, 'sub-' + sID)\n",
    "if not os.path.exists(outdir):\n",
    "    os.makedirs(outdir)\n",
    "\n",
    "print(\"BIDS data location: \" + bids_path)\n",
    "print(\"Output directory: \" + outdir)\n",
    "\n",
    "# ======================================================================\n",
    "# PERFORM SUBJECT LEVEL GLM ANALYSIS\n",
    "# ======================================================================\n",
    "\n",
    "# --- Initialize the BIDS layout and include the derivatives in it\n",
    "layout = BIDSLayout(bids_path, derivatives=True)\n",
    "\n",
    "# --- Get the preprocessed functional files\n",
    "bold = layout.get(\n",
    "    subject=sID, \n",
    "    datatype='func', \n",
    "    space='MNI152NLin2009cAsym', \n",
    "    desc='preproc', \n",
    "    extension='.nii.gz',\n",
    "    return_type='filename'\n",
    "    )\n",
    "print(\"Found \" + str(len(bold)) + \" preprocessed functional files\")\n",
    "\n",
    "# --- Get the event files\n",
    "events = layout.get(\n",
    "    subject=sID, \n",
    "    datatype='func', \n",
    "    suffix='events', \n",
    "    extension=\".tsv\", \n",
    "    return_type='filename'\n",
    "    )\n",
    "print(\"Found \" + str(len(events)) + \" event files\")\n",
    "\n",
    "# --- Get the confounds and select which ones to include in the design\n",
    "confounds = layout.get(\n",
    "    subject=sID, \n",
    "    datatype='func', \n",
    "    desc='confounds', \n",
    "    extension=\".tsv\", \n",
    "    return_type='filename'\n",
    "    )\n",
    "print(\"Found \" + str(len(confounds)) + \" confounds files\")\n",
    "\n",
    "# --- Define which confounds to include in the GLM\n",
    "confounds_of_interest = ['trans_x', 'trans_y', 'trans_z', 'rot_x', 'rot_y', 'rot_z', \n",
    "                         'non_steady_state_outlier00', 'non_steady_state_outlier01']\n",
    "\n",
    "# --- For each run, load the confounds and select the ones of interest\n",
    "confounds_glm = []\n",
    "for conf_file in confounds:\n",
    "    this_conf = pd.read_table(conf_file)\n",
    "    # only include the confounds of interest that are present in the file\n",
    "    confounds_of_interest = [conf for conf in confounds_of_interest if conf in this_conf.columns]\n",
    "    # select the confounds of interest and fill NaN with 0    \n",
    "    conf_subset = this_conf[confounds_of_interest].fillna(0) # replace NaN with 0\n",
    "    confounds_glm.append(conf_subset)\n",
    "\n",
    "# --- Get the TR value\n",
    "TR = layout.get_tr()\n",
    "\n",
    "# --- If slice timing correction was applied, get the slice time reference\n",
    "slice_timing = layout.get_metadata(bold[0])\n",
    "if slice_timing['SliceTimingCorrected']:\n",
    "  slice_time_ref = slice_timing['StartTime'] / TR\n",
    "else:\n",
    "  slice_time_ref = 0\n",
    "\n",
    "# --- Define the GLM model\n",
    "fmri_glm = FirstLevelModel(\n",
    "    t_r = TR,\n",
    "    slice_time_ref = slice_time_ref, \n",
    "    hrf_model = 'glover',\n",
    "    drift_model = 'cosine',\n",
    "    high_pass = 0.01,\n",
    "    noise_model = 'ar1',\n",
    "    smoothing_fwhm = 6\n",
    "    )\n",
    "\n",
    "# --- Fit the model\n",
    "fmri_glm = fmri_glm.fit(bold, events, confounds_glm)\n",
    "\n",
    "# --- Get the design matrices\n",
    "design_matrices = fmri_glm.design_matrices_\n",
    "\n",
    "# --- Create contrasts \n",
    "events_df = pd.read_table(events[0])\n",
    "unique_conditions = events_df['trial_type'].unique()\n",
    "\n",
    "contrast_list = []\n",
    "nruns = len(design_matrices)\n",
    "\n",
    "for design_matrix in design_matrices:\n",
    "    n_columns = design_matrix.shape[1]  # number of predictors in the model\n",
    "    column_names = design_matrix.columns  # get the names of the columns\n",
    "    \n",
    "    # Create an empty dictionary to store contrasts for all conditions\n",
    "    contrasts = {}\n",
    "    \n",
    "    # ------------------------------------------------------------------\n",
    "    # Create a contrast vector for each condition\n",
    "    # ------------------------------------------------------------------\n",
    "    for condition in unique_conditions:\n",
    "        # Initialize the contrast vector with zeros\n",
    "        contrast_vector = np.zeros(n_columns)\n",
    "        \n",
    "        # Assign 1 to the columns that correspond to the current condition and scale by the number of runs\n",
    "        for i, col_name in enumerate(column_names):\n",
    "            if col_name.startswith(condition):\n",
    "                contrast_vector[i] = 1/nruns\n",
    "        \n",
    "        # Store the contrast for the current condition\n",
    "        contrasts[condition] = contrast_vector\n",
    "        \n",
    "    # ------------------------------------------------------------------\n",
    "    # Create contrast for Faces > Scrambled\n",
    "    # ------------------------------------------------------------------\n",
    "    # Calculate the number of \"Faces\" and \"Scrambled\" conditions\n",
    "    num_faces = sum(1 for col_name in column_names if col_name.startswith(('FAMOUS', 'UNFAMILIAR')))\n",
    "    num_scrambled = sum(1 for col_name in column_names if col_name.startswith('SCRAMBLED'))\n",
    "    \n",
    "    # Initialize the contrast vector with zeros\n",
    "    contrast_vector = np.zeros(n_columns)\n",
    "    \n",
    "    # Assign weights to the contrast vector\n",
    "    for i, col_name in enumerate(column_names):\n",
    "        if col_name.startswith(('FAMOUS', 'UNFAMILIAR')):\n",
    "            contrast_vector[i] = 1 / num_faces /nruns # weigh the faces conditions\n",
    "        elif col_name.startswith('SCRAMBLED'):\n",
    "            contrast_vector[i] = -1 / num_scrambled/nruns  # weigh the scrambled conditions\n",
    "    \n",
    "    contrasts['Faces_Scrambled'] = contrast_vector\n",
    "    \n",
    "    # ------------------------------------------------------------------\n",
    "    # Create effects of interest contrast\n",
    "    # ------------------------------------------------------------------\n",
    "    contrasts['EffectsOfInterest'] = np.eye(n_columns)[:len(unique_conditions)]\n",
    "    \n",
    "    # Append all contrasts for this design matrix\n",
    "    contrast_list.append(contrasts)\n",
    "    \n",
    "# --- Compute the contrasts and save the results\n",
    "for contrast_id in contrast_list[0].keys():   \n",
    "    if contrast_id == 'EffectsOfInterest':\n",
    "        stats = 'z_score' \n",
    "    else:\n",
    "        stats = 'effect_size'\n",
    "    stats_map = fmri_glm.compute_contrast(\n",
    "        [c[contrast_id] for c in contrast_list], \n",
    "        output_type = stats)\n",
    "    # Save results following BIDS standart\n",
    "    res_name = os.path.basename(bold[0]).split(\"run\")[0]\n",
    "    # from stats get only the part before _ for the BIDS file name\n",
    "    stats_suffix = stats.split(\"_\")[0]\n",
    "    # in contrast_id remove underscores\n",
    "    contrast_id = contrast_id.replace(\"_\", \"\")\n",
    "    # Save the result\n",
    "    stats_map.to_filename(os.path.join(outdir, res_name + 'desc-' + contrast_id + '_' + stats_suffix + '.nii.gz'))\n",
    "\n",
    "# ======================================================================\n",
    "# CREATE THIS MODEL'S dataset_description.json FILE\n",
    "# This is needed to use the results directory as BIDS data. \n",
    "# We will save our model parameters in the file as well, which is very useful.\n",
    "# ======================================================================\n",
    "\n",
    "jason_file = os.path.join(output, model_name, \"dataset_description.json\")\n",
    "\n",
    "if not os.path.exists(jason_file):\n",
    "    import json\n",
    "    import datetime\n",
    "    from importlib.metadata import version\n",
    "\n",
    "    bids_version = layout.get_dataset_description()['BIDSVersion']\n",
    "    nilearn_version = version('nilearn')\n",
    "    date_created = datetime.datetime.now()\n",
    "    \n",
    "    # Data to be written\n",
    "    content = {\n",
    "        \"Name\": \"First-level GLM analysis\",\n",
    "        \"BIDSVersion\": bids_version,\n",
    "        \"DatasetType\": \"results\",\n",
    "        \"GeneratedBy\": [\n",
    "            {\n",
    "                \"Name\": \"Nilearn\",\n",
    "                \"Version\": nilearn_version,\n",
    "                \"CodeURL\": \"https://nilearn.github.io\"\n",
    "            }\n",
    "        ],    \n",
    "        \"Date\": date_created,\n",
    "        \"ConfoundsIncluded\": confounds_of_interest,\n",
    "        \"FirstLevelModel\": [\n",
    "            fmri_glm.get_params()\n",
    "        ], \n",
    "    }\n",
    "    \n",
    "    # Serializing json\n",
    "    json_object = json.dumps(content, indent=4, default=str)\n",
    "    \n",
    "    # Writing to .json\n",
    "    with open(jason_file, \"w\") as outfile:\n",
    "        outfile.write(json_object)\n",
    "\n",
    "# ======================================================================\n",
    "print(\"Finished first-level analysis for subject \" + sID)\n",
    "print(\"Finished at: \" + time.strftime(\"%H:%M:%S\", time.localtime()))\n",
    "print(\"Processing time: \" + str(round((time.time() - start_time)/60, 2)) + \" minutes\")\n",
    "\n",
    "```"
   ]
  },
  {
   "cell_type": "markdown",
   "metadata": {},
   "source": [
    "### Processing multiple subjects in paralel\n",
    "\n",
    "#### **Using `SLURM`**\n",
    "  \n",
    "If `SLURM `is available on the system, you can create a project-specific script where you define the paths and use the `sbatch` command to execute the generic script for each subject in parallel using.\n",
    "\n",
    "**Example script**: [step08_first_level_analysis.sh](code-examples/step08_first_level_analysis.sh)\n",
    "\n",
    "If `SLURM` is not available, you can still process multiple subjects in parallel using alternative methods depending on the system you're working with.\n",
    "  \n",
    "#### **Using Python's `multiprocessing` Module**\n",
    "  \n",
    "Python's `multiprocessing` module allows you to run processes in parallel on your local machine, distributing the workload across multiple CPU cores. An advantage is that it can be run on a single machine without needing a cluster or SLURM. A disatvantage is that it is limited by the local resources (RAM, CPU), and not ideal for very large datasets or many subjects.\n",
    "Here is an example how you could use the `multiprocessing` module:\n",
    "\n",
    "```python\n",
    "import multiprocessing as mp\n",
    "import os\n",
    "\n",
    "# Define a function to process a single subject\n",
    "def process_subject(subject_id, dataset_location, output_dir):\n",
    "    # Execute the first-level script with the appropriate arguments\n",
    "    os.system(f\"python first_level_script.py {dataset_location} sub-{subject_id} {output_dir}\")\n",
    "\n",
    "# Define the dataset location and output directory\n",
    "dataset_location = \"/path/to/bids_dataset\"\n",
    "output_dir = \"/path/to/output\"\n",
    "\n",
    "# List of subject IDs\n",
    "subjects = ['01', '02', '03', '04', '05', '06', '07', '08', '09', '10', '11', '12', '13', '14', '15', '16']\n",
    "# subjects = [f\"{i:02d}\" for i in range(1, 17)]\n",
    "\n",
    "# Create a pool of processes using the available CPU cores\n",
    "if __name__ == '__main__':\n",
    "    pool = mp.Pool(mp.cpu_count())  # Use all available CPU cores\n",
    "\n",
    "    # Use pool.starmap to pass multiple arguments to the process_subject function\n",
    "    pool.starmap(process_subject, [(subject, dataset_location, output_dir) for subject in subjects])\n",
    "\n",
    "    # Close the pool and wait for the processes to complete\n",
    "    pool.close()\n",
    "    pool.join()\n",
    "\n",
    "  ```\n",
    "\n",
    "#### **Using Cloud Services**\n",
    "  \n",
    "If you don’t have SLURM or a powerful local machine, cloud computing platforms (e.g., AWS, Google Cloud, Microsoft Azure) allow you to run parallel processes with scalable resources. You can set up virtual machines or use a service like AWS Batch or Google Cloud Dataflow to handle parallel jobs across multiple subjects. However, it requires cloud expertise and comes with costs."
   ]
  },
  {
   "cell_type": "markdown",
   "metadata": {},
   "source": []
  }
 ],
 "metadata": {
  "kernelspec": {
   "display_name": "Python 3 (ipykernel)",
   "language": "python",
   "name": "python3"
  },
  "language_info": {
   "codemirror_mode": {
    "name": "ipython",
    "version": 3
   },
   "file_extension": ".py",
   "mimetype": "text/x-python",
   "name": "python",
   "nbconvert_exporter": "python",
   "pygments_lexer": "ipython3",
   "version": "3.11.9"
  },
  "toc": {
   "base_numbering": 1,
   "nav_menu": {},
   "number_sections": true,
   "sideBar": true,
   "skip_h1_title": false,
   "title_cell": "Table of Contents",
   "title_sidebar": "Contents",
   "toc_cell": false,
   "toc_position": {
    "height": "calc(100% - 180px)",
    "left": "10px",
    "top": "150px",
    "width": "280.767px"
   },
   "toc_section_display": true,
   "toc_window_display": true
  },
  "varInspector": {
   "cols": {
    "lenName": 16,
    "lenType": 16,
    "lenVar": 40
   },
   "kernels_config": {
    "python": {
     "delete_cmd_postfix": "",
     "delete_cmd_prefix": "del ",
     "library": "var_list.py",
     "varRefreshCmd": "print(var_dic_list())"
    },
    "r": {
     "delete_cmd_postfix": ") ",
     "delete_cmd_prefix": "rm(",
     "library": "var_list.r",
     "varRefreshCmd": "cat(var_dic_list()) "
    }
   },
   "position": {
    "height": "874.85px",
    "left": "2183px",
    "right": "20px",
    "top": "116px",
    "width": "350px"
   },
   "types_to_exclude": [
    "module",
    "function",
    "builtin_function_or_method",
    "instance",
    "_Feature"
   ],
   "window_display": false
  }
 },
 "nbformat": 4,
 "nbformat_minor": 4
}
