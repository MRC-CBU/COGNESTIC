{
 "cells": [
  {
   "cell_type": "code",
   "execution_count": null,
   "id": "935e0162-4ec3-42df-8e03-a0037b887280",
   "metadata": {},
   "outputs": [],
   "source": [
    "import subprocess\n",
    "\n",
    "#subject code to be used in this example\n",
    "sub='CBU130685'\n",
    "\n",
    "#set up the command to run freesurfer\n",
    "\n",
    "command = (\n",
    "    'export SUBJECTS_DIR=/home/cognestic/COGNESTIC/03_Structural_MRI/CorticalThickness/LiveDemo/FS_SUBJECTS_DIR; '\n",
    "    f'recon-all -i bids/sub-{sub}/anat/{sub}_CBU_MPRAGE_32chn_20130720140423_3.nii '\n",
    "    f'-subject sub_{sub} '\n",
    "    '-all'\n",
    ")\n",
    "\n",
    "\n",
    "# Execute the command\n",
    "try:\n",
    "    result = subprocess.run(command, shell=True, check=True, text=True, stdout=subprocess.PIPE, stderr=subprocess.PIPE)\n",
    "    print('recon-all completed successfully.')\n",
    "except subprocess.CalledProcessError as e:\n",
    "    print(f\"An error occurred: {e}\")\n",
    "    print(\"Output:\\n\", e.stdout)\n",
    "    print(\"Errors:\\n\", e.stderr)"
   ]
  }
 ],
 "metadata": {
  "kernelspec": {
   "display_name": "Python (mri)",
   "language": "python",
   "name": "mri"
  },
  "language_info": {
   "codemirror_mode": {
    "name": "ipython",
    "version": 3
   },
   "file_extension": ".py",
   "mimetype": "text/x-python",
   "name": "python",
   "nbconvert_exporter": "python",
   "pygments_lexer": "ipython3",
   "version": "3.11.9"
  }
 },
 "nbformat": 4,
 "nbformat_minor": 5
}
